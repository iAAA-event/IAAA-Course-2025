{
 "cells": [
  {
   "cell_type": "markdown",
   "id": "bcfa488a",
   "metadata": {},
   "source": [
    "# 🔢 NumPy Workshop — Linear Algebra Foundations (Student Edition)\n",
    "\n",
    "Welcome! This notebook teaches **NumPy** for linear algebra — the mathematical foundation of machine learning.  \n",
    "We will connect concepts from linear algebra (vectors, matrices, determinants, rank, eigenvalues, etc.) to **practical NumPy code**.\n",
    "\n",
    "### What we'll learn\n",
    "- NumPy basics: arrays, shapes, dtypes\n",
    "- Vectors: creation, arithmetic, dot product, cosine similarity\n",
    "- Matrices: creation, transpose, addition, multiplication\n",
    "- Linear transformations with matrices\n",
    "- Rank, determinant, inverse\n",
    "- Solving linear systems\n",
    "- Eigenvalues & eigenvectors\n",
    "- Singular Value Decomposition (SVD)\n",
    "- Practice exercises + worked solutions\n",
    "\n",
    "---\n"
   ]
  },
  {
   "cell_type": "markdown",
   "id": "c2ad7f0b",
   "metadata": {},
   "source": [
    "## 0) Setup\n",
    "\n",
    "**Goal:** Import NumPy and check environment versions.\n",
    "\n",
    "**What this does:**\n",
    "- Imports `numpy` and sets alias `np`\n",
    "- Prints NumPy version for consistency\n"
   ]
  },
  {
   "cell_type": "code",
   "execution_count": 1,
   "id": "ae7515d6",
   "metadata": {},
   "outputs": [
    {
     "name": "stdout",
     "output_type": "stream",
     "text": [
      "NumPy version: 2.3.2\n"
     ]
    }
   ],
   "source": [
    "import numpy as np\n",
    "\n",
    "print(\"NumPy version:\", np.__version__)\n"
   ]
  },
  {
   "cell_type": "markdown",
   "id": "7e8f581b",
   "metadata": {},
   "source": [
    "## 1) NumPy arrays basics\n",
    "\n",
    "**Goal:** Understand how to create arrays, check shape, and dtype.\n",
    "\n",
    "**What this does:**\n",
    "- Creates 1D, 2D, and 3D arrays\n",
    "- Prints shape (dimensions) and dtype (data type)\n"
   ]
  },
  {
   "cell_type": "code",
   "execution_count": 2,
   "id": "c02a519e",
   "metadata": {},
   "outputs": [
    {
     "name": "stdout",
     "output_type": "stream",
     "text": [
      "a: [1 2 3] shape: (3,)\n",
      "b:\n",
      " [[1 2]\n",
      " [3 4]] shape: (2, 2)\n",
      "c:\n",
      " [[1. 1. 1.]\n",
      " [1. 1. 1.]] dtype: float64\n",
      "d shape: (2, 2, 2)\n"
     ]
    }
   ],
   "source": [
    "# Create arrays\n",
    "a = np.array([1, 2, 3])           # 1D vector\n",
    "b = np.array([[1, 2], [3, 4]])    # 2D matrix\n",
    "c = np.ones((2, 3))               # 2D matrix filled with ones\n",
    "d = np.random.rand(2, 2, 2)       # 3D tensor\n",
    "\n",
    "print(\"a:\", a, \"shape:\", a.shape)\n",
    "print(\"b:\\n\", b, \"shape:\", b.shape)\n",
    "print(\"c:\\n\", c, \"dtype:\", c.dtype)\n",
    "print(\"d shape:\", d.shape)\n"
   ]
  },
  {
   "cell_type": "markdown",
   "id": "7876b7b5",
   "metadata": {},
   "source": [
    "## 2) Vectors\n",
    "\n",
    "**Goal:** Perform basic vector operations.\n",
    "\n",
    "**What this does:**\n",
    "- Creates 1D arrays (vectors)\n",
    "- Demonstrates addition, subtraction, scalar multiplication\n",
    "- Computes dot product and cosine similarity\n"
   ]
  },
  {
   "cell_type": "code",
   "execution_count": 3,
   "id": "b256e3f9",
   "metadata": {},
   "outputs": [
    {
     "name": "stdout",
     "output_type": "stream",
     "text": [
      "v1 + v2 = [5 7 9]\n",
      "v1 - v2 = [-3 -3 -3]\n",
      "2 * v1 = [2 4 6]\n",
      "Dot product = 32\n",
      "Cosine similarity = 0.9746318461970762\n"
     ]
    }
   ],
   "source": [
    "# Define two vectors\n",
    "v1 = np.array([1, 2, 3])\n",
    "v2 = np.array([4, 5, 6])\n",
    "\n",
    "# Basic operations\n",
    "print(\"v1 + v2 =\", v1 + v2)\n",
    "print(\"v1 - v2 =\", v1 - v2)\n",
    "print(\"2 * v1 =\", 2 * v1)\n",
    "\n",
    "# Dot product\n",
    "dot = np.dot(v1, v2)\n",
    "print(\"Dot product =\", dot)\n",
    "\n",
    "# Cosine similarity\n",
    "cos_sim = dot / (np.linalg.norm(v1) * np.linalg.norm(v2))\n",
    "print(\"Cosine similarity =\", cos_sim)\n"
   ]
  },
  {
   "cell_type": "markdown",
   "id": "31270266",
   "metadata": {},
   "source": [
    "## 3) Matrices\n",
    "\n",
    "**Goal:** Work with 2D arrays (matrices).\n",
    "\n",
    "**What this does:**\n",
    "- Creates a matrix\n",
    "- Computes transpose\n",
    "- Performs matrix addition and multiplication\n"
   ]
  },
  {
   "cell_type": "code",
   "execution_count": 4,
   "id": "4fbf81a2",
   "metadata": {},
   "outputs": [
    {
     "name": "stdout",
     "output_type": "stream",
     "text": [
      "Matrix A:\n",
      " [[1 2]\n",
      " [3 4]]\n",
      "Transpose of A:\n",
      " [[1 3]\n",
      " [2 4]]\n",
      "A + B:\n",
      " [[ 6  8]\n",
      " [10 12]]\n",
      "A @ B:\n",
      " [[19 22]\n",
      " [43 50]]\n"
     ]
    }
   ],
   "source": [
    "# Create two matrices\n",
    "A = np.array([[1, 2], [3, 4]])\n",
    "B = np.array([[5, 6], [7, 8]])\n",
    "\n",
    "print(\"Matrix A:\\n\", A)\n",
    "print(\"Transpose of A:\\n\", A.T)\n",
    "\n",
    "# Addition\n",
    "print(\"A + B:\\n\", A + B)\n",
    "\n",
    "# Matrix multiplication\n",
    "print(\"A @ B:\\n\", A @ B)\n"
   ]
  },
  {
   "cell_type": "markdown",
   "id": "83568aae",
   "metadata": {},
   "source": [
    "## 4) Linear transformations\n",
    "\n",
    "**Goal:** Show how matrices transform vectors.\n",
    "\n",
    "**What this does:**\n",
    "- Defines a 2D rotation matrix (90°)\n",
    "- Applies it to a vector\n",
    "- Interprets the result as rotation in the plane\n"
   ]
  },
  {
   "cell_type": "code",
   "execution_count": 5,
   "id": "c229c97b",
   "metadata": {},
   "outputs": [
    {
     "name": "stdout",
     "output_type": "stream",
     "text": [
      "Original vector: [1 0]\n",
      "Rotated vector: [6.123234e-17 1.000000e+00]\n"
     ]
    }
   ],
   "source": [
    "# Define a 90-degree rotation matrix\n",
    "theta = np.pi / 2\n",
    "R = np.array([[np.cos(theta), -np.sin(theta)],\n",
    "              [np.sin(theta),  np.cos(theta)]])\n",
    "\n",
    "vec = np.array([1, 0])\n",
    "\n",
    "print(\"Original vector:\", vec)\n",
    "print(\"Rotated vector:\", R @ vec)\n"
   ]
  },
  {
   "cell_type": "markdown",
   "id": "a4915125",
   "metadata": {},
   "source": [
    "## 5) Rank and determinant\n",
    "\n",
    "**Goal:** Learn matrix properties related to invertibility and independence.\n",
    "\n",
    "**What this does:**\n",
    "- Uses `np.linalg.matrix_rank` to compute rank\n",
    "- Uses `np.linalg.det` to compute determinant\n"
   ]
  },
  {
   "cell_type": "code",
   "execution_count": 6,
   "id": "5f3e7b28",
   "metadata": {},
   "outputs": [
    {
     "name": "stdout",
     "output_type": "stream",
     "text": [
      "Matrix M:\n",
      " [[2 4]\n",
      " [1 2]]\n",
      "Rank: 1\n",
      "Determinant: 0.0\n"
     ]
    }
   ],
   "source": [
    "M = np.array([[2, 4], [1, 2]])  # Second row is 0.5 * first row\n",
    "\n",
    "print(\"Matrix M:\\n\", M)\n",
    "print(\"Rank:\", np.linalg.matrix_rank(M))\n",
    "print(\"Determinant:\", np.linalg.det(M))\n"
   ]
  },
  {
   "cell_type": "markdown",
   "id": "d23b1b17",
   "metadata": {},
   "source": [
    "## 6) Inverse & solving linear systems\n",
    "\n",
    "**Goal:** Use NumPy to invert matrices and solve equations.\n",
    "\n",
    "**What this does:**\n",
    "- Uses `np.linalg.inv` to compute matrix inverse\n",
    "- Solves Ax = b using `np.linalg.solve`\n"
   ]
  },
  {
   "cell_type": "code",
   "execution_count": 7,
   "id": "6144d1aa",
   "metadata": {},
   "outputs": [
    {
     "name": "stdout",
     "output_type": "stream",
     "text": [
      "Inverse of A:\n",
      " [[ 0.4 -0.2]\n",
      " [-0.2  0.6]]\n",
      "Solution x: [2. 3.]\n"
     ]
    }
   ],
   "source": [
    "A = np.array([[3, 1], [1, 2]])\n",
    "b = np.array([9, 8])\n",
    "\n",
    "# Inverse\n",
    "A_inv = np.linalg.inv(A)\n",
    "print(\"Inverse of A:\\n\", A_inv)\n",
    "\n",
    "# Solve Ax = b\n",
    "x = np.linalg.solve(A, b)\n",
    "print(\"Solution x:\", x)\n"
   ]
  },
  {
   "cell_type": "markdown",
   "id": "010076c1",
   "metadata": {},
   "source": [
    "## 7) Eigenvalues & eigenvectors\n",
    "\n",
    "**Goal:** Find directions that remain unchanged under a matrix transformation.\n",
    "\n",
    "**What this does:**\n",
    "- Uses `np.linalg.eig` to compute eigenvalues and eigenvectors\n",
    "- Interprets them as scaling factors and invariant directions\n"
   ]
  },
  {
   "cell_type": "code",
   "execution_count": 8,
   "id": "ac7a6806",
   "metadata": {},
   "outputs": [
    {
     "name": "stdout",
     "output_type": "stream",
     "text": [
      "Matrix C:\n",
      " [[ 4 -2]\n",
      " [ 1  1]]\n",
      "Eigenvalues: [3. 2.]\n",
      "Eigenvectors:\n",
      " [[0.89442719 0.70710678]\n",
      " [0.4472136  0.70710678]]\n"
     ]
    }
   ],
   "source": [
    "C = np.array([[4, -2], \n",
    "              [1,  1]])\n",
    "\n",
    "eigvals, eigvecs = np.linalg.eig(C)\n",
    "\n",
    "print(\"Matrix C:\\n\", C)\n",
    "print(\"Eigenvalues:\", eigvals)\n",
    "print(\"Eigenvectors:\\n\", eigvecs)\n"
   ]
  },
  {
   "cell_type": "markdown",
   "id": "dce20716",
   "metadata": {},
   "source": [
    "## 8) Singular Value Decomposition (SVD)\n",
    "\n",
    "**Goal:** Decompose a matrix into three parts for dimensionality reduction.\n",
    "\n",
    "**What this does:**\n",
    "- Uses `np.linalg.svd`\n",
    "- Prints U, S, V^T matrices\n"
   ]
  },
  {
   "cell_type": "code",
   "execution_count": 9,
   "id": "b5065aea",
   "metadata": {},
   "outputs": [
    {
     "name": "stdout",
     "output_type": "stream",
     "text": [
      "U:\n",
      " [[0. 1. 0.]\n",
      " [1. 0. 0.]\n",
      " [0. 0. 1.]]\n",
      "Singular values: [1. 1. 0.]\n",
      "V^T:\n",
      " [[0. 1. 0.]\n",
      " [1. 0. 0.]\n",
      " [0. 0. 1.]]\n"
     ]
    }
   ],
   "source": [
    "D = np.array([[1, 0, 0], [0, 1, 0], [0, 0, 0]])\n",
    "\n",
    "U, S, Vt = np.linalg.svd(D)\n",
    "\n",
    "print(\"U:\\n\", U)\n",
    "print(\"Singular values:\", S)\n",
    "print(\"V^T:\\n\", Vt)\n"
   ]
  },
  {
   "cell_type": "markdown",
   "id": "8e3525c3",
   "metadata": {},
   "source": [
    "## 9) Exercises (practice)\n",
    "\n",
    "Try solving these on your own:\n",
    "\n",
    "1. Compute the dot product of `[2, 3, 4]` and `[1, 0, -1]`.\n",
    "2. Find the rank and determinant of \\( \\begin{bmatrix} 1 & 2 \\\\ 3 & 6 \\end{bmatrix} \\).\n",
    "3. Solve the system:  \n",
    "   \\( 2x + y = 5 \\)  \n",
    "   \\( x - y = 1 \\)\n",
    "4. Find the eigenvalues of \\( \\begin{bmatrix} 2 & 0 \\\\ 0 & 3 \\end{bmatrix} \\).\n"
   ]
  },
  {
   "cell_type": "markdown",
   "id": "750ec236",
   "metadata": {},
   "source": [
    "## 10) Exercise solutions\n",
    "\n",
    "Compare your answers here after attempting the exercises above.\n"
   ]
  },
  {
   "cell_type": "code",
   "execution_count": 10,
   "id": "86c2027c",
   "metadata": {},
   "outputs": [
    {
     "name": "stdout",
     "output_type": "stream",
     "text": [
      "Dot product = -2\n",
      "Rank = 1\n",
      "Determinant = -3.330669073875464e-16\n",
      "Solution x = [2. 1.]\n",
      "Eigenvalues = [2. 3.]\n"
     ]
    }
   ],
   "source": [
    "# 1. Dot product\n",
    "v1 = np.array([2, 3, 4])\n",
    "v2 = np.array([1, 0, -1])\n",
    "print(\"Dot product =\", np.dot(v1, v2))\n",
    "\n",
    "# 2. Rank and determinant\n",
    "M = np.array([[1, 2], [3, 6]])\n",
    "print(\"Rank =\", np.linalg.matrix_rank(M))\n",
    "print(\"Determinant =\", np.linalg.det(M))\n",
    "\n",
    "# 3. Solve linear system\n",
    "A = np.array([[2, 1], [1, -1]])\n",
    "b = np.array([5, 1])\n",
    "x = np.linalg.solve(A, b)\n",
    "print(\"Solution x =\", x)\n",
    "\n",
    "# 4. Eigenvalues\n",
    "E = np.array([[2, 0], [0, 3]])\n",
    "eigvals, eigvecs = np.linalg.eig(E)\n",
    "print(\"Eigenvalues =\", eigvals)\n"
   ]
  }
 ],
 "metadata": {
  "kernelspec": {
   "display_name": "IAAA",
   "language": "python",
   "name": "python3"
  },
  "language_info": {
   "codemirror_mode": {
    "name": "ipython",
    "version": 3
   },
   "file_extension": ".py",
   "mimetype": "text/x-python",
   "name": "python",
   "nbconvert_exporter": "python",
   "pygments_lexer": "ipython3",
   "version": "3.12.11"
  }
 },
 "nbformat": 4,
 "nbformat_minor": 5
}
