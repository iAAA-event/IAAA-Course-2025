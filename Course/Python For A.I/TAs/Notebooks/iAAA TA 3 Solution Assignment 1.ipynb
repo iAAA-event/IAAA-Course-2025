{
  "nbformat": 4,
  "nbformat_minor": 0,
  "metadata": {
    "colab": {
      "provenance": []
    },
    "kernelspec": {
      "name": "python3",
      "display_name": "Python 3"
    },
    "language_info": {
      "name": "python"
    }
  },
  "cells": [
    {
      "cell_type": "code",
      "execution_count": 1,
      "metadata": {
        "colab": {
          "base_uri": "https://localhost:8080/"
        },
        "id": "IH3-hVNoFZma",
        "outputId": "d3e5da18-6268-451e-efac-2bb94ce94ce4"
      },
      "outputs": [
        {
          "output_type": "stream",
          "name": "stdout",
          "text": [
            "My name is Mobin, I am 23 years old, and my favorite color is Blue.\n"
          ]
        }
      ],
      "source": [
        "name = \"Mobin\"\n",
        "age = 23\n",
        "color = \"Blue\"\n",
        "\n",
        "print(f\"My name is {name}, I am {age} years old, and my favorite color is {color}.\")"
      ]
    },
    {
      "cell_type": "code",
      "source": [
        "a, b = 5, 10\n",
        "a, b = b, a\n",
        "print(f\"a={a} & b={b}\")"
      ],
      "metadata": {
        "colab": {
          "base_uri": "https://localhost:8080/"
        },
        "id": "lSoGDAFiGATu",
        "outputId": "870922f4-69e4-49f6-fbf1-05f3435586f4"
      },
      "execution_count": 2,
      "outputs": [
        {
          "output_type": "stream",
          "name": "stdout",
          "text": [
            "a=10 & b=5\n"
          ]
        }
      ]
    },
    {
      "cell_type": "code",
      "source": [
        "length = 15\n",
        "width = 8\n",
        "area = length * width\n",
        "print(f\"Area: {area}\")"
      ],
      "metadata": {
        "colab": {
          "base_uri": "https://localhost:8080/"
        },
        "id": "FFGi9BxTG7g2",
        "outputId": "bd4207d3-a54f-4e65-b120-1ab0137d55f4"
      },
      "execution_count": 4,
      "outputs": [
        {
          "output_type": "stream",
          "name": "stdout",
          "text": [
            "Area: 120\n"
          ]
        }
      ]
    },
    {
      "cell_type": "code",
      "source": [
        "name = input(\"Enter your name: \")\n",
        "age = int(input(\"Enter your age: \"))\n",
        "print(f\"Hello {name}, you are {age} years old.\")"
      ],
      "metadata": {
        "colab": {
          "base_uri": "https://localhost:8080/"
        },
        "id": "ZyR6MzZzHqwi",
        "outputId": "b24c866d-0d0c-49a6-e0df-69c54cd48d12"
      },
      "execution_count": 6,
      "outputs": [
        {
          "output_type": "stream",
          "name": "stdout",
          "text": [
            "Enter your name: Mobin\n",
            "Enter your age: 23\n",
            "Hello Mobin, you are 23 years old.\n"
          ]
        }
      ]
    },
    {
      "cell_type": "code",
      "source": [
        "x = float(input(\"Enter first number: \"))\n",
        "y = float(input(\"Enter second number: \"))\n",
        "\n",
        "print(f\"Sum: {x+y}\")\n",
        "print(f'Difference: {x-y}')\n",
        "print(f'Product: {x*y}')\n",
        "print(f'Division: {x / y if y != 0 else \"Cannot divide by zero\"}')"
      ],
      "metadata": {
        "colab": {
          "base_uri": "https://localhost:8080/"
        },
        "id": "_sXMLrpXI1Yn",
        "outputId": "a751254c-f448-4391-eea6-a613c3f91898"
      },
      "execution_count": 9,
      "outputs": [
        {
          "output_type": "stream",
          "name": "stdout",
          "text": [
            "Enter first number: 5\n",
            "Enter second number: 10\n",
            "Sum: x+y\n",
            "Difference: -5.0\n",
            "Product: 50.0\n",
            "Division: 0.5\n"
          ]
        }
      ]
    },
    {
      "cell_type": "code",
      "source": [
        "birth_year = int(input(\"Enter your birth year: \"))\n",
        "current_year = 2025\n",
        "print(f\"Your age is: {current_year - birth_year}\")"
      ],
      "metadata": {
        "colab": {
          "base_uri": "https://localhost:8080/"
        },
        "id": "rU3ZG7GHJtDn",
        "outputId": "5b5787f9-7fa6-47a8-a7dc-158fbce40ae5"
      },
      "execution_count": 11,
      "outputs": [
        {
          "output_type": "stream",
          "name": "stdout",
          "text": [
            "Enter your birth year: 1989\n",
            "Your age is: 36\n"
          ]
        }
      ]
    },
    {
      "cell_type": "code",
      "source": [
        "fruits = ['Apple', 'Banana', 'Orange', 'Mango', 'Grapes']\n",
        "print(f'Second fruit: {fruits[1]}')\n",
        "print(f'Last fruit: {fruits[-1]}')"
      ],
      "metadata": {
        "colab": {
          "base_uri": "https://localhost:8080/"
        },
        "id": "Z6ceUbHPKp5B",
        "outputId": "aaeb38ff-cbfb-4e25-c8d2-d5aeb215258e"
      },
      "execution_count": 12,
      "outputs": [
        {
          "output_type": "stream",
          "name": "stdout",
          "text": [
            "Second fruit: Banana\n",
            "Last fruit: Grapes\n"
          ]
        }
      ]
    },
    {
      "cell_type": "code",
      "source": [
        "numbers = []\n",
        "for i in range(5):\n",
        "  numbers.append(float(input(f\"Enter your {i+1} th number: \")))\n",
        "\n",
        "print(f'Max: {max(numbers)}')\n",
        "print(f'Min: {min(numbers)}')"
      ],
      "metadata": {
        "colab": {
          "base_uri": "https://localhost:8080/"
        },
        "id": "tTLGLueQLc14",
        "outputId": "2c4beeac-287f-449b-a4ab-336a75f4e3de"
      },
      "execution_count": 13,
      "outputs": [
        {
          "output_type": "stream",
          "name": "stdout",
          "text": [
            "Enter your 1th number: 13.4\n",
            "Enter your 2th number: -87.3\n",
            "Enter your 3th number: 105\n",
            "Enter your 4th number: 2004\n",
            "Enter your 5th number: 0\n",
            "Max: 2004.0\n",
            "Min: -87.3\n"
          ]
        }
      ]
    },
    {
      "cell_type": "code",
      "source": [
        "numbers = [1, 2, 2, 3, 4, 4, 5, 1, 6, 4, 4, 4, 4]\n",
        "unique = list(set(numbers))\n",
        "print(f\"Unique numbers: {unique}\")"
      ],
      "metadata": {
        "colab": {
          "base_uri": "https://localhost:8080/"
        },
        "id": "UYnmakLPMF21",
        "outputId": "13b34190-30b0-498a-8ead-2f83b898b9e5"
      },
      "execution_count": 15,
      "outputs": [
        {
          "output_type": "stream",
          "name": "stdout",
          "text": [
            "Unique numbers: [1, 2, 3, 4, 5, 6]\n"
          ]
        }
      ]
    },
    {
      "cell_type": "code",
      "source": [
        "numbers = [1, 2, 2, 3, 4, 4, 5, 1, 6, 4, 4, 4, 4]\n",
        "unique = []\n",
        "for number in numbers:\n",
        "  if number not in unique:\n",
        "    unique.append(number)\n",
        "print(f\"Unique numbers: {unique}\")"
      ],
      "metadata": {
        "colab": {
          "base_uri": "https://localhost:8080/"
        },
        "id": "12TJsDfuNLTE",
        "outputId": "8b66d2ee-b185-42cc-87ca-7e96201fa43a"
      },
      "execution_count": 16,
      "outputs": [
        {
          "output_type": "stream",
          "name": "stdout",
          "text": [
            "Unique numbers: [1, 2, 3, 4, 5, 6]\n"
          ]
        }
      ]
    },
    {
      "cell_type": "code",
      "source": [
        "colors = (\"Red\", \"Green\", \"Blue\", \"Yellow\", \"Black\")\n",
        "print(f'First color: {colors[0]}')\n",
        "print(f'Last color: {colors[-1]}')"
      ],
      "metadata": {
        "colab": {
          "base_uri": "https://localhost:8080/"
        },
        "id": "nTmPNMnZNx52",
        "outputId": "fce127b8-aec4-40cb-c80d-1003913bd037"
      },
      "execution_count": 17,
      "outputs": [
        {
          "output_type": "stream",
          "name": "stdout",
          "text": [
            "First color: Red\n",
            "Last color: Black\n"
          ]
        }
      ]
    },
    {
      "cell_type": "code",
      "source": [
        "my_list = [1,2,3]\n",
        "my_tuple = tuple(my_list)\n",
        "print(my_tuple)"
      ],
      "metadata": {
        "colab": {
          "base_uri": "https://localhost:8080/"
        },
        "id": "BMfelJoFOM2J",
        "outputId": "b9de3393-d159-4303-a773-b93e68ca270e"
      },
      "execution_count": 18,
      "outputs": [
        {
          "output_type": "stream",
          "name": "stdout",
          "text": [
            "(1, 2, 3)\n"
          ]
        }
      ]
    },
    {
      "cell_type": "code",
      "source": [
        "my_set = {1, 2, 3, 4, 1, 1}\n",
        "print(my_set)"
      ],
      "metadata": {
        "colab": {
          "base_uri": "https://localhost:8080/"
        },
        "id": "bAIbaeuJOyu_",
        "outputId": "08c3de2d-897c-4a78-e35a-b71b45d7a4d6"
      },
      "execution_count": 20,
      "outputs": [
        {
          "output_type": "stream",
          "name": "stdout",
          "text": [
            "{1, 2, 3, 4}\n"
          ]
        }
      ]
    },
    {
      "cell_type": "code",
      "source": [
        "my_dict = {\n",
        "    'name': \"Mobin\",\n",
        "    'age': 23,\n",
        "    'city': \"Tehran\"\n",
        "}\n",
        "\n",
        "print(my_dict)\n",
        "print(type(my_dict))"
      ],
      "metadata": {
        "colab": {
          "base_uri": "https://localhost:8080/"
        },
        "id": "QHmFw3_sO6Rc",
        "outputId": "7adc3a03-ffe9-4e1d-cdaf-a24b7364737b"
      },
      "execution_count": 22,
      "outputs": [
        {
          "output_type": "stream",
          "name": "stdout",
          "text": [
            "{'name': 'Mobin', 'age': 23, 'city': 'Tehran'}\n",
            "<class 'dict'>\n"
          ]
        }
      ]
    },
    {
      "cell_type": "code",
      "source": [
        "the_list = [1 , 2 , \"selma\" , 22.12 , True]\n",
        "print(type(the_list))\n",
        "\n",
        "the_tuple = tuple(the_list)\n",
        "\n",
        "print(the_tuple)\n",
        "\n",
        "print(f'the type of this variable is {type(the_tuple)}')"
      ],
      "metadata": {
        "colab": {
          "base_uri": "https://localhost:8080/"
        },
        "id": "4whYBkfDOdC6",
        "outputId": "a75b559f-6407-4571-9f09-3d4407168755"
      },
      "execution_count": 23,
      "outputs": [
        {
          "output_type": "stream",
          "name": "stdout",
          "text": [
            "<class 'list'>\n",
            "(1, 2, 'selma', 22.12, True)\n",
            "the type of this variable is <class 'tuple'>\n"
          ]
        }
      ]
    },
    {
      "cell_type": "code",
      "source": [
        "numbers = (1, 2, 3, 2, 4, 2, 5, 6, 6, 6)\n",
        "target = int(input(\"Enter a number to count: \"))\n",
        "print(f'{target} appears {numbers.count(target)} time(s).')"
      ],
      "metadata": {
        "colab": {
          "base_uri": "https://localhost:8080/"
        },
        "id": "XvJjxg4KOukj",
        "outputId": "29fa005b-8d36-486d-91ec-1fe4d4426a95"
      },
      "execution_count": 26,
      "outputs": [
        {
          "output_type": "stream",
          "name": "stdout",
          "text": [
            "Enter a number to count: 2\n",
            "2 appears 3 time(s).\n"
          ]
        }
      ]
    },
    {
      "cell_type": "code",
      "source": [
        "def add_numbers(a, b):\n",
        "  return a + b\n",
        "\n",
        "print(add_numbers(5, 10))"
      ],
      "metadata": {
        "colab": {
          "base_uri": "https://localhost:8080/"
        },
        "id": "XvQKoiM2Q1qc",
        "outputId": "a0d97b23-265a-47c7-c0f9-5c4274c5ad0a"
      },
      "execution_count": 27,
      "outputs": [
        {
          "output_type": "stream",
          "name": "stdout",
          "text": [
            "15\n"
          ]
        }
      ]
    },
    {
      "cell_type": "code",
      "source": [
        "def largest_number(lst):\n",
        "  return max(lst)\n",
        "\n",
        "print(largest_number([1, 2, 3, 4, 5, 6, 7, 8, 9, 10]))"
      ],
      "metadata": {
        "colab": {
          "base_uri": "https://localhost:8080/"
        },
        "id": "L5wdozONRs0S",
        "outputId": "0de512fe-a588-44f3-ea77-a750570fd020"
      },
      "execution_count": 28,
      "outputs": [
        {
          "output_type": "stream",
          "name": "stdout",
          "text": [
            "10\n"
          ]
        }
      ]
    },
    {
      "cell_type": "code",
      "source": [
        "def count_vowels(s):\n",
        "  vowels = \"aeiou\"\n",
        "  return sum(1 for c in s if c.lower() in vowels)\n",
        "\n",
        "print(count_vowels('orange'))"
      ],
      "metadata": {
        "colab": {
          "base_uri": "https://localhost:8080/"
        },
        "id": "f6DtfbT1R0E4",
        "outputId": "1bfd3eee-76d9-4530-f39d-9e8748e4eb41"
      },
      "execution_count": 31,
      "outputs": [
        {
          "output_type": "stream",
          "name": "stdout",
          "text": [
            "3\n"
          ]
        }
      ]
    },
    {
      "cell_type": "code",
      "source": [
        "def count_vowels2(s):\n",
        "  vowels = \"aeiou\"\n",
        "  count = 0\n",
        "  for i in s:\n",
        "    if i.lower() in vowels:\n",
        "      count += 1\n",
        "  return count\n",
        "\n",
        "print(count_vowels2('OrAnge'))"
      ],
      "metadata": {
        "colab": {
          "base_uri": "https://localhost:8080/"
        },
        "id": "cvvAtbKUSxtV",
        "outputId": "857bce0a-daac-4a68-c180-928775c4411d"
      },
      "execution_count": 34,
      "outputs": [
        {
          "output_type": "stream",
          "name": "stdout",
          "text": [
            "3\n"
          ]
        }
      ]
    },
    {
      "cell_type": "code",
      "source": [
        "\"Mobin\".lower()"
      ],
      "metadata": {
        "colab": {
          "base_uri": "https://localhost:8080/",
          "height": 35
        },
        "id": "TDU4PpJSTg_h",
        "outputId": "84d5fa40-0f1e-4153-f5cf-ce88723d4b68"
      },
      "execution_count": 36,
      "outputs": [
        {
          "output_type": "execute_result",
          "data": {
            "text/plain": [
              "'mobin'"
            ],
            "application/vnd.google.colaboratory.intrinsic+json": {
              "type": "string"
            }
          },
          "metadata": {},
          "execution_count": 36
        }
      ]
    },
    {
      "cell_type": "code",
      "source": [
        "vowels = \"aeiou\"\n",
        "list(1 for c in \"Mobin\" if c.lower() in vowels)"
      ],
      "metadata": {
        "colab": {
          "base_uri": "https://localhost:8080/"
        },
        "id": "Kbi6QFbiTv42",
        "outputId": "15149b35-e3b5-4416-9fab-e1ffad8dab7e"
      },
      "execution_count": 40,
      "outputs": [
        {
          "output_type": "execute_result",
          "data": {
            "text/plain": [
              "[1, 1]"
            ]
          },
          "metadata": {},
          "execution_count": 40
        }
      ]
    },
    {
      "cell_type": "markdown",
      "source": [
        "## Mini Project:\n",
        "In this mini project, I've implemented a smart shopping cart system which\n",
        "gets a list of items and display their name and price and also compute the total cost and the most expensive item in shopping cart."
      ],
      "metadata": {
        "id": "S2XYxCTKXlKI"
      }
    },
    {
      "cell_type": "code",
      "source": [
        "def display_items(items):\n",
        "  \"\"\"\n",
        "  Display a list of items and their prices.\n",
        "\n",
        "  Args:\n",
        "    items: A list of tuples, where each tuple contains the name and price of an item.\n",
        "\n",
        "  Returns:\n",
        "    None\n",
        "  \"\"\"\n",
        "  print(\"\\n 🛒 Shopping List: \")\n",
        "  for name, price in items:\n",
        "    print(f'\\t - {name}: ${price}')\n",
        "  print()\n",
        "\n",
        "def calculate_total(items):\n",
        "  return sum(price for _, price in items)\n",
        "\n",
        "def find_most_expensive(items):\n",
        "  max_price = 0\n",
        "  most_expensive = None\n",
        "  for name, price in items:\n",
        "    if price > max_price:\n",
        "      max_price = price\n",
        "      most_expensive = name\n",
        "  return most_expensive"
      ],
      "metadata": {
        "id": "ZXDFL1N7XcGz"
      },
      "execution_count": 43,
      "outputs": []
    },
    {
      "cell_type": "code",
      "source": [
        "items = []\n",
        "n = int(input(\"Enter the number of items: \"))\n",
        "for i in range(n):\n",
        "  name = input(f\"Enter the name of item {i+1}: \")\n",
        "  price = float(input(f\"Enter the price of {name}: \"))\n",
        "  items.append((name, price))\n",
        "\n",
        "display_items(items)\n",
        "print(f\"💰 Total cost: {calculate_total(items)}\")\n",
        "expensive = find_most_expensive(items)\n",
        "print(f\"🔥 Most expensive item: {expensive}\")"
      ],
      "metadata": {
        "colab": {
          "base_uri": "https://localhost:8080/"
        },
        "id": "UvV9S8JBUEmo",
        "outputId": "2bbb7818-c965-47c0-fcc1-f539c32e9b55"
      },
      "execution_count": 41,
      "outputs": [
        {
          "output_type": "stream",
          "name": "stdout",
          "text": [
            "Enter the number of items: 4\n",
            "Enter the name of item 1: Apple\n",
            "Enter the price of Apple: 2\n",
            "Enter the name of item 2: Chips\n",
            "Enter the price of Chips: 5\n",
            "Enter the name of item 3: Sauce\n",
            "Enter the price of Sauce: 3\n",
            "Enter the name of item 4: Cup\n",
            "Enter the price of Cup: 10\n",
            "\n",
            " 🛒 Shopping List: \n",
            "\t - Apple: $2.0\n",
            "\t - Chips: $5.0\n",
            "\t - Sauce: $3.0\n",
            "\t - Cup: $10.0\n",
            "\n",
            "💰 Total cost: 20.0\n",
            "🔥 Most expensive item: Cup\n"
          ]
        }
      ]
    },
    {
      "cell_type": "markdown",
      "source": [
        "## How to use Lambda Function:"
      ],
      "metadata": {
        "id": "h_fMmS5GZeGq"
      }
    },
    {
      "cell_type": "code",
      "source": [
        "def find_most_expensive(items):\n",
        "  tmp = sorted(items, key=lambda x: x[1])\n",
        "  return tmp[-1]"
      ],
      "metadata": {
        "id": "JkrkIwM5WpAH"
      },
      "execution_count": 50,
      "outputs": []
    },
    {
      "cell_type": "code",
      "source": [
        "items = [(\"Apple\", 2), (\"Chips\", 5), (\"Cup\", 3), (\"Sauce\", 10)]\n",
        "print(find_most_expensive(items))"
      ],
      "metadata": {
        "colab": {
          "base_uri": "https://localhost:8080/"
        },
        "id": "_NJ5v3RYVhtW",
        "outputId": "610bb06b-c4e9-46cb-ef43-c452371476b2"
      },
      "execution_count": 51,
      "outputs": [
        {
          "output_type": "stream",
          "name": "stdout",
          "text": [
            "('Sauce', 10)\n"
          ]
        }
      ]
    },
    {
      "cell_type": "code",
      "source": [],
      "metadata": {
        "id": "hGWyH73raDXV"
      },
      "execution_count": null,
      "outputs": []
    }
  ]
}