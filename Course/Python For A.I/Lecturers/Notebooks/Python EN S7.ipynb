{
  "cells": [
    {
      "cell_type": "markdown",
      "id": "63aec81c",
      "metadata": {
        "id": "63aec81c"
      },
      "source": [
        "# 📘 Notebook 7: Introduction to Files in Python\n",
        "\n",
        "### 👨 Lecturer: *Mohammad Fotouhi*  \n",
        "### 📅 Date: *[YYYY-MM-DD]*\n",
        "\n",
        "### 🎯 Objectives\n",
        "\n",
        "In this notebook, you will:\n",
        "\n",
        "- learn how to Open files in different modes.\n",
        "\n",
        "- learn how to Read content from a file.\n",
        "\n",
        "- learn how to Write new content to a file.\n",
        "\n",
        "- learn how to Append content to an existing file.\n",
        "\n",
        "- learn how to Close files properly.\n",
        "\n",
        "- learn some Common String Methods Useful for File Text Processing.\n",
        "\n",
        "This notebook is designed to guide you step-by-step."
      ]
    },
    {
      "cell_type": "markdown",
      "id": "L2cuO0C4vaIo",
      "metadata": {
        "id": "L2cuO0C4vaIo"
      },
      "source": [
        "## 📌 Section 1: Working with Text Files in Python"
      ]
    },
    {
      "cell_type": "markdown",
      "id": "28KmTOeVgFc_",
      "metadata": {
        "id": "28KmTOeVgFc_"
      },
      "source": [
        "- What is a File?\n",
        "\n",
        "  - A file is a container in your computer’s storage that holds data. A text file specifically contains readable characters like letters, numbers, and symbols.\n"
      ]
    },
    {
      "cell_type": "markdown",
      "id": "648FC8VX13Sy",
      "metadata": {
        "id": "648FC8VX13Sy"
      },
      "source": [
        "### 📂 Opening a File\n",
        "\n",
        "To work with a file, you first need to open it. Python uses the built-in function open() for this.\n",
        "\n",
        "Syntax:\n",
        "\n",
        "    [✔]     file = open('filename.txt', 'mode')\n",
        "\n"
      ]
    },
    {
      "cell_type": "markdown",
      "id": "MjQ42Qww2Eoy",
      "metadata": {
        "id": "MjQ42Qww2Eoy"
      },
      "source": [
        "- 'filename.txt' is the name of the file you want to open (can include the path).\n",
        "\n",
        "- 'mode' is how you want to open the file:\n",
        "\n",
        "\n",
        "                    Mode                      Description\n",
        "\n",
        "                    \"r\"                       Read only (default)\n",
        "\n",
        "                    \"w\"                       Write (creates file or overwrites)\n",
        "\n",
        "                    \"a\"                     \tAppend (write after existing data)\n",
        "\n",
        "                    \"x\"                       Create (fails if file exists)\n",
        "\n",
        "                    \"b\"                       Binary mode (for non-text files)\n",
        "\n",
        "                    \"+\"                       Read and write"
      ]
    },
    {
      "cell_type": "markdown",
      "id": "55vupJRI3zsz",
      "metadata": {
        "id": "55vupJRI3zsz"
      },
      "source": [
        "Example: Open a file named example.txt for reading:"
      ]
    },
    {
      "cell_type": "code",
      "execution_count": null,
      "id": "knJZ-qsM32fK",
      "metadata": {
        "id": "knJZ-qsM32fK"
      },
      "outputs": [],
      "source": [
        "file = open('example.txt', 'r')"
      ]
    },
    {
      "cell_type": "markdown",
      "id": "6XHAFTVp37LS",
      "metadata": {
        "id": "6XHAFTVp37LS"
      },
      "source": [
        "### 👓 Reading from a File"
      ]
    },
    {
      "cell_type": "markdown",
      "id": "PvJk_Eyp4Daq",
      "metadata": {
        "id": "PvJk_Eyp4Daq"
      },
      "source": [
        "Once a file is open in read mode, you can read its contents.\n",
        "\n",
        "- .read() reads the entire file as one string:"
      ]
    },
    {
      "cell_type": "code",
      "execution_count": null,
      "id": "bU0dqCZ14KzC",
      "metadata": {
        "id": "bU0dqCZ14KzC"
      },
      "outputs": [],
      "source": [
        "content = file.read()\n",
        "\n",
        "print(content)"
      ]
    },
    {
      "cell_type": "markdown",
      "id": "r8D1pH-24Oyq",
      "metadata": {
        "id": "r8D1pH-24Oyq"
      },
      "source": [
        "- .readline() reads one line at a time:"
      ]
    },
    {
      "cell_type": "code",
      "execution_count": null,
      "id": "sXLBUDcs4QtS",
      "metadata": {
        "id": "sXLBUDcs4QtS"
      },
      "outputs": [],
      "source": [
        "line = file.readline()\n",
        "\n",
        "print(line)"
      ]
    },
    {
      "cell_type": "markdown",
      "id": "77eXNOHe4W-y",
      "metadata": {
        "id": "77eXNOHe4W-y"
      },
      "source": [
        "- .readlines() reads all lines into a list:"
      ]
    },
    {
      "cell_type": "code",
      "execution_count": null,
      "id": "Awdmhffr4YZ6",
      "metadata": {
        "id": "Awdmhffr4YZ6"
      },
      "outputs": [],
      "source": [
        "lines = file.readlines()\n",
        "\n",
        "print(lines)"
      ]
    },
    {
      "cell_type": "markdown",
      "id": "S5ZU7Qnx4hNU",
      "metadata": {
        "id": "S5ZU7Qnx4hNU"
      },
      "source": [
        "### 🔒 Closing a File\n",
        "\n",
        "After finishing the work, always close the file to free resources:"
      ]
    },
    {
      "cell_type": "code",
      "execution_count": null,
      "id": "YsJOnCwE5Mtj",
      "metadata": {
        "id": "YsJOnCwE5Mtj"
      },
      "outputs": [],
      "source": [
        "file.close()"
      ]
    },
    {
      "cell_type": "markdown",
      "id": "-oHy_auZ5DtU",
      "metadata": {
        "id": "-oHy_auZ5DtU"
      },
      "source": [
        "### 🌟 Using with Statement (Recommended!)\n",
        "\n",
        "Instead of manually opening and closing files, Python provides a better way using the with statement. It automatically closes the file for you.\n",
        "\n",
        "Example:"
      ]
    },
    {
      "cell_type": "code",
      "execution_count": null,
      "id": "rzdhIA2T5tTq",
      "metadata": {
        "id": "rzdhIA2T5tTq"
      },
      "outputs": [],
      "source": [
        "with open('example.txt', 'r') as file:\n",
        "    content = file.read()\n",
        "\n",
        "    print(content)\n",
        "\n",
        "# file is automatically closed here"
      ]
    },
    {
      "cell_type": "markdown",
      "id": "kxDHlqBV5yK6",
      "metadata": {
        "id": "kxDHlqBV5yK6"
      },
      "source": [
        "### 📝 Writing to a File\n",
        "\n",
        "To write data to a file, open it in 'w' (write) mode.\n",
        "\n",
        "- If the file does not exist, Python creates it.\n",
        "\n",
        "- If the file exists, it overwrites the old content."
      ]
    },
    {
      "cell_type": "code",
      "execution_count": null,
      "id": "p8S0e61A6TLL",
      "metadata": {
        "id": "p8S0e61A6TLL"
      },
      "outputs": [],
      "source": [
        "with open('example.txt', 'w') as file:\n",
        "    file.write(\"Hello, this is a new line.\\n\")\n",
        "\n",
        "    file.write(\"Writing to files is easy!\\n\")"
      ]
    },
    {
      "cell_type": "markdown",
      "id": "yDSS15f46cMD",
      "metadata": {
        "id": "yDSS15f46cMD"
      },
      "source": [
        "### ➕ Appending to a File\n",
        "\n",
        "If you want to add data to the end of a file without erasing existing content, use 'a' mode (append).\n",
        "\n",
        "Example:"
      ]
    },
    {
      "cell_type": "code",
      "execution_count": null,
      "id": "qtY3pxD56r5b",
      "metadata": {
        "id": "qtY3pxD56r5b"
      },
      "outputs": [],
      "source": [
        "with open('example.txt', 'a') as file:\n",
        "    file.write(\"This line will be added at the end.\\n\")"
      ]
    },
    {
      "cell_type": "markdown",
      "id": "YOIB5UQ96y8D",
      "metadata": {
        "id": "YOIB5UQ96y8D"
      },
      "source": [
        "### 🚫 Common Errors\n",
        "\n",
        "- Trying to read a file that doesn’t exist will cause an error.\n",
        "\n",
        "- Writing to a file opened in 'r' mode will cause an error.\n",
        "\n",
        "Always choose the right mode for your task."
      ]
    },
    {
      "cell_type": "markdown",
      "id": "d7galApV-CFM",
      "metadata": {
        "id": "d7galApV-CFM"
      },
      "source": [
        "### 🌟 Common String Methods"
      ]
    },
    {
      "cell_type": "markdown",
      "id": "Roicd-VW-T0k",
      "metadata": {
        "id": "Roicd-VW-T0k"
      },
      "source": [
        "- .upper()\n",
        "\n",
        "  Converts all characters in the string to uppercase."
      ]
    },
    {
      "cell_type": "code",
      "execution_count": null,
      "id": "-XF0HJ77-fyc",
      "metadata": {
        "id": "-XF0HJ77-fyc"
      },
      "outputs": [],
      "source": [
        "\"hello\".upper()  # 'HELLO'"
      ]
    },
    {
      "cell_type": "markdown",
      "id": "IB4dqsLd-gu0",
      "metadata": {
        "id": "IB4dqsLd-gu0"
      },
      "source": [
        "- .lower()\n",
        "\n",
        "  Converts all characters in the string to lowercase."
      ]
    },
    {
      "cell_type": "code",
      "execution_count": null,
      "id": "sFJBN_8B-kCc",
      "metadata": {
        "id": "sFJBN_8B-kCc"
      },
      "outputs": [],
      "source": [
        "\"WORLD\".lower()  # 'world'"
      ]
    },
    {
      "cell_type": "markdown",
      "id": "e4IzQHMe-l80",
      "metadata": {
        "id": "e4IzQHMe-l80"
      },
      "source": [
        "- .strip()\n",
        "\n",
        "  Removes whitespace (spaces, tabs, newlines) from the beginning and end of the string."
      ]
    },
    {
      "cell_type": "code",
      "execution_count": null,
      "id": "uSg4Nnlo-pic",
      "metadata": {
        "id": "uSg4Nnlo-pic"
      },
      "outputs": [],
      "source": [
        "\"  hello\\n\".strip()  # 'hello'"
      ]
    },
    {
      "cell_type": "markdown",
      "id": "4Ukt20Pv-v58",
      "metadata": {
        "id": "4Ukt20Pv-v58"
      },
      "source": [
        "- .lstrip() / .rstrip()\n",
        "\n",
        "  Removes whitespace from the left (start) or right (end) only."
      ]
    },
    {
      "cell_type": "code",
      "execution_count": null,
      "id": "WQi1y72z-yjM",
      "metadata": {
        "id": "WQi1y72z-yjM"
      },
      "outputs": [],
      "source": [
        "\"  hello  \".lstrip()  # 'hello  '\n",
        "\"  hello  \".rstrip()  # '  hello'"
      ]
    },
    {
      "cell_type": "markdown",
      "id": "1_I-CCpT-1r0",
      "metadata": {
        "id": "1_I-CCpT-1r0"
      },
      "source": [
        "- .split(sep = None)\n",
        "\n",
        "  Splits the string into a list of substrings based on the separator (default is any whitespace)."
      ]
    },
    {
      "cell_type": "code",
      "execution_count": null,
      "id": "R_tbXprg-8kw",
      "metadata": {
        "id": "R_tbXprg-8kw"
      },
      "outputs": [],
      "source": [
        "\"one two three\".split()  # ['one', 'two', 'three']\n",
        "\"a,b,c\".split(\",\")       # ['a', 'b', 'c']"
      ]
    },
    {
      "cell_type": "markdown",
      "id": "h4Wg_5ea--lr",
      "metadata": {
        "id": "h4Wg_5ea--lr"
      },
      "source": [
        "- .join(iterable)\n",
        "\n",
        "  Joins a list (or any iterable) of strings into one string using the original string as a separator."
      ]
    },
    {
      "cell_type": "code",
      "execution_count": null,
      "id": "De8hfn6k_Cfs",
      "metadata": {
        "id": "De8hfn6k_Cfs"
      },
      "outputs": [],
      "source": [
        "\", \".join(['apple', 'banana', 'cherry'])  # 'apple, banana, cherry'"
      ]
    },
    {
      "cell_type": "markdown",
      "id": "k-kVKzJm_Ex7",
      "metadata": {
        "id": "k-kVKzJm_Ex7"
      },
      "source": [
        "- .replace(old, new)\n",
        "\n",
        "  Replaces all occurrences of old substring with new substring."
      ]
    },
    {
      "cell_type": "code",
      "execution_count": null,
      "id": "uxnhBT7Z_MwW",
      "metadata": {
        "id": "uxnhBT7Z_MwW"
      },
      "outputs": [],
      "source": [
        "\"hello world\".replace(\"world\", \"Python\")  # 'hello Python'"
      ]
    },
    {
      "cell_type": "markdown",
      "id": "XUtKCBhK_OXE",
      "metadata": {
        "id": "XUtKCBhK_OXE"
      },
      "source": [
        "- .startswith(prefix)\n",
        "\n",
        "  Checks if the string starts with the given prefix. Returns True or False."
      ]
    },
    {
      "cell_type": "code",
      "execution_count": null,
      "id": "WlsIYeBH_TUW",
      "metadata": {
        "id": "WlsIYeBH_TUW"
      },
      "outputs": [],
      "source": [
        "\"filename.txt\".startswith(\"file\")  # True"
      ]
    },
    {
      "cell_type": "markdown",
      "id": "gfFUmce8_Vts",
      "metadata": {
        "id": "gfFUmce8_Vts"
      },
      "source": [
        "- .endswith(suffix)\n",
        "\n",
        "  Checks if the string ends with the given suffix."
      ]
    },
    {
      "cell_type": "code",
      "execution_count": null,
      "id": "Pbh8GTdP_ekM",
      "metadata": {
        "id": "Pbh8GTdP_ekM"
      },
      "outputs": [],
      "source": [
        "\"document.pdf\".endswith(\".pdf\")  # True"
      ]
    },
    {
      "cell_type": "markdown",
      "id": "uOQn1Sip_gi9",
      "metadata": {
        "id": "uOQn1Sip_gi9"
      },
      "source": [
        "-.isdigit()\n",
        "\n",
        "  Returns True if the string contains only digits."
      ]
    },
    {
      "cell_type": "code",
      "execution_count": null,
      "id": "iRbFo6Sv_gzt",
      "metadata": {
        "id": "iRbFo6Sv_gzt"
      },
      "outputs": [],
      "source": [
        "\"12345\".isdigit()  # True"
      ]
    },
    {
      "cell_type": "markdown",
      "id": "DwcR9apM_hOE",
      "metadata": {
        "id": "DwcR9apM_hOE"
      },
      "source": [
        "- .count(substring)\n",
        "\n",
        "  Counts the occurrences of substring in the string."
      ]
    },
    {
      "cell_type": "code",
      "execution_count": null,
      "id": "rTA9buxH_hhM",
      "metadata": {
        "id": "rTA9buxH_hhM"
      },
      "outputs": [],
      "source": [
        "\"banana\".count(\"a\")  # 3"
      ]
    },
    {
      "cell_type": "markdown",
      "id": "va59wg9g8nFi",
      "metadata": {
        "id": "va59wg9g8nFi"
      },
      "source": [
        "## 📌 Section 2: Practical Use Cases"
      ]
    },
    {
      "cell_type": "markdown",
      "id": "NFr26oG5bfPy",
      "metadata": {
        "id": "NFr26oG5bfPy"
      },
      "source": [
        "### 📝 Exercise 1: Count Words\n",
        "\n",
        "Write a program that:\n",
        "\n",
        "Count the Number of Words in a Text File.\n",
        "\n",
        "Try running these codes:"
      ]
    },
    {
      "cell_type": "code",
      "execution_count": null,
      "id": "aoNmhx3ZdAfO",
      "metadata": {
        "id": "aoNmhx3ZdAfO"
      },
      "outputs": [],
      "source": [
        "def count_words_in_file(filename):\n",
        "    try:\n",
        "        with open(filename, 'r') as file:\n",
        "            content = file.read()\n",
        "\n",
        "            words = content.split()\n",
        "\n",
        "            print(f\"The file contains {len(words)} words.\")\n",
        "\n",
        "    except FileNotFoundError:\n",
        "        print(f\"Error: The file '{filename}' does not exist.\")\n",
        "\n",
        "count_words_in_file('example.txt')"
      ]
    },
    {
      "cell_type": "markdown",
      "id": "xAWCFq9NBCET",
      "metadata": {
        "id": "xAWCFq9NBCET"
      },
      "source": [
        "### 📝 More Exercises:"
      ]
    },
    {
      "cell_type": "markdown",
      "id": "xsh-GL2IBj47",
      "metadata": {
        "id": "xsh-GL2IBj47"
      },
      "source": [
        "### 📝 Exercise 2: Reverse Words\n",
        "\n",
        "Write a program that:\n",
        "\n",
        "Read a Simple CSV File and Write Lines in Reverse Order.\n",
        "\n",
        "Try running these codes:"
      ]
    },
    {
      "cell_type": "code",
      "execution_count": null,
      "id": "gy2Xxn5Gcjn6",
      "metadata": {
        "id": "gy2Xxn5Gcjn6"
      },
      "outputs": [],
      "source": [
        "def reverse_csv_lines(input_file, output_file):\n",
        "    try:\n",
        "        with open(input_file, 'r') as infile:\n",
        "            lines = infile.readlines()\n",
        "\n",
        "        reversed_lines = []\n",
        "\n",
        "        for line in lines:\n",
        "            parts = line.strip().split(',')\n",
        "\n",
        "            parts.reverse()\n",
        "\n",
        "            reversed_lines.append(','.join(parts) + '\\n')\n",
        "\n",
        "        with open(output_file, 'w') as outfile:\n",
        "            outfile.writelines(reversed_lines)\n",
        "\n",
        "        print(f\"Reversed CSV lines saved to '{output_file}'.\")\n",
        "\n",
        "    except FileNotFoundError:\n",
        "        print(f\"Error: The file '{input_file}' does not exist.\")\n",
        "\n",
        "\n",
        "reverse_csv_lines('data.csv', 'reversed_data.csv')"
      ]
    },
    {
      "cell_type": "markdown",
      "id": "61y64fGO7kl0",
      "metadata": {
        "id": "61y64fGO7kl0"
      },
      "source": [
        "### 📝 Exercise 3: Search Words\n",
        "\n",
        "Write a program that:\n",
        "\n",
        "Extract Lines Containing a Specific Word.\n",
        "\n",
        "Try running these codes:"
      ]
    },
    {
      "cell_type": "code",
      "execution_count": null,
      "id": "99Kmqawpr4iA",
      "metadata": {
        "id": "99Kmqawpr4iA"
      },
      "outputs": [],
      "source": [
        "def extract_lines_with_word(input_file, output_file, keyword):\n",
        "    try:\n",
        "        with open(input_file, 'r') as infile, open(output_file, 'w') as outfile:\n",
        "            for line in infile:\n",
        "                if keyword.lower() in line.lower():\n",
        "                    outfile.write(line)\n",
        "\n",
        "        print(f\"Lines containing '{keyword}' have been saved to '{output_file}'.\")\n",
        "\n",
        "    except FileNotFoundError:\n",
        "        print(f\"Error: The file '{input_file}' does not exist.\")\n",
        "\n",
        "\n",
        "extract_lines_with_word('log.txt', 'errors.txt', 'error')"
      ]
    },
    {
      "cell_type": "markdown",
      "id": "vCFycNAfbmLy",
      "metadata": {
        "id": "vCFycNAfbmLy"
      },
      "source": [
        "### 📝 Exercise 4: Upper and Lower\n",
        "\n",
        "Write a program that:\n",
        "\n",
        "reads the content of a text file, then transforms the text so that words at even positions are converted to uppercase and words at odd positions are converted to lowercase. Finally, print or save the transformed text.\n",
        "\n",
        "Try running these codes:"
      ]
    },
    {
      "cell_type": "code",
      "execution_count": null,
      "id": "zC0g73BXsSgB",
      "metadata": {
        "colab": {
          "base_uri": "https://localhost:8080/"
        },
        "id": "zC0g73BXsSgB",
        "outputId": "94213c32-8f3c-4161-974e-56dd759de8d8"
      },
      "outputs": [
        {
          "name": "stdout",
          "output_type": "stream",
          "text": [
            "[[], [3], [2], [2, 3], [1], [1, 3], [1, 2], [1, 2, 3]]\n"
          ]
        }
      ],
      "source": [
        "def alternate_case_words(filename):\n",
        "    try:\n",
        "        with open(filename, 'r') as file:\n",
        "            content = file.read()\n",
        "\n",
        "        words = content.split()\n",
        "\n",
        "        for i in range(len(words)):\n",
        "            if i % 2 == 0:\n",
        "                words[i] = words[i].upper()\n",
        "\n",
        "            else:\n",
        "                words[i] = words[i].lower()\n",
        "\n",
        "        transformed_text = ' '.join(words)\n",
        "\n",
        "        print(\"Transformed text:\")\n",
        "        print(transformed_text)\n",
        "\n",
        "        with open('transformed_' + filename, 'w') as outfile:\n",
        "            outfile.write(transformed_text)\n",
        "\n",
        "    except FileNotFoundError:\n",
        "        print(f\"Error: The file '{filename}' does not exist.\")\n",
        "\n",
        "\n",
        "alternate_case_words('example.txt')"
      ]
    },
    {
      "cell_type": "markdown",
      "id": "vNOG1K1T2bri",
      "metadata": {
        "id": "vNOG1K1T2bri"
      },
      "source": [
        "### 📝 Exercise 5: Count lines\n",
        "\n",
        "Write a program that:\n",
        "\n",
        "Count the Number of Lines in a Text File.\n",
        "\n",
        "Try running these codes:"
      ]
    },
    {
      "cell_type": "code",
      "execution_count": null,
      "id": "jIayMb8t2r6r",
      "metadata": {
        "id": "jIayMb8t2r6r"
      },
      "outputs": [],
      "source": [
        "def count_lines(filename):\n",
        "    try:\n",
        "        with open(filename, \"r\", encoding=\"utf-8\") as file:\n",
        "            return sum(1 for _ in file)\n",
        "\n",
        "    except FileNotFoundError:\n",
        "        print(f\"File '{filename}' not found.\")\n",
        "\n",
        "        return None\n",
        "\n",
        "lines = count_lines(\"example.txt\")"
      ]
    },
    {
      "cell_type": "markdown",
      "id": "UUuEpkUPDFlT",
      "metadata": {
        "id": "UUuEpkUPDFlT"
      },
      "source": [
        "### 🔥 Wrap-Up\n",
        "\n",
        "Thanks for diving into this important step of your Python journey!\n",
        "\n",
        "In this notebook, you’ve explored the fundamental skills of **file handling** — the ability to read, write, and manipulate data stored in text files. Mastering these techniques allows your programs to store information permanently and retrieve it whenever needed.\n",
        "\n",
        "You’ve learned how to:\n",
        "\n",
        "- Open files in different modes (`read`, `write`, `append`) and understand when to use each one\n",
        "- Read file content using methods like `.read()`, `.readline()`, and `.readlines()`\n",
        "- Write and append text to files using `.write()` and `.writelines()`\n",
        "- Use the `with` statement to handle files safely and automatically close them\n",
        "- Apply common string methods (`upper()`, `lower()`, `strip()`, `split()`, etc.) to process text data\n",
        "- Handle common errors, such as missing files, with proper exception handling\n",
        "\n",
        "These skills are essential for working with real-world data — from processing log files to creating data pipelines and saving application output.\n",
        "\n",
        "### 🙌 Well Done!\n",
        "\n",
        "You’ve completed this important section! 🎉\n",
        "Your ability to work with files in Python will serve as a foundation for more advanced topics such as CSV processing, JSON handling, and even working with large datasets.\n",
        "\n",
        "### 💡 Remember\n",
        "\n",
        "File handling is one of the most practical skills for any programmer.\n",
        "By combining file operations with string processing and error handling, you can create powerful programs that interact seamlessly with stored data.\n",
        "Keep practicing by creating your own projects that read, transform, and save data — and you’ll become increasingly confident in handling files like a pro!"
      ]
    }
  ],
  "metadata": {
    "colab": {
      "provenance": []
    },
    "kernelspec": {
      "display_name": "datascience",
      "language": "python",
      "name": "python3"
    },
    "language_info": {
      "codemirror_mode": {
        "name": "ipython",
        "version": 3
      },
      "file_extension": ".py",
      "mimetype": "text/x-python",
      "name": "python",
      "nbconvert_exporter": "python",
      "pygments_lexer": "ipython3",
      "version": "3.12.11"
    }
  },
  "nbformat": 4,
  "nbformat_minor": 5
}
