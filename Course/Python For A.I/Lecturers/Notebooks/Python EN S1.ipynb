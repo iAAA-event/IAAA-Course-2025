{
  "cells": [
    {
      "cell_type": "markdown",
      "id": "63aec81c",
      "metadata": {
        "id": "63aec81c"
      },
      "source": [
        "# 📘 Notebook 1: Introduction to Python and Your First Program\n",
        "\n",
        "### 👨 Lecturer: *Mohammad Fotouhi*  \n",
        "### 📅 Date: *W1-S1*\n",
        "\n",
        "### 🎯 Objectives\n",
        "\n",
        "In this notebook, you will:\n",
        "\n",
        "- be introduced to Python and become familiar with its applications.\n",
        "- learn how to install and set up IDEs and Jupyter.\n",
        "- learn how to run your first program.\n",
        "\n",
        "This notebook is designed to guide you step-by-step."
      ]
    },
    {
      "cell_type": "markdown",
      "id": "L2cuO0C4vaIo",
      "metadata": {
        "id": "L2cuO0C4vaIo"
      },
      "source": [
        "## 📌 Section 1: What is Python?"
      ]
    },
    {
      "cell_type": "markdown",
      "id": "meAUzZKJuzx3",
      "metadata": {
        "id": "meAUzZKJuzx3"
      },
      "source": [
        "### 🐍 Introduction to Python\n",
        "\n",
        "Python is a popular, high-level programming language known for its simplicity and readability. It was created by Guido van Rossum and first released in 1991. Python’s design philosophy emphasizes code readability and allows programmers to express concepts in fewer lines of code compared to many other languages.\n",
        "\n",
        "### 💡 Why Learn Python?\n",
        "\n",
        "- **Easy to Learn and Use:** Python’s syntax is clear and intuitive, making it an excellent choice for beginners and experienced programmers alike.\n",
        "\n",
        "- **Versatile:** You can use Python for many types of projects, from small scripts to large-scale applications.\n",
        "\n",
        "- **Large Community and Libraries:** Python has a massive community that contributes to a rich ecosystem of libraries and frameworks, which means you don’t have to build everything from scratch.\n",
        "\n",
        "- **Cross-Platform:** Python runs on many operating systems, including Windows, macOS, and Linux.\n",
        "\n",
        "### 🌐 Popular Uses of Python\n",
        "\n",
        "- **Web Development:** Building websites and web applications using frameworks like Django and Flask.\n",
        "\n",
        "- **Data Science and Machine Learning:** Analyzing data and creating predictive models with libraries like Pandas, NumPy, Matplotlib, Scikit-learn, TensorFlow, and PyTorch.\n",
        "\n",
        "- **Automation and Scripting:** Writing scripts to automate repetitive tasks, such as file handling, web scraping, or system administration.\n",
        "\n",
        "- **Game Development:** Creating games using libraries like Pygame.\n",
        "\n",
        "- **Scientific Computing:** Performing complex mathematical calculations and simulations in physics, biology, and engineering.\n",
        "\n",
        "- **Artificial Intelligence and Robotics:** Developing intelligent systems and controlling hardware devices.\n",
        "\n",
        "### 🔑 Key Features of Python\n",
        "\n",
        "- **Interpreted Language:** Python code runs line-by-line, which makes debugging easier.\n",
        "\n",
        "- **Dynamic Typing:** You don’t need to declare variable types explicitly.\n",
        "\n",
        "- **Extensible and Embeddable:** Python can be integrated with other languages like C or Java.\n",
        "\n",
        "- **Open Source:** Python is free to use and distribute.\n",
        "\n",
        "Thanks to these features, Python has become one of the most widely used programming languages in the world today, powering startups, research labs, and large companies alike."
      ]
    },
    {
      "cell_type": "markdown",
      "id": "okZDftQgwTwI",
      "metadata": {
        "id": "okZDftQgwTwI"
      },
      "source": [
        "## 📌 Section 2: Installing and Setting Up the Environment"
      ]
    },
    {
      "cell_type": "markdown",
      "id": "0kxVG5wGzWnx",
      "metadata": {
        "id": "0kxVG5wGzWnx"
      },
      "source": [
        "### 🔧 Setting Up Your Python Programming Environment\n",
        "\n",
        "Before you start writing Python code, you need to prepare your environment. This includes:\n",
        "\n",
        "1. Installing the **Python interpreter**.\n",
        "\n",
        "2. Choosing and setting up an **IDE** (Integrated Development Environment) or an **interactive coding tool** like **Jupyter Notebook**.\n",
        "\n",
        "Let’s go through each step in detail."
      ]
    },
    {
      "cell_type": "markdown",
      "id": "myuIdBy6xpyA",
      "metadata": {
        "id": "myuIdBy6xpyA"
      },
      "source": [
        "### 🔹 Step 1: Install Python\n",
        "\n",
        "Python is the software that runs your code.\n",
        "\n",
        "**To install Python:**\n",
        "\n",
        "1. Go to the official Python website: [https://www.python.org](https://www.python.org).\n",
        "\n",
        "2. Click on the **Downloads** tab.\n",
        "\n",
        "3. Download the latest version for your operating system (Windows, macOS, or Linux).\n",
        "\n",
        "4. Run the installer.\n",
        "\n",
        "**Important for Windows Users:**  \n",
        "During installation, check the box that says:\n",
        "\n",
        "    [✔] Add Python to PATH\n",
        "\n",
        "This makes sure Python is accessible from your terminal or command prompt.\n",
        "\n",
        "**Check if Python is installed:**\n",
        "\n",
        "Open your terminal (or Command Prompt on Windows) and type:\n",
        "\n",
        "    [✔] python --version\n",
        "\n",
        "You should see something like:\n",
        "\n",
        "    [✔] Python 3.12.2"
      ]
    },
    {
      "cell_type": "markdown",
      "id": "Bnhkgd7j2pBb",
      "metadata": {
        "id": "Bnhkgd7j2pBb"
      },
      "source": [
        "### 🔹 Step 2: Choose an Editor or IDE\n",
        "\n",
        "You need a place to write your code. There are many options, but here are two common ones:\n"
      ]
    },
    {
      "cell_type": "markdown",
      "id": "HgdBtjW90V54",
      "metadata": {
        "id": "HgdBtjW90V54"
      },
      "source": [
        "### 📟 Option 1: Using Visual Studio Code (VS Code)\n",
        "\n",
        "**What is VS Code?**  \n",
        "Visual Studio Code (VS Code) is a lightweight but powerful code editor developed by Microsoft. It supports Python very well and is ideal for general-purpose programming.\n",
        "\n",
        "### 💻 How to Install VS Code\n",
        "\n",
        "1. Go to the official website: [https://code.visualstudio.com](https://code.visualstudio.com).\n",
        "\n",
        "2. Download and install the version for your operating system.\n",
        "\n",
        "3. Open VS Code.\n",
        "\n",
        "### 📥 Install the Python Extension\n",
        "\n",
        "1. Click on the Extensions icon on the left sidebar (or press `Ctrl + Shift + X`).\n",
        "\n",
        "2. Search for **\"Python\"** by Microsoft.\n",
        "\n",
        "3. Click **Install**.\n",
        "\n",
        "### ▶️ Running Python Code in VS Code\n",
        "\n",
        "1. Create a new file and save it with a `.py` extension (e.g., `hello.py`).\n",
        "2. Write some Python code, for example:\n",
        "\n",
        "\n",
        "    [✔] print(\"Hello from VS Code!\")\n",
        "    \n",
        "3. Right-click anywhere in the editor and select Run Python File in Terminal, Alternatively, press Ctrl + Shift + P and select Run Python File in Terminal."
      ]
    },
    {
      "cell_type": "markdown",
      "id": "HdaXLgPt3T-p",
      "metadata": {
        "id": "HdaXLgPt3T-p"
      },
      "source": [
        "### 📒 Option 2: Using Jupyter Notebook\n",
        "\n",
        "**What is Jupyter Notebook?**  \n",
        "Jupyter Notebook is a web-based interactive coding environment. It allows you to write and run Python code in \"cells\", and also supports adding formatted text, images, equations, and charts. It is widely used in:\n",
        "\n",
        "- Data science\n",
        "- Machine learning\n",
        "- Education\n",
        "- Research\n",
        "\n",
        "### 🔸 Recommended Method: Install Jupyter Using Anaconda\n",
        "\n",
        "The easiest and most beginner-friendly way to install Jupyter is by using **Anaconda**.\n",
        "\n",
        "**Anaconda** is a Python distribution that comes bundled with:\n",
        "\n",
        "- Python.\n",
        "- Jupyter Notebook.\n",
        "- Many useful data science libraries (like Pandas, NumPy, Matplotlib).\n",
        "\n",
        "### 📥 How to Install Anaconda:\n",
        "\n",
        "1. Go to: [https://www.anaconda.com/products/distribution](https://www.anaconda.com/products/distribution).\n",
        "\n",
        "2. Choose your operating system (Windows, macOS, or Linux).\n",
        "\n",
        "3. Download the installer.\n",
        "\n",
        "4. Run the installer and follow the setup instructions.\n",
        "\n",
        "After installation:\n",
        "\n",
        "- Open **Anaconda Navigator** from your Start Menu or Applications folder.\n",
        "- Click **Launch** next to **Jupyter Notebook**.\n",
        "\n",
        "This will open your default browser and load Jupyter at:\n",
        "http://localhost:8888/tree\n",
        "\n",
        "From there, you can create new notebooks (`.ipynb`) and start coding interactively.\n",
        "\n",
        "### 🔸 Alternative Method: Install Jupyter Using pip\n",
        "\n",
        "If you prefer to install manually (without Anaconda), you can use `pip`, which is Python’s package manager.\n",
        "\n",
        "### 📥 How to Install Jupyter via pip:\n",
        "\n",
        "1. Open your terminal (or Command Prompt on Windows).\n",
        "\n",
        "2. Run the following command:\n",
        "\n",
        "\n",
        "    [✔] pip install notebook\n",
        "\n",
        "3. After installation is complete, start the notebook by typing:\n",
        "\n",
        "\n",
        "    [✔] jupyter notebook\n",
        "\n",
        "This will also open a browser window pointing to:\n",
        "\n",
        "    [✔] http://localhost:8888\n",
        "\n",
        "You can now create and run Jupyter notebooks."
      ]
    },
    {
      "cell_type": "markdown",
      "id": "2DPS2xcu6mIh",
      "metadata": {
        "id": "2DPS2xcu6mIh"
      },
      "source": [
        "### 🔍 Testing Your Setup\n",
        "To make sure everything is working correctly:\n",
        "\n",
        "1. Open VS Code or Jupyter Notebook.\n",
        "\n",
        "2. Type the following Python code:\n",
        "\n",
        "\n",
        "    [✔] print(\"Hello, Python!\")\n",
        "\n",
        "3. Run the code: If you see the message printed with no errors, your environment is ready!"
      ]
    },
    {
      "cell_type": "markdown",
      "id": "va59wg9g8nFi",
      "metadata": {
        "id": "va59wg9g8nFi"
      },
      "source": [
        "## 📌 Section 3: Write Your First Python Programs"
      ]
    },
    {
      "cell_type": "markdown",
      "id": "OT6reqH_-ZIy",
      "metadata": {
        "id": "OT6reqH_-ZIy"
      },
      "source": [
        "### 🔄 Simple Input and Output in Python\n",
        "\n",
        "In Python, you can interact with the user by **getting input** and **showing output**.\n",
        "\n",
        "- To display a message or value, use the `print()` function.\n",
        "- To get input from the user, use the `input()` function."
      ]
    },
    {
      "cell_type": "markdown",
      "id": "5bDGeyGr9irq",
      "metadata": {
        "id": "5bDGeyGr9irq"
      },
      "source": [
        "### 📤 Using `print()`\n",
        "\n",
        "The `print()` function displays the text or value you give it.\n",
        "\n",
        "Example:"
      ]
    },
    {
      "cell_type": "code",
      "execution_count": null,
      "id": "jrF5bNPZ-LzC",
      "metadata": {
        "id": "jrF5bNPZ-LzC"
      },
      "outputs": [],
      "source": [
        "print(\"Hello, Python!\")"
      ]
    },
    {
      "cell_type": "markdown",
      "id": "iZn2YxPQ-yN6",
      "metadata": {
        "id": "iZn2YxPQ-yN6"
      },
      "source": [
        "### 📥 Using `input()`\n",
        "\n",
        "The `input()` function waits for the user to type something and press Enter, then returns that input as a string.\n",
        "\n",
        "Example:"
      ]
    },
    {
      "cell_type": "code",
      "execution_count": null,
      "id": "6_BYs-L0-Mmy",
      "metadata": {
        "id": "6_BYs-L0-Mmy"
      },
      "outputs": [],
      "source": [
        "name = input(\"Enter your name: \")"
      ]
    },
    {
      "cell_type": "markdown",
      "id": "DCMEi-_0_6Hj",
      "metadata": {
        "id": "DCMEi-_0_6Hj"
      },
      "source": [
        "### 📝 Exercise 1: Greet the User\n",
        "\n",
        "Write a program that:\n",
        "\n",
        "1. Asks the user to enter their name.\n",
        "\n",
        "2. Prints a welcome message including the user's name.\n",
        "\n",
        "Try running this code:"
      ]
    },
    {
      "cell_type": "code",
      "execution_count": null,
      "id": "BYzo0e4uANQC",
      "metadata": {
        "id": "BYzo0e4uANQC"
      },
      "outputs": [],
      "source": [
        "user_name = input(\"Please enter your name: \")\n",
        "\n",
        "print(\"Welcome, \" + user_name + \"! Nice to meet you.\")"
      ]
    },
    {
      "cell_type": "markdown",
      "id": "xAWCFq9NBCET",
      "metadata": {
        "id": "xAWCFq9NBCET"
      },
      "source": [
        "### 📝 More Exercises:"
      ]
    },
    {
      "cell_type": "markdown",
      "id": "xsh-GL2IBj47",
      "metadata": {
        "id": "xsh-GL2IBj47"
      },
      "source": [
        "### 📝 Exercise 2: Adding Two Numbers\n",
        "\n",
        "Write a program that:\n",
        "\n",
        "1. Asks the user to input two numbers.\n",
        "\n",
        "2. Calculates and prints their sum.\n",
        "\n",
        "Try running this code:"
      ]
    },
    {
      "cell_type": "code",
      "execution_count": null,
      "id": "lAaaiMpUBysr",
      "metadata": {
        "id": "lAaaiMpUBysr"
      },
      "outputs": [],
      "source": [
        "num1 = input(\"Enter the first number: \")\n",
        "num2 = input(\"Enter the second number: \")\n",
        "\n",
        "num1 = int(num1)\n",
        "num2 = int(num2)\n",
        "\n",
        "print(\"The sum is:\", num1 + num2)"
      ]
    },
    {
      "cell_type": "markdown",
      "id": "IxUiLbKDB-c7",
      "metadata": {
        "id": "IxUiLbKDB-c7"
      },
      "source": [
        "### 📝 Exercise 3: Calculate the Area of a Rectangle\n",
        "\n",
        "Write a program that:\n",
        "\n",
        "1. Asks the user to enter the rectangle’s length and width.\n",
        "\n",
        "2. Calculates and prints the area.\n",
        "\n",
        "Try running this code:"
      ]
    },
    {
      "cell_type": "code",
      "execution_count": null,
      "id": "ryiil8ZhB-47",
      "metadata": {
        "id": "ryiil8ZhB-47"
      },
      "outputs": [],
      "source": [
        "length = float(input(\"Enter the length: \"))\n",
        "width = float(input(\"Enter the width: \"))\n",
        "\n",
        "area = length * width\n",
        "\n",
        "print(\"The area of the rectangle is:\", area)"
      ]
    },
    {
      "cell_type": "markdown",
      "id": "dnPI8CO4CO-D",
      "metadata": {
        "id": "dnPI8CO4CO-D"
      },
      "source": [
        "### 📝 Exercise 4: Personalized Birthday Message\n",
        "\n",
        "Write a program that:\n",
        "\n",
        "1. Asks the user for their name and age.\n",
        "\n",
        "2. Prints a birthday message using both pieces of information.\n",
        "\n",
        "Try running this code:"
      ]
    },
    {
      "cell_type": "code",
      "execution_count": null,
      "id": "_rU1fdrMCPTD",
      "metadata": {
        "id": "_rU1fdrMCPTD"
      },
      "outputs": [],
      "source": [
        "name = input(\"What is your name? \")\n",
        "age = input(\"How old are you? \")\n",
        "\n",
        "print(\"Happy \" + age + \"th Birthday, \" + name + \"!\")"
      ]
    },
    {
      "cell_type": "markdown",
      "id": "8x-A_3QSCjF7",
      "metadata": {
        "id": "8x-A_3QSCjF7"
      },
      "source": [
        "### 📝 Exercise 5: Calculate Year of Birth\n",
        "\n",
        "Write a program that:\n",
        "\n",
        "1. Asks the user for their age.\n",
        "\n",
        "2. Calculates and prints the year they were born (assuming the current year is 2025).\n",
        "\n",
        "Try running this code:"
      ]
    },
    {
      "cell_type": "code",
      "execution_count": null,
      "id": "6vZfF_wsCjcL",
      "metadata": {
        "id": "6vZfF_wsCjcL"
      },
      "outputs": [],
      "source": [
        "age = int(input(\"How old are you? \"))\n",
        "\n",
        "current_year = 2025\n",
        "\n",
        "birth_year = current_year - age\n",
        "\n",
        "print(\"You were born in\", birth_year)"
      ]
    },
    {
      "cell_type": "markdown",
      "id": "UUuEpkUPDFlT",
      "metadata": {
        "id": "UUuEpkUPDFlT"
      },
      "source": [
        "### 🔥 Wrap-Up\n",
        "\n",
        "Thanks for following along with this introduction to Python input and output!\n",
        "You’ve taken the first important steps in learning how to interact with users through your code.\n",
        "Keep practicing and don’t be afraid to try your own variations!\n",
        "\n",
        "### 🙌 Well Done!\n",
        "\n",
        "You’ve completed this section!\n",
        "Great job on learning the basics of user input and output in Python. 🎉\n",
        "\n",
        "### 💡 Remember: every great programmer was once a beginner who didn’t give up."
      ]
    }
  ],
  "metadata": {
    "colab": {
      "provenance": []
    },
    "kernelspec": {
      "display_name": "datascience",
      "language": "python",
      "name": "python3"
    },
    "language_info": {
      "codemirror_mode": {
        "name": "ipython",
        "version": 3
      },
      "file_extension": ".py",
      "mimetype": "text/x-python",
      "name": "python",
      "nbconvert_exporter": "python",
      "pygments_lexer": "ipython3",
      "version": "3.12.11"
    }
  },
  "nbformat": 4,
  "nbformat_minor": 5
}
