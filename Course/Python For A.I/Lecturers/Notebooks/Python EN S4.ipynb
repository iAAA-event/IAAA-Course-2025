{
  "cells": [
    {
      "cell_type": "markdown",
      "id": "63aec81c",
      "metadata": {
        "id": "63aec81c"
      },
      "source": [
        "# 📘 Notebook 4: Introduction to Loops and their related commands in Python\n",
        "\n",
        "### 👨 Lecturer: *Mohammad Fotouhi*  \n",
        "### 📅 Date: *[YYYY-MM-DD]*\n",
        "\n",
        "### 🎯 Objectives\n",
        "\n",
        "In this notebook, you will:\n",
        "\n",
        "- learn about loops in Python — specifically for and while loops.\n",
        "- learn how to control the flow inside loops using the break and continue statements.\n",
        "\n",
        "This notebook is designed to guide you step-by-step."
      ]
    },
    {
      "cell_type": "markdown",
      "id": "L2cuO0C4vaIo",
      "metadata": {
        "id": "L2cuO0C4vaIo"
      },
      "source": [
        "## 📌 Section 1: Loops in Python"
      ]
    },
    {
      "cell_type": "markdown",
      "id": "o5wbeVrn6k_Q",
      "metadata": {
        "id": "o5wbeVrn6k_Q"
      },
      "source": [
        "### 🔸 Conditional Statements\n",
        "\n",
        "\n",
        "- What is a Loop in Programming?\n",
        "\n",
        "  In programming, a loop is a control structure that allows you to repeat a block of code multiple times.\n",
        "\n",
        "  Instead of writing the same lines of code again and again, we can automate repetition using loops.\n",
        "\n",
        "- Why Use Loops?\n",
        "\n",
        "  Loops are used when:\n",
        "\n",
        "  - You need to perform a task multiple times.\n",
        "\n",
        "  - You want to iterate over data (like a list of numbers or names).\n",
        "\n",
        "  - You want to automate repetitive calculations.\n",
        "\n",
        "  - You want to keep asking the user for input until a certain condition is met.  \n",
        "\n"
      ]
    },
    {
      "cell_type": "markdown",
      "id": "nufVD1GSFHN5",
      "metadata": {
        "id": "nufVD1GSFHN5"
      },
      "source": [
        "### 🔹 What is a Basic for Loop?\n",
        "\n",
        "The for loop is used when you want to iterate over a known sequence of items, such as numbers, characters in a string, or elements in a list.\n",
        "\n",
        "Syntax:\n",
        "\n",
        "    [✔]    for variable in sequence:\n",
        "    [✔]        # do something\n",
        "   "
      ]
    },
    {
      "cell_type": "markdown",
      "id": "3uRaj9NDIefB",
      "metadata": {
        "id": "3uRaj9NDIefB"
      },
      "source": [
        "### 🔍 Explanation\n",
        "\n",
        "- variable is a temporary name that takes the value of each item in the sequence.\n",
        "\n",
        "- The loop runs once for each item."
      ]
    },
    {
      "cell_type": "code",
      "execution_count": null,
      "id": "NqAoe70AF65I",
      "metadata": {
        "id": "NqAoe70AF65I"
      },
      "outputs": [],
      "source": [
        "for i in range(5):  # i = 0, 1, 2, 3, 4\n",
        "    print(i)"
      ]
    },
    {
      "cell_type": "code",
      "execution_count": null,
      "id": "l_c4gEPPF8kA",
      "metadata": {
        "id": "l_c4gEPPF8kA"
      },
      "outputs": [],
      "source": [
        "for i in range(1, 5):  # i = 1, 2, 3, 4\n",
        "    print(i)"
      ]
    },
    {
      "cell_type": "markdown",
      "id": "_wHuJ2WLHRbh",
      "metadata": {
        "id": "_wHuJ2WLHRbh"
      },
      "source": [
        "### 🔹 What is a Nested for Loop?\n",
        "\n",
        "A nested loop means putting one loop inside another loop.\n",
        "\n",
        "This allows us to repeat a block of code within another repeated block, which is useful when dealing with:\n",
        "\n",
        "- Grids or matrices\n",
        "\n",
        "- Tables\n",
        "\n",
        "- Patterns\n",
        "\n",
        "- Combinations or permutations\n",
        "\n",
        "Syntax:\n",
        "\n",
        "    [✔]    for outer in outer_sequence:\n",
        "    [✔]        # outer block\n",
        "    [✔]\n",
        "    [✔]        for inner in inner_sequence:\n",
        "    [✔]            # inner block"
      ]
    },
    {
      "cell_type": "markdown",
      "id": "_x_DvQp3IbqJ",
      "metadata": {
        "id": "_x_DvQp3IbqJ"
      },
      "source": [
        "### 💡 Important Notes\n",
        "\n",
        "The inner loop runs completely every time the outer loop runs once."
      ]
    },
    {
      "cell_type": "code",
      "execution_count": null,
      "id": "DORSZ7xEI-Mh",
      "metadata": {
        "colab": {
          "base_uri": "https://localhost:8080/"
        },
        "id": "DORSZ7xEI-Mh",
        "outputId": "e691e3e1-b93d-429e-d59e-202cc7e59b7b"
      },
      "outputs": [
        {
          "name": "stdout",
          "output_type": "stream",
          "text": [
            "i = 0, j = 0\n",
            "i = 0, j = 1\n",
            "i = 0, j = 2\n",
            "\n",
            "i = 1, j = 0\n",
            "i = 1, j = 1\n",
            "i = 1, j = 2\n",
            "\n",
            "i = 2, j = 0\n",
            "i = 2, j = 1\n",
            "i = 2, j = 2\n",
            "\n"
          ]
        }
      ],
      "source": [
        "for i in range(3):  # Outer loop → rows            # i = 0, 1, 2\n",
        "    for j in range(3):  # Inner loop → columns          # j = 0, 1, 2\n",
        "        print(f\"i = {i}, j = {j}\")\n",
        "\n",
        "    print()  # Newline after each row\n"
      ]
    },
    {
      "cell_type": "markdown",
      "id": "DEzP4GfMRX08",
      "metadata": {
        "id": "DEzP4GfMRX08"
      },
      "source": [
        "### 🔹 What is a while Loop?\n",
        "\n",
        "The while loop repeats a block of code as long as a given condition is true. It's useful when the number of iterations is not known in advance.\n",
        "\n",
        "Syntax:\n",
        "\n",
        "    [✔]        while condition:\n",
        "    [✔]            # do something\n"
      ]
    },
    {
      "cell_type": "markdown",
      "id": "5xcj0Hp2SJg7",
      "metadata": {
        "id": "5xcj0Hp2SJg7"
      },
      "source": [
        "\n",
        "### 🔍 Explanation:\n",
        "\n",
        "Before every iteration, Python checks the condition.\n",
        "\n",
        "- If it's True, the block runs.\n",
        "\n",
        "- If it's False, the loop ends."
      ]
    },
    {
      "cell_type": "code",
      "execution_count": null,
      "id": "k18CtsrYSfs8",
      "metadata": {
        "colab": {
          "base_uri": "https://localhost:8080/"
        },
        "id": "k18CtsrYSfs8",
        "outputId": "9fdc4573-1157-4bff-b1c9-df6b8ff9dce8"
      },
      "outputs": [
        {
          "name": "stdout",
          "output_type": "stream",
          "text": [
            "1\n",
            "2\n",
            "3\n",
            "4\n",
            "5\n"
          ]
        }
      ],
      "source": [
        "i = 1\n",
        "\n",
        "while i <= 5: # i = 1, 2, 3, 4, 5\n",
        "    print(i)\n",
        "\n",
        "    i = i + 1"
      ]
    },
    {
      "cell_type": "markdown",
      "id": "okZDftQgwTwI",
      "metadata": {
        "id": "okZDftQgwTwI"
      },
      "source": [
        "## 📌 Section 2: Break and Continue statements and their Syntax in Python"
      ]
    },
    {
      "cell_type": "markdown",
      "id": "JZoN5c20VNkq",
      "metadata": {
        "id": "JZoN5c20VNkq"
      },
      "source": [
        "###  🚫 The break Statement\n",
        "\n",
        "- What is break?\n",
        "\n",
        "  The break statement immediately terminates the closest enclosing loop, regardless of the loop’s condition.\n",
        "\n",
        "  When break is executed, the loop stops running, and the program continues with the first statement after the loop.\n",
        "\n",
        "- Why use break?\n",
        "\n",
        "  - To exit a loop early when a certain condition is met.\n",
        "\n",
        "  - To avoid unnecessary iterations once the desired result is found.\n",
        "\n",
        "  - To prevent infinite loops in some cases.\n",
        "\n",
        "Syntax:\n",
        "\n",
        "    [✔]    while True:\n",
        "    [✔]         # some code\n",
        "    [✔]\n",
        "    [✔]         if condition:\n",
        "    [✔]             break  # exit the loop immediately"
      ]
    },
    {
      "cell_type": "code",
      "execution_count": null,
      "id": "D1i0hAP-WsRM",
      "metadata": {
        "id": "D1i0hAP-WsRM"
      },
      "outputs": [],
      "source": [
        "i = 1\n",
        "\n",
        "while True:\n",
        "    print(i)\n",
        "\n",
        "    if i == 5:\n",
        "        break # 😈: If you are mischievous, remove or comment out this line\n",
        "\n",
        "    i = i + 1"
      ]
    },
    {
      "cell_type": "markdown",
      "id": "lu2uu52QVNiF",
      "metadata": {
        "id": "lu2uu52QVNiF"
      },
      "source": [
        "### ⏭️ The continue Statement\n",
        "\n",
        "- What is continue?\n",
        "\n",
        "  The continue statement skips the rest of the current loop iteration and moves directly to the next iteration.\n",
        "\n",
        "  It does not exit the loop but tells Python to skip all remaining code below it in the loop body for that iteration.\n",
        "\n",
        "- Why use continue?\n",
        "\n",
        "  - To skip specific cases without breaking out of the entire loop.\n",
        "\n",
        "  - To improve readability by avoiding nested if statements.\n",
        "\n",
        "  - To ignore certain iterations based on a condition.\n",
        "\n",
        "Syntax:\n",
        "\n",
        "    [✔]    for item in iterable:\n",
        "    [✔]         # some code\n",
        "    [✔]\n",
        "    [✔]         if condition:\n",
        "    [✔]             continue     # skip this iteration\n",
        "    [✔]\n",
        "    [✔]         # code here runs only if condition is False"
      ]
    },
    {
      "cell_type": "code",
      "execution_count": null,
      "id": "ebTFEkeUYqhU",
      "metadata": {
        "id": "ebTFEkeUYqhU"
      },
      "outputs": [],
      "source": [
        "while True:\n",
        "    user_input = input(\"Enter a positive number: \")\n",
        "\n",
        "    if not user_input.isdigit():\n",
        "        print(\"Invalid input, try again.\")\n",
        "\n",
        "        continue  # ask again without processing further\n",
        "\n",
        "    number = int(user_input)\n",
        "\n",
        "    if number < 0:\n",
        "        print(\"Number must be positive!\")\n",
        "\n",
        "        continue\n",
        "\n",
        "    print(f\"You entered {number}\")\n",
        "\n",
        "    break"
      ]
    },
    {
      "cell_type": "markdown",
      "id": "OE9ytTMPY0sE",
      "metadata": {
        "id": "OE9ytTMPY0sE"
      },
      "source": [
        "### 💡 Important Notes\n",
        "\n",
        "- Both break and continue affect only the innermost loop where they are called.\n",
        "\n",
        "- In nested loops, if you want to break out of multiple levels of loops, you need other techniques (like flags or functions with return)."
      ]
    },
    {
      "cell_type": "markdown",
      "id": "va59wg9g8nFi",
      "metadata": {
        "id": "va59wg9g8nFi"
      },
      "source": [
        "## 📌 Section 3: Practical Use Cases"
      ]
    },
    {
      "cell_type": "markdown",
      "id": "NFr26oG5bfPy",
      "metadata": {
        "id": "NFr26oG5bfPy"
      },
      "source": [
        "### 📝 Exercise 1: Multiplication Table\n",
        "\n",
        "Write a program that:\n",
        "\n",
        "Create a multiplication table.\n",
        "\n",
        "Try running these codes:"
      ]
    },
    {
      "cell_type": "code",
      "execution_count": null,
      "id": "CdnEvKuPcJRH",
      "metadata": {
        "colab": {
          "base_uri": "https://localhost:8080/"
        },
        "id": "CdnEvKuPcJRH",
        "outputId": "a99d6790-38e9-4ddb-a3f7-40f4881f5be8"
      },
      "outputs": [
        {
          "name": "stdout",
          "output_type": "stream",
          "text": [
            "1\t2\t3\t4\t5\t6\t7\t8\t9\t10\t\n",
            "2\t4\t6\t8\t10\t12\t14\t16\t18\t20\t\n",
            "3\t6\t9\t12\t15\t18\t21\t24\t27\t30\t\n",
            "4\t8\t12\t16\t20\t24\t28\t32\t36\t40\t\n",
            "5\t10\t15\t20\t25\t30\t35\t40\t45\t50\t\n",
            "6\t12\t18\t24\t30\t36\t42\t48\t54\t60\t\n",
            "7\t14\t21\t28\t35\t42\t49\t56\t63\t70\t\n",
            "8\t16\t24\t32\t40\t48\t56\t64\t72\t80\t\n",
            "9\t18\t27\t36\t45\t54\t63\t72\t81\t90\t\n",
            "10\t20\t30\t40\t50\t60\t70\t80\t90\t100\t\n"
          ]
        }
      ],
      "source": [
        "for i in range(1, 11):\n",
        "    for j in range(1, 11):\n",
        "        print(i * j, end = '\\t')\n",
        "\n",
        "    print()"
      ]
    },
    {
      "cell_type": "code",
      "execution_count": null,
      "id": "cHpjMq7rLA86",
      "metadata": {
        "colab": {
          "base_uri": "https://localhost:8080/"
        },
        "id": "cHpjMq7rLA86",
        "outputId": "983eeaba-6d95-47e5-858d-c4e6ac69cc84"
      },
      "outputs": [
        {
          "name": "stdout",
          "output_type": "stream",
          "text": [
            "1\t2\t3\t4\t5\t6\t7\t8\t9\t10\t\n",
            "2\t4\t6\t8\t10\t12\t14\t16\t18\t20\t\n",
            "3\t6\t9\t12\t15\t18\t21\t24\t27\t30\t\n",
            "4\t8\t12\t16\t20\t24\t28\t32\t36\t40\t\n",
            "5\t10\t15\t20\t25\t30\t35\t40\t45\t50\t\n",
            "6\t12\t18\t24\t30\t36\t42\t48\t54\t60\t\n",
            "7\t14\t21\t28\t35\t42\t49\t56\t63\t70\t\n",
            "8\t16\t24\t32\t40\t48\t56\t64\t72\t80\t\n",
            "9\t18\t27\t36\t45\t54\t63\t72\t81\t90\t\n",
            "10\t20\t30\t40\t50\t60\t70\t80\t90\t100\t\n"
          ]
        }
      ],
      "source": [
        "i = 1\n",
        "\n",
        "while i <= 10:\n",
        "    j = 1\n",
        "\n",
        "    while j <= 10:\n",
        "        print(i * j, end = '\\t')\n",
        "\n",
        "        j = j + 1\n",
        "\n",
        "    print()\n",
        "\n",
        "    i = i + 1"
      ]
    },
    {
      "cell_type": "markdown",
      "id": "xAWCFq9NBCET",
      "metadata": {
        "id": "xAWCFq9NBCET"
      },
      "source": [
        "### 📝 More Exercises:"
      ]
    },
    {
      "cell_type": "markdown",
      "id": "xsh-GL2IBj47",
      "metadata": {
        "id": "xsh-GL2IBj47"
      },
      "source": [
        "### 📝 Exercise 2: The sum of numbers\n",
        "\n",
        "Write a program that:\n",
        "\n",
        "Calculate the sum of numbers from 1 to 100.\n",
        "\n",
        "Try running these codes:"
      ]
    },
    {
      "cell_type": "code",
      "execution_count": null,
      "id": "gy2Xxn5Gcjn6",
      "metadata": {
        "colab": {
          "base_uri": "https://localhost:8080/"
        },
        "id": "gy2Xxn5Gcjn6",
        "outputId": "d99295c1-636c-4bd7-8d87-5352257664ec"
      },
      "outputs": [
        {
          "name": "stdout",
          "output_type": "stream",
          "text": [
            "Sum using for loop: 5050\n"
          ]
        }
      ],
      "source": [
        "total = 0\n",
        "\n",
        "for i in range(1, 101):\n",
        "    total = total + i\n",
        "\n",
        "print(\"Sum using for loop:\", total)"
      ]
    },
    {
      "cell_type": "code",
      "execution_count": null,
      "id": "hwTK86-tMP66",
      "metadata": {
        "colab": {
          "base_uri": "https://localhost:8080/"
        },
        "id": "hwTK86-tMP66",
        "outputId": "d9f4dad7-d770-4919-fbea-4cfa13c65d8b"
      },
      "outputs": [
        {
          "name": "stdout",
          "output_type": "stream",
          "text": [
            "Sum using while loop: 5050\n"
          ]
        }
      ],
      "source": [
        "total = 0\n",
        "\n",
        "i = 1\n",
        "\n",
        "while i <= 100:\n",
        "    total = total + i\n",
        "\n",
        "    i = i + 1\n",
        "\n",
        "print(\"Sum using while loop:\", total)"
      ]
    },
    {
      "cell_type": "markdown",
      "id": "L18unZN9bl05",
      "metadata": {
        "id": "L18unZN9bl05"
      },
      "source": [
        "### 📝 Exercise 3: Triangle Pattern\n",
        "\n",
        "Write a program that:\n",
        "\n",
        "Print a tiangle pattern with `*` like this one:\n",
        "\n",
        "    [✔]    *\n",
        "    [✔]    **\n",
        "    [✔]    ***\n",
        "    [✔]    ****\n",
        "    [✔]    *****\n",
        "\n",
        "Try running these codes:"
      ]
    },
    {
      "cell_type": "code",
      "execution_count": null,
      "id": "J1lwCFo7dSLj",
      "metadata": {
        "colab": {
          "base_uri": "https://localhost:8080/"
        },
        "id": "J1lwCFo7dSLj",
        "outputId": "e68d56a1-3fa5-435a-89ad-c18023c8b45e"
      },
      "outputs": [
        {
          "name": "stdout",
          "output_type": "stream",
          "text": [
            "*\n",
            "**\n",
            "***\n",
            "****\n",
            "*****\n"
          ]
        }
      ],
      "source": [
        "for i in range(1, 6):\n",
        "    for j in range(i):\n",
        "        print(\"*\", end = \"\")\n",
        "\n",
        "    print()"
      ]
    },
    {
      "cell_type": "code",
      "execution_count": null,
      "id": "ZI9r901aPR3z",
      "metadata": {
        "colab": {
          "base_uri": "https://localhost:8080/"
        },
        "id": "ZI9r901aPR3z",
        "outputId": "7db9641e-b4bc-4c54-c086-076c905fc3fd"
      },
      "outputs": [
        {
          "name": "stdout",
          "output_type": "stream",
          "text": [
            "*\n",
            "**\n",
            "***\n",
            "****\n",
            "*****\n"
          ]
        }
      ],
      "source": [
        "i = 1\n",
        "\n",
        "while i <= 5:\n",
        "    j = 0\n",
        "\n",
        "    while j < i:\n",
        "\n",
        "        print(\"*\", end = \"\")\n",
        "\n",
        "        j += 1\n",
        "\n",
        "    print()\n",
        "\n",
        "    i += 1"
      ]
    },
    {
      "cell_type": "markdown",
      "id": "vCFycNAfbmLy",
      "metadata": {
        "id": "vCFycNAfbmLy"
      },
      "source": [
        "### 📝 Exercise 4: Skip Printing\n",
        "\n",
        "Write a program that:\n",
        "\n",
        "Print Multiples of 3 Between 1 and 100, Skip Multiples of 5.\n",
        "\n",
        "Try running these codes:"
      ]
    },
    {
      "cell_type": "code",
      "execution_count": null,
      "id": "EDh64Ac3dV9F",
      "metadata": {
        "colab": {
          "base_uri": "https://localhost:8080/"
        },
        "id": "EDh64Ac3dV9F",
        "outputId": "9ddf6d61-ec2e-4371-8cc7-ed032bb51326"
      },
      "outputs": [
        {
          "name": "stdout",
          "output_type": "stream",
          "text": [
            "3\n",
            "6\n",
            "9\n",
            "12\n",
            "18\n",
            "21\n",
            "24\n",
            "27\n",
            "33\n",
            "36\n",
            "39\n",
            "42\n",
            "48\n",
            "51\n",
            "54\n",
            "57\n",
            "63\n",
            "66\n",
            "69\n",
            "72\n",
            "78\n",
            "81\n",
            "84\n",
            "87\n",
            "93\n",
            "96\n",
            "99\n"
          ]
        }
      ],
      "source": [
        "for num in range(1, 101):\n",
        "    if num % 3 == 0:\n",
        "        if num % 5 == 0:\n",
        "            continue\n",
        "\n",
        "        print(num)"
      ]
    },
    {
      "cell_type": "code",
      "execution_count": null,
      "id": "-BWxxuicQMhz",
      "metadata": {
        "colab": {
          "base_uri": "https://localhost:8080/"
        },
        "id": "-BWxxuicQMhz",
        "outputId": "7cd5a9b7-da1b-4e07-899d-1165ec0b23cc"
      },
      "outputs": [
        {
          "name": "stdout",
          "output_type": "stream",
          "text": [
            "3\n",
            "6\n",
            "9\n",
            "12\n",
            "18\n",
            "21\n",
            "24\n",
            "27\n",
            "33\n",
            "36\n",
            "39\n",
            "42\n",
            "48\n",
            "51\n",
            "54\n",
            "57\n",
            "63\n",
            "66\n",
            "69\n",
            "72\n",
            "78\n",
            "81\n",
            "84\n",
            "87\n",
            "93\n",
            "96\n",
            "99\n"
          ]
        }
      ],
      "source": [
        "num = 1\n",
        "\n",
        "while num <= 100:\n",
        "    if num % 3 == 0:\n",
        "        if num % 5 == 0:\n",
        "            num = num + 1\n",
        "\n",
        "            continue\n",
        "\n",
        "        print(num)\n",
        "\n",
        "    num = num + 1"
      ]
    },
    {
      "cell_type": "markdown",
      "id": "RTkc14cjbmle",
      "metadata": {
        "id": "RTkc14cjbmle"
      },
      "source": [
        "### 📝 Exercise 5: SwapTriangle Type Checker\n",
        "\n",
        "Write a program that:\n",
        "\n",
        "Keep asking the user to enter numbers until the sum of the entered numbers exceeds 500.\n",
        "\n",
        "- If the user enters a negative number, ignore it and continue to ask for the next input (use continue).\n",
        "\n",
        "- Once the sum exceeds 500, stop the loop and print the total sum.\n",
        "\n",
        "Try running this code:"
      ]
    },
    {
      "cell_type": "code",
      "execution_count": null,
      "id": "4JZ_JeQmdXFi",
      "metadata": {
        "id": "4JZ_JeQmdXFi"
      },
      "outputs": [],
      "source": [
        "total_sum = 0\n",
        "\n",
        "while True:\n",
        "    num = int(input(\"Enter a number: \"))\n",
        "\n",
        "    if num < 0:\n",
        "        print(\"Negative number ignored.\")\n",
        "\n",
        "        continue\n",
        "\n",
        "    total_sum += num\n",
        "\n",
        "    if total_sum > 500:\n",
        "        break\n",
        "\n",
        "print(f\"Total sum exceeded 500: {total_sum}\")"
      ]
    },
    {
      "cell_type": "markdown",
      "id": "UUuEpkUPDFlT",
      "metadata": {
        "id": "UUuEpkUPDFlT"
      },
      "source": [
        "### 🔥 Wrap-Up\n",
        "\n",
        "Thanks for completing this part of your Python journey!\n",
        "\n",
        "In this notebook, you’ve explored one of the fundamental concepts in programming — **loops and flow control**. These powerful tools allow your programs to repeat tasks efficiently and make decisions during repetition.\n",
        "\n",
        "You've also learned how to:\n",
        "\n",
        "* Use `for` and `while` loops to automate repetitive tasks\n",
        "* Control loop execution with `break` and `continue` statements\n",
        "* Handle nested loops for complex, multi-dimensional problems\n",
        "* Apply loops to solve real-world algorithmic challenges\n",
        "\n",
        "This knowledge enables you to write dynamic, efficient, and flexible programs that can process data, interact with users, and perform calculations repeatedly without redundant code.\n",
        "\n",
        "Keep practicing by creating your own loops and experimenting with different conditions and controls!\n",
        "\n",
        "### 🙌 Well Done!\n",
        "\n",
        "You’ve successfully completed this section! 🎉\n",
        "Your skills in Python loops and control flow are growing — and you’re now ready to tackle more complex programming tasks with confidence.\n",
        "\n",
        "### 💡 Remember\n",
        "\n",
        "Loops and flow control are at the heart of programming logic.\n",
        "Every complex program is built upon these simple, powerful constructs.\n",
        "Stay curious, break problems into smaller parts, and practice regularly — that’s the key to becoming a great programmer!"
      ]
    }
  ],
  "metadata": {
    "colab": {
      "provenance": []
    },
    "kernelspec": {
      "display_name": "datascience",
      "language": "python",
      "name": "python3"
    },
    "language_info": {
      "codemirror_mode": {
        "name": "ipython",
        "version": 3
      },
      "file_extension": ".py",
      "mimetype": "text/x-python",
      "name": "python",
      "nbconvert_exporter": "python",
      "pygments_lexer": "ipython3",
      "version": "3.12.11"
    }
  },
  "nbformat": 4,
  "nbformat_minor": 5
}
