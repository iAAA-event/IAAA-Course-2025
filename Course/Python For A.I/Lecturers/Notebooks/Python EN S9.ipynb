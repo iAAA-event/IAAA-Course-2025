{
  "cells": [
    {
      "cell_type": "markdown",
      "id": "63aec81c",
      "metadata": {
        "id": "63aec81c"
      },
      "source": [
        "# 📘 Notebook 9: Introduction to Lambda Functions in Python\n",
        "\n",
        "### 👨 Lecturer: *Mohammad Fotouhi*  \n",
        "### 📅 Date: *[YYYY-MM-DD]*\n",
        "\n",
        "### 🎯 Objectives\n",
        "\n",
        "In this notebook, you will:\n",
        "\n",
        "- learn What lambda functions are and why they are used.\n",
        "\n",
        "This notebook is designed to guide you step-by-step."
      ]
    },
    {
      "cell_type": "markdown",
      "id": "L2cuO0C4vaIo",
      "metadata": {
        "id": "L2cuO0C4vaIo"
      },
      "source": [
        "## 📌 Section 1: Lambda Functions\n",
        "\n",
        "- What is a lambda function?\n",
        "\n",
        "  A lambda function in Python is:\n",
        "\n",
        "  - Anonymous → it has no name (unlike normal functions)\n",
        "\n",
        "  - Single-expression → it contains only one line of logic\n",
        "\n",
        "  - Lightweight → perfect for short tasks where defining a full function is unnecessary\n",
        "\n",
        "  Syntax:\n",
        "\n",
        "        [✔]   lambda arguments: expression\n"
      ]
    },
    {
      "cell_type": "markdown",
      "id": "nxAQuvg05_nn",
      "metadata": {
        "id": "nxAQuvg05_nn"
      },
      "source": [
        "- lambda → tells Python you are creating a lambda function\n",
        "\n",
        "- arguments → the input variables (just like normal function parameters)\n",
        "\n",
        "- expression → the operation to perform, and its result is automatically returned"
      ]
    },
    {
      "cell_type": "markdown",
      "id": "3LlW2uMA5_kx",
      "metadata": {
        "id": "3LlW2uMA5_kx"
      },
      "source": [
        "- When to use lambda?\n",
        "\n",
        "  - Inside other functions that expect a function as an argument (like map, filter, reduce)\n",
        "\n",
        "  - For small, temporary tasks\n",
        "\n",
        "  - When you don’t want to define a full function with def\n",
        "\n",
        "- ⚠ Limitations of lambda\n",
        "\n",
        "  - Only one expression allowed\n",
        "\n",
        "  - Cannot contain statements (e.g., print, for, if outside the expression)\n",
        "\n",
        "  - Should not be overused—readability matters"
      ]
    },
    {
      "cell_type": "markdown",
      "id": "ThsBkg_v5_hZ",
      "metadata": {
        "id": "ThsBkg_v5_hZ"
      },
      "source": [
        "Example: Traditional function vs Lambda:"
      ]
    },
    {
      "cell_type": "code",
      "execution_count": null,
      "id": "tvRjumjv8hkz",
      "metadata": {
        "id": "tvRjumjv8hkz"
      },
      "outputs": [],
      "source": [
        "def add(a, b):\n",
        "    return a + b\n",
        "\n",
        "add_lambda = lambda a, b: a + b\n",
        "\n",
        "print(add(3, 5))         # Output: 8\n",
        "print(add_lambda(3, 5))  # Output: 8"
      ]
    },
    {
      "cell_type": "markdown",
      "id": "eRETSTny5_ej",
      "metadata": {
        "id": "eRETSTny5_ej"
      },
      "source": [
        "- What happens here?\n",
        "\n",
        "  1. In the def version, we define a named function add that takes two arguments and returns their sum.\n",
        "\n",
        "  2. In the lambda version, we create the same logic in one line without naming the function."
      ]
    },
    {
      "cell_type": "markdown",
      "id": "XdxZ5Ela5_bc",
      "metadata": {
        "id": "XdxZ5Ela5_bc"
      },
      "source": [
        "### 📒 The map() Function"
      ]
    },
    {
      "cell_type": "markdown",
      "id": "Sx2HHnTV95Gw",
      "metadata": {
        "id": "Sx2HHnTV95Gw"
      },
      "source": [
        "map() applies a given function to each item of an iterable (like a list) and returns a new iterable (map object).\n",
        "\n",
        "Syntax:\n",
        "\n",
        "      [✔]   map(function, iterable)\n"
      ]
    },
    {
      "cell_type": "code",
      "execution_count": null,
      "id": "C3chOBSw-H-t",
      "metadata": {
        "id": "C3chOBSw-H-t"
      },
      "outputs": [],
      "source": [
        "numbers = [1, 2, 3, 4]\n",
        "\n",
        "squares = list(map(lambda x: x**2, numbers))\n",
        "\n",
        "print(squares)  # [1, 4, 9, 16]"
      ]
    },
    {
      "cell_type": "markdown",
      "id": "Vg74Qewq5_Yq",
      "metadata": {
        "id": "Vg74Qewq5_Yq"
      },
      "source": [
        "- What happens here?\n",
        "\n",
        "  1. Takes lambda x: x**2 as the function\n",
        "\n",
        "  2. Applies it to each element of [1, 2, 3, 4]\n",
        "\n",
        "  3. Returns a map object → converted to a list for printing"
      ]
    },
    {
      "cell_type": "markdown",
      "id": "z0nm93si5_WB",
      "metadata": {
        "id": "z0nm93si5_WB"
      },
      "source": [
        "### 🔍 The filter() Function\n",
        "\n",
        "- What does filter() do?\n",
        "\n",
        "  - Takes a function and an iterable\n",
        "\n",
        "  - The function must return True or False for each element\n",
        "\n",
        "  - Only elements where the function returns True are included in the result\n",
        "\n",
        "  Syntax:\n",
        "\n",
        "          [✔]    filter(function, iterable)\n"
      ]
    },
    {
      "cell_type": "code",
      "execution_count": null,
      "id": "f_qEpmeH_cHo",
      "metadata": {
        "id": "f_qEpmeH_cHo"
      },
      "outputs": [],
      "source": [
        "numbers = [1, 2, 3, 4, 5, 6]\n",
        "\n",
        "evens = list(filter(lambda x: x % 2 == 0, numbers))\n",
        "\n",
        "print(evens)  # [2, 4, 6]"
      ]
    },
    {
      "cell_type": "markdown",
      "id": "rqwcK0fs5_Sr",
      "metadata": {
        "id": "rqwcK0fs5_Sr"
      },
      "source": [
        "- What happens here?\n",
        "\n",
        "  1. The lambda lambda x: x % 2 == 0 checks if a number is even.\n",
        "\n",
        "  2. For 1 → False, excluded\n",
        "\n",
        "  3. For 2 → True, included\n",
        "\n",
        "  4. Continues until list is filtered"
      ]
    },
    {
      "cell_type": "code",
      "execution_count": null,
      "id": "lVUI7VLg_qPY",
      "metadata": {
        "id": "lVUI7VLg_qPY"
      },
      "outputs": [],
      "source": [
        "def is_even(num):\n",
        "    return num % 2 == 0\n",
        "\n",
        "print(list(filter(is_even, [1, 2, 3, 4, 5, 6])))  # [2, 4, 6]"
      ]
    },
    {
      "cell_type": "markdown",
      "id": "ReQZiwQY5_Pr",
      "metadata": {
        "id": "ReQZiwQY5_Pr"
      },
      "source": [
        "### 📉 The reduce() Function\n",
        "\n",
        "- What does reduce() do?\n",
        "\n",
        "  - Applies a function cumulatively to elements in an iterable\n",
        "\n",
        "  - Returns a single value\n",
        "\n",
        "  - Commonly used for sum, product, min, max, concatenation etc.\n",
        "\n",
        "  Syntax:\n",
        "\n",
        "          [✔]    from functools import reduce\n",
        "          [✔]    reduce(function, iterable)\n",
        "\n",
        "\n"
      ]
    },
    {
      "cell_type": "code",
      "execution_count": null,
      "id": "6utHEfXjAc5O",
      "metadata": {
        "id": "6utHEfXjAc5O"
      },
      "outputs": [],
      "source": [
        "from functools import reduce\n",
        "\n",
        "numbers = [1, 2, 3, 4]\n",
        "\n",
        "product = reduce(lambda x, y: x * y, numbers)\n",
        "\n",
        "print(product)  # 24"
      ]
    },
    {
      "cell_type": "markdown",
      "id": "8gSVQBM15_KT",
      "metadata": {
        "id": "8gSVQBM15_KT"
      },
      "source": [
        "- What happens here?\n",
        "\n",
        "  - Start with first two numbers: 1 * 2 = 2\n",
        "\n",
        "  - Multiply result with next number: 2 * 3 = 6\n",
        "\n",
        "  - Multiply result with next number: 6 * 4 = 24\n"
      ]
    },
    {
      "cell_type": "markdown",
      "id": "DdbyMEyn5_HT",
      "metadata": {
        "id": "DdbyMEyn5_HT"
      },
      "source": [
        "### 🔗 Combining map(), filter(), and reduce()"
      ]
    },
    {
      "cell_type": "code",
      "execution_count": null,
      "id": "FvFqtY1mA3QU",
      "metadata": {
        "id": "FvFqtY1mA3QU"
      },
      "outputs": [],
      "source": [
        "from functools import reduce\n",
        "\n",
        "numbers = [1, 2, 3, 4, 5, 6]\n",
        "\n",
        "result = reduce(lambda x, y: x * y, map(lambda x: x**2, filter(lambda x: x % 2 == 0, numbers)))\n",
        "\n",
        "print(result)\n",
        "# Calculation: (2^2) * (4^2) * (6^2) = 4 * 16 * 36 = 2304"
      ]
    },
    {
      "cell_type": "markdown",
      "id": "37_sv3IL5_EG",
      "metadata": {
        "id": "37_sv3IL5_EG"
      },
      "source": [
        "- Why this is powerful:\n",
        "\n",
        "  - Without creating extra variables\n",
        "\n",
        "  - Works in a functional, pipeline style"
      ]
    },
    {
      "cell_type": "markdown",
      "id": "wXVTwsgN5_CE",
      "metadata": {
        "id": "wXVTwsgN5_CE"
      },
      "source": [
        "### ✨ Advanced and Important Notes about map, filter, and reduce"
      ]
    },
    {
      "cell_type": "markdown",
      "id": "1PYBsI1u5_Aa",
      "metadata": {
        "id": "1PYBsI1u5_Aa"
      },
      "source": [
        "1. Return Types\n",
        "\n",
        "  - In Python 3, map() and filter() return iterators (map and filter objects), not lists. To see their contents, you need to convert them using list() or tuple().\n",
        "\n",
        "  - This makes them lazy, meaning they generate items on demand, which can be more memory efficient."
      ]
    },
    {
      "cell_type": "code",
      "execution_count": null,
      "id": "kZInvlkZBsOB",
      "metadata": {
        "id": "kZInvlkZBsOB"
      },
      "outputs": [],
      "source": [
        "numbers = [1, 2, 3, 4, 5]\n",
        "\n",
        "mapped = map(lambda x: x * 2, numbers)\n",
        "\n",
        "filtered = filter(lambda x: x % 2 == 0, numbers)\n",
        "\n",
        "print(mapped)          # <map object at 0x...>\n",
        "print(filtered)        # <filter object at 0x...>\n",
        "\n",
        "# To see actual results, convert to list\n",
        "print(list(mapped))    # [2, 4, 6, 8, 10]\n",
        "print(list(filtered))  # [2, 4]"
      ]
    },
    {
      "cell_type": "markdown",
      "id": "lHG8bUE35--i",
      "metadata": {
        "id": "lHG8bUE35--i"
      },
      "source": [
        "2. Functional Programming Style\n",
        "\n",
        "  - These functions promote writing pure functions and stateless code, improving readability and testability."
      ]
    },
    {
      "cell_type": "code",
      "execution_count": null,
      "id": "0tUCqnexBsjB",
      "metadata": {
        "id": "0tUCqnexBsjB"
      },
      "outputs": [],
      "source": [
        "def pure_function(x):\n",
        "    return x * 2  # No side effects, same output for same input\n",
        "\n",
        "numbers = [1, 2, 3]\n",
        "\n",
        "result = list(map(pure_function, numbers))\n",
        "\n",
        "print(result)  # [2, 4, 6]"
      ]
    },
    {
      "cell_type": "markdown",
      "id": "PYO73uX-5-7i",
      "metadata": {
        "id": "PYO73uX-5-7i"
      },
      "source": [
        "3. Performance and Optimization\n",
        "\n",
        "  - map() and filter() are generally faster than equivalent for loops because they are implemented in C internally.\n",
        "\n",
        "  - However, the speed difference is usually minor; readability should be prioritized."
      ]
    },
    {
      "cell_type": "code",
      "execution_count": null,
      "id": "and0Xns2Bs8B",
      "metadata": {
        "id": "and0Xns2Bs8B"
      },
      "outputs": [],
      "source": [
        "import time\n",
        "\n",
        "numbers = list(range(1000000))\n",
        "\n",
        "start = time.time()\n",
        "\n",
        "result_loop = []\n",
        "\n",
        "for n in numbers:\n",
        "    if n % 2 == 0:\n",
        "        result_loop.append(n * 2)\n",
        "\n",
        "end = time.time()\n",
        "\n",
        "print(\"For-loop time:\", end - start)\n",
        "\n",
        "start = time.time()\n",
        "\n",
        "result_map_filter = list(map(lambda x: x * 2, filter(lambda x: x % 2 == 0, numbers)))\n",
        "\n",
        "end = time.time()\n",
        "\n",
        "print(\"Map+Filter time:\", end - start)"
      ]
    },
    {
      "cell_type": "markdown",
      "id": "KCdOodZx5-4y",
      "metadata": {
        "id": "KCdOodZx5-4y"
      },
      "source": [
        "4. Challenges with reduce()\n",
        "\n",
        "  - reduce() can make code harder to read and understand, so sometimes using explicit loops is better.\n",
        "\n",
        "  - Using an initializer in reduce() is important to avoid errors with empty iterables."
      ]
    },
    {
      "cell_type": "code",
      "execution_count": null,
      "id": "x4L7q3CBBtPp",
      "metadata": {
        "id": "x4L7q3CBBtPp"
      },
      "outputs": [],
      "source": [
        "from functools import reduce\n",
        "\n",
        "numbers = [1, 2, 3, 4]\n",
        "\n",
        "product = reduce(lambda x, y: x * y, numbers)\n",
        "\n",
        "print(product)  # 24\n",
        "\n",
        "empty_list = []\n",
        "\n",
        "product_with_init = reduce(lambda x, y: x * y, empty_list, 1)\n",
        "\n",
        "print(product_with_init)  # 1 (safe for empty lists)"
      ]
    },
    {
      "cell_type": "markdown",
      "id": "y1UjxmVP5-0C",
      "metadata": {
        "id": "y1UjxmVP5-0C"
      },
      "source": [
        "5. Initializer Argument in reduce()\n",
        "\n",
        "  - You can provide a starting value (initializer) to reduce() to handle empty iterables safely:"
      ]
    },
    {
      "cell_type": "code",
      "execution_count": null,
      "id": "f-nV6bQ6BtgR",
      "metadata": {
        "id": "f-nV6bQ6BtgR"
      },
      "outputs": [],
      "source": [
        "from functools import reduce\n",
        "\n",
        "numbers = []\n",
        "\n",
        "try:\n",
        "    result = reduce(lambda x, y: x + y, numbers)\n",
        "\n",
        "except TypeError as e:\n",
        "    print(\"Error without initializer:\", e)\n",
        "\n",
        "result = reduce(lambda x, y: x + y, numbers, 0)\n",
        "\n",
        "print(\"Result with initializer:\", result)  # 0"
      ]
    },
    {
      "cell_type": "markdown",
      "id": "GA6aJ1WHBuJv",
      "metadata": {
        "id": "GA6aJ1WHBuJv"
      },
      "source": [
        "6. Python Alternatives\n",
        "\n",
        "  - Built-in functions like sum() are specialized alternatives to reduce for common tasks.\n",
        "\n",
        "  - List comprehensions often replace map() and filter() with clearer syntax."
      ]
    },
    {
      "cell_type": "code",
      "execution_count": null,
      "id": "9MVaCaEWBuZp",
      "metadata": {
        "id": "9MVaCaEWBuZp"
      },
      "outputs": [],
      "source": [
        "numbers = [1, 2, 3, 4, 5]\n",
        "\n",
        "print(sum(numbers))  # 15\n",
        "\n",
        "result = [x * 2 for x in numbers if x % 2 == 0]\n",
        "\n",
        "print(result)  # [4, 8]"
      ]
    },
    {
      "cell_type": "markdown",
      "id": "lZ0RcixLBut5",
      "metadata": {
        "id": "lZ0RcixLBut5"
      },
      "source": [
        "7. map() with Multiple Iterables\n",
        "\n",
        "  - map() can accept multiple iterables and apply the function to items from each iterable pairwise:"
      ]
    },
    {
      "cell_type": "code",
      "execution_count": null,
      "id": "NxCohJspBvFB",
      "metadata": {
        "id": "NxCohJspBvFB"
      },
      "outputs": [],
      "source": [
        "list1 = [1, 2, 3]\n",
        "list2 = [4, 5, 6]\n",
        "\n",
        "result = list(map(lambda x, y: x + y, list1, list2))\n",
        "\n",
        "print(result)  # [5, 7, 9]"
      ]
    },
    {
      "cell_type": "markdown",
      "id": "9S285JOCBvfx",
      "metadata": {
        "id": "9S285JOCBvfx"
      },
      "source": [
        "8. filter() vs List Comprehensions\n",
        "\n",
        "  - List comprehensions can achieve the same filtering effect as filter(). Sometimes filter() is cleaner when the filtering function is complex."
      ]
    },
    {
      "cell_type": "code",
      "execution_count": null,
      "id": "Y8J9ceyGBv0R",
      "metadata": {
        "id": "Y8J9ceyGBv0R"
      },
      "outputs": [],
      "source": [
        "numbers = [1, 2, 3, 4, 5, 6]\n",
        "\n",
        "evens_filter = list(filter(lambda x: x % 2 == 0, numbers))\n",
        "\n",
        "print(\"Filter:\", evens_filter)  # [2, 4, 6]\n",
        "\n",
        "evens_lc = [x for x in numbers if x % 2 == 0]\n",
        "\n",
        "print(\"List comprehension:\", evens_lc)  # [2, 4, 6]"
      ]
    },
    {
      "cell_type": "markdown",
      "id": "rksvqFJIBwCa",
      "metadata": {
        "id": "rksvqFJIBwCa"
      },
      "source": [
        "9. Using Built-in Functions Instead of Lambda\n",
        "\n",
        "  - You can pass built-in functions like str.upper, math.sqrt, etc., directly to map() or filter() instead of writing lambdas."
      ]
    },
    {
      "cell_type": "code",
      "execution_count": null,
      "id": "Q1V88ifABwVR",
      "metadata": {
        "id": "Q1V88ifABwVR"
      },
      "outputs": [],
      "source": [
        "words = ['apple', 'banana', 'cherry']\n",
        "\n",
        "upper_lambda = list(map(lambda x: x.upper(), words))\n",
        "\n",
        "print(upper_lambda)  # ['APPLE', 'BANANA', 'CHERRY']\n",
        "\n",
        "upper_builtin = list(map(str.upper, words))\n",
        "\n",
        "print(upper_builtin)  # ['APPLE', 'BANANA', 'CHERRY']"
      ]
    },
    {
      "cell_type": "markdown",
      "id": "va59wg9g8nFi",
      "metadata": {
        "id": "va59wg9g8nFi"
      },
      "source": [
        "## 📌 Section 2: Practical Use Cases"
      ]
    },
    {
      "cell_type": "markdown",
      "id": "NFr26oG5bfPy",
      "metadata": {
        "id": "NFr26oG5bfPy"
      },
      "source": [
        "### 📝 Exercise 1: Find the Weighted Average of Filtered Values\n",
        "\n",
        "Write a program that:\n",
        "\n",
        "takes two lists of equal length: values and their corresponding weights.\n",
        "Filter out values below a threshold, then compute the weighted average of the remaining values using map, filter, and reduce.\n",
        "\n",
        "Try running these codes:"
      ]
    },
    {
      "cell_type": "code",
      "execution_count": null,
      "id": "aoNmhx3ZdAfO",
      "metadata": {
        "id": "aoNmhx3ZdAfO"
      },
      "outputs": [],
      "source": [
        "from functools import reduce\n",
        "\n",
        "values = [10, 20, 30, 40, 50]\n",
        "\n",
        "weights = [1, 2, 3, 4, 5]\n",
        "\n",
        "threshold = 25\n",
        "\n",
        "filtered = list(filter(lambda vw: vw[0] >= threshold, zip(values, weights)))\n",
        "\n",
        "if filtered:\n",
        "    weighted_values = list(map(lambda vw: vw[0] * vw[1], filtered))\n",
        "\n",
        "    total_weight = reduce(lambda x, y: x + y, map(lambda vw: vw[1], filtered))\n",
        "\n",
        "    weighted_sum = reduce(lambda x, y: x + y, weighted_values)\n",
        "\n",
        "    weighted_avg = weighted_sum / total_weight\n",
        "\n",
        "else:\n",
        "    weighted_avg = 0\n",
        "\n",
        "print(\"Weighted average:\", weighted_avg)"
      ]
    },
    {
      "cell_type": "markdown",
      "id": "xAWCFq9NBCET",
      "metadata": {
        "id": "xAWCFq9NBCET"
      },
      "source": [
        "### 📝 More Exercises:"
      ]
    },
    {
      "cell_type": "markdown",
      "id": "xsh-GL2IBj47",
      "metadata": {
        "id": "xsh-GL2IBj47"
      },
      "source": [
        "### 📝 Exercise 2: Find All Anagrams in a List\n",
        "\n",
        "Write a program that:\n",
        "\n",
        "groups a list of strings into sublists of anagrams using functional tools.\n",
        "Hint: Use map to normalize words and filter to group.\n",
        "\n",
        "Try running these codes:"
      ]
    },
    {
      "cell_type": "code",
      "execution_count": null,
      "id": "gy2Xxn5Gcjn6",
      "metadata": {
        "id": "gy2Xxn5Gcjn6"
      },
      "outputs": [],
      "source": [
        "words = [\"listen\", \"silent\", \"enlist\", \"hello\", \"below\", \"elbow\"]\n",
        "\n",
        "normalized = list(map(lambda w: ''.join(sorted(w)), words))\n",
        "\n",
        "anagram_dict = {}\n",
        "\n",
        "for word, norm in zip(words, normalized):\n",
        "    anagram_dict.setdefault(norm, []).append(word)\n",
        "\n",
        "anagram_groups = list(filter(lambda grp: len(grp) > 1, anagram_dict.values()))\n",
        "\n",
        "print(\"Anagram groups:\", anagram_groups)"
      ]
    },
    {
      "cell_type": "markdown",
      "id": "61y64fGO7kl0",
      "metadata": {
        "id": "61y64fGO7kl0"
      },
      "source": [
        "### 📝 Exercise 3: Find the Maximum Sum of Consecutive Numbers\n",
        "\n",
        "Write a program that:\n",
        "\n",
        "finds the maximum sum of any consecutive sub-list of length k from a list of integers, using map, filter, and reduce as much as possible.\n",
        "\n",
        "Try running these codes:"
      ]
    },
    {
      "cell_type": "code",
      "execution_count": null,
      "id": "99Kmqawpr4iA",
      "metadata": {
        "id": "99Kmqawpr4iA"
      },
      "outputs": [],
      "source": [
        "from functools import reduce\n",
        "\n",
        "numbers = [2, -1, 3, 4, -2, 6, -3]\n",
        "\n",
        "k = 3\n",
        "\n",
        "sublists = list(map(lambda i: numbers[i:i+k], range(len(numbers) - k + 1)))\n",
        "\n",
        "sums = list(map(lambda sub: reduce(lambda x, y: x + y, sub), sublists))\n",
        "\n",
        "max_sum = reduce(lambda x, y: x if x > y else y, sums)\n",
        "\n",
        "print(\"Maximum sum of consecutive\", k, \"numbers:\", max_sum)"
      ]
    },
    {
      "cell_type": "markdown",
      "id": "vCFycNAfbmLy",
      "metadata": {
        "id": "vCFycNAfbmLy"
      },
      "source": [
        "### 📝 Exercise 4: Chain Multiple Filters and Maps\n",
        "\n",
        "Write a program that:\n",
        "\n",
        "takes a list of numbers and applies the following transformations:\n",
        "\n",
        "  - Filter out negative numbers\n",
        "\n",
        "  - Double the remaining numbers\n",
        "\n",
        "  - Filter out numbers that are not divisible by 3\n",
        "\n",
        "  - Finally, sum all remaining numbers\n",
        "\n",
        "  - Use map, filter, and reduce in a chained manner.\n",
        "\n",
        "Try running these codes:"
      ]
    },
    {
      "cell_type": "code",
      "execution_count": null,
      "id": "zC0g73BXsSgB",
      "metadata": {
        "colab": {
          "base_uri": "https://localhost:8080/"
        },
        "id": "zC0g73BXsSgB",
        "outputId": "94213c32-8f3c-4161-974e-56dd759de8d8"
      },
      "outputs": [
        {
          "name": "stdout",
          "output_type": "stream",
          "text": [
            "[[], [3], [2], [2, 3], [1], [1, 3], [1, 2], [1, 2, 3]]\n"
          ]
        }
      ],
      "source": [
        "from functools import reduce\n",
        "\n",
        "numbers = [-5, 3, 6, -2, 9, 12, 7]\n",
        "\n",
        "result = reduce(lambda x, y: x + y, filter(lambda x: x % 3 == 0, map(lambda x: x * 2, filter(lambda x: x >= 0, numbers))), 0)\n",
        "\n",
        "print(\"Final result:\", result)"
      ]
    },
    {
      "cell_type": "markdown",
      "id": "vNOG1K1T2bri",
      "metadata": {
        "id": "vNOG1K1T2bri"
      },
      "source": [
        "### 📝 Exercise 5: Custom Reduce to Flatten Nested Lists\n",
        "\n",
        "Write a program that:\n",
        "\n",
        "flattens a nested list (a list containing sublists) into a single list using the reduce function.\n",
        "\n",
        "Try running these codes:"
      ]
    },
    {
      "cell_type": "code",
      "execution_count": null,
      "id": "jIayMb8t2r6r",
      "metadata": {
        "id": "jIayMb8t2r6r"
      },
      "outputs": [],
      "source": [
        "from functools import reduce\n",
        "\n",
        "nested = [[1, 2], [3, 4], [5, 6, 7]]\n",
        "\n",
        "flattened = reduce(lambda x, y: x + y, nested)\n",
        "\n",
        "print(\"Flattened list:\", flattened)"
      ]
    },
    {
      "cell_type": "markdown",
      "id": "UUuEpkUPDFlT",
      "metadata": {
        "id": "UUuEpkUPDFlT"
      },
      "source": [
        "### 🔥 Wrap-Up\n",
        "\n",
        "Thanks for diving into this important step of your Python journey!\n",
        "\n",
        "In this notebook, you’ve explored the fundamental skills of **anonymous functions (lambda)** and **higher-order functions (map, filter, reduce)** — powerful tools that enable you to write concise, expressive, and efficient code for processing collections of data.\n",
        "\n",
        "You’ve learned how to:\n",
        "\n",
        "- Define and use **lambda functions** as quick, unnamed, single-expression functions\n",
        "- Apply **map()** to transform each element in a collection\n",
        "- Use **filter()** to select elements based on conditions\n",
        "- Utilize **reduce()** to aggregate elements into a single result\n",
        "- Combine these functions to build expressive data-processing pipelines\n",
        "- Understand advanced concepts like lazy iterators, initializer arguments in reduce, and multiple iterables in map\n",
        "\n",
        "These skills form the core of functional programming techniques in Python and help you write code that is both elegant and performant.\n",
        "\n",
        "### 🙌 Well Done!\n",
        "\n",
        "You’ve completed this important section! 🎉\n",
        "Mastering these functional tools will empower you to handle complex data transformations and lay the groundwork for more advanced topics like generators, comprehensions, and functional design patterns.\n",
        "\n",
        "### 💡 Remember\n",
        "\n",
        "Lambda and higher-order functions are among the most versatile constructs in Python.\n",
        "By combining them thoughtfully, you can solve problems with fewer lines of code and greater clarity.\n",
        "Keep practicing by applying these techniques in your own projects — and you’ll become a more fluent and confident Python programmer!"
      ]
    }
  ],
  "metadata": {
    "colab": {
      "provenance": []
    },
    "kernelspec": {
      "display_name": "datascience",
      "language": "python",
      "name": "python3"
    },
    "language_info": {
      "codemirror_mode": {
        "name": "ipython",
        "version": 3
      },
      "file_extension": ".py",
      "mimetype": "text/x-python",
      "name": "python",
      "nbconvert_exporter": "python",
      "pygments_lexer": "ipython3",
      "version": "3.12.11"
    }
  },
  "nbformat": 4,
  "nbformat_minor": 5
}
