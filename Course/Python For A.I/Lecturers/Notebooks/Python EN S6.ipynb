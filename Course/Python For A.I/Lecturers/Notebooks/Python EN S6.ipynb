{
  "cells": [
    {
      "cell_type": "markdown",
      "id": "63aec81c",
      "metadata": {
        "id": "63aec81c"
      },
      "source": [
        "# 📘 Notebook 6: Introduction to Functions and Recursions Python\n",
        "\n",
        "### 👨 Lecturer: *Mohammad Fotouhi*  \n",
        "### 📅 Date: *[YYYY-MM-DD]*\n",
        "\n",
        "### 🎯 Objectives\n",
        "\n",
        "In this notebook, you will:\n",
        "\n",
        "- become familiar with defining functions, arguments, and return values.\n",
        "\n",
        "This notebook is designed to guide you step-by-step."
      ]
    },
    {
      "cell_type": "markdown",
      "id": "L2cuO0C4vaIo",
      "metadata": {
        "id": "L2cuO0C4vaIo"
      },
      "source": [
        "## 📌 Section 1: Functions and Return Values their syntax in Python"
      ]
    },
    {
      "cell_type": "markdown",
      "id": "28KmTOeVgFc_",
      "metadata": {
        "id": "28KmTOeVgFc_"
      },
      "source": [
        "### ♦️ Functions\n",
        "\n",
        "- What is a Function?\n",
        "\n",
        " A function is a reusable block of code designed to perform a specific task.\n",
        "  Instead of writing the same code multiple times, you can define it once and then call it whenever needed.\n",
        "\n",
        "- Think of a function like a machine:\n",
        "\n",
        "  - You give it input (arguments).\n",
        "\n",
        "  - It does something with the input.\n",
        "\n",
        "  - It gives you output (return value).\n",
        "\n",
        "- Why Do We Use Functions?\n",
        "\n",
        "  1. Avoid Repetition\n",
        "\n",
        "    - If you find yourself copying the same code in multiple places, put it inside a function.\n",
        "\n",
        "  2. Improve Readability\n",
        "\n",
        "    - Code is easier to read when complex logic is inside a function with a meaningful name.\n",
        "\n",
        "  3. Easier Maintenance\n",
        "\n",
        "    - If you need to change the logic, you only change it once in the function, not in every copy.\n",
        "\n",
        "  4. Reusability\n",
        "\n",
        "    - You can use the same function in different projects or parts of your program.\n",
        "\n",
        "Syntax:\n",
        "\n",
        "      [✔]    def function_name(parameters):\n",
        "      [✔]        # function body\n",
        "      [✔]\n",
        "      [✔]        return value  # optional\n"
      ]
    },
    {
      "cell_type": "markdown",
      "id": "YOyLuk61iMmP",
      "metadata": {
        "id": "YOyLuk61iMmP"
      },
      "source": [
        "- Parts of a Function Definition:\n",
        "\n",
        "  1. def keyword – tells Python you are defining a function.\n",
        "\n",
        "  2. Function name – should describe what the function does (e.g., calculate_area).\n",
        "\n",
        "  3. Parameters (inside parentheses) – optional variables the function needs.\n",
        "\n",
        "  4. Colon (:) – marks the start of the function body.\n",
        "\n",
        "  5. Indentation – everything inside the function must be indented.\n",
        "\n",
        "  6. Return statement (optional) – sends a value back to the place where the function was called."
      ]
    },
    {
      "cell_type": "markdown",
      "id": "eDv2t13FkZ3P",
      "metadata": {
        "id": "eDv2t13FkZ3P"
      },
      "source": [
        "A Simple Function (No Parameters, No Return Value):"
      ]
    },
    {
      "cell_type": "code",
      "execution_count": null,
      "id": "64dUNnW_kct_",
      "metadata": {
        "id": "64dUNnW_kct_"
      },
      "outputs": [],
      "source": [
        "def say_hello():\n",
        "    print(\"Hello, World!\")\n",
        "\n",
        "say_hello()"
      ]
    },
    {
      "cell_type": "markdown",
      "id": "cB07hAJnkhcQ",
      "metadata": {
        "id": "cB07hAJnkhcQ"
      },
      "source": [
        "- say_hello is the function name.\n",
        "\n",
        "- It does not take any parameters.\n",
        "\n",
        "- It just prints text when called."
      ]
    },
    {
      "cell_type": "markdown",
      "id": "WnIRX12Fjcz_",
      "metadata": {
        "id": "WnIRX12Fjcz_"
      },
      "source": [
        "### ♦️ Parameters and Arguments\n",
        "\n",
        "- What’s the Difference?\n",
        "\n",
        "  - Parameter → A variable in the function definition that acts as a placeholder for the input value.\n",
        "\n",
        "  - Argument → The actual value you pass into the function when calling it.\n",
        "\n",
        "!!! Think of a parameter like an empty box with a label, and an argument like the item you put inside that box. !!!"
      ]
    },
    {
      "cell_type": "code",
      "execution_count": null,
      "id": "yGFzfre2knuv",
      "metadata": {
        "id": "yGFzfre2knuv"
      },
      "outputs": [],
      "source": [
        "def greet(name):\n",
        "    print(f\"Hello, {name}!\")\n",
        "\n",
        "greet(\"Alice\")"
      ]
    },
    {
      "cell_type": "markdown",
      "id": "D44VIh40j42j",
      "metadata": {
        "id": "D44VIh40j42j"
      },
      "source": [
        "- name → parameter (defined inside parentheses in def).\n",
        "\n",
        "- \"Alice\" → argument (the value we give to the parameter when calling the function)."
      ]
    },
    {
      "cell_type": "markdown",
      "id": "1R6Uybuoj4z_",
      "metadata": {
        "id": "1R6Uybuoj4z_"
      },
      "source": [
        "### ♦️ Types of Arguments in Python\n",
        "\n",
        "1. Positional Arguments\n",
        "\n",
        "  - The most common type.\n",
        "\n",
        "  - The order matters — the first argument goes to the first parameter, the second to the second, etc."
      ]
    },
    {
      "cell_type": "code",
      "execution_count": null,
      "id": "1l5ensOFk_93",
      "metadata": {
        "id": "1l5ensOFk_93"
      },
      "outputs": [],
      "source": [
        "def add(a, b):\n",
        "    print(a + b)\n",
        "\n",
        "add(5, 3)"
      ]
    },
    {
      "cell_type": "markdown",
      "id": "MkNlini_jcwB",
      "metadata": {
        "id": "MkNlini_jcwB"
      },
      "source": [
        "2. Keyword Arguments\n",
        "\n",
        "  - You specify the parameter name when calling the function.\n",
        "\n",
        "  - The order does not matter."
      ]
    },
    {
      "cell_type": "code",
      "execution_count": null,
      "id": "mXLPP1TilIiQ",
      "metadata": {
        "id": "mXLPP1TilIiQ"
      },
      "outputs": [],
      "source": [
        "def introduce(name, age):\n",
        "    print(f\"My name is {name} and I am {age} years old.\")\n",
        "\n",
        "introduce(age = 25, name = \"Alice\")"
      ]
    },
    {
      "cell_type": "markdown",
      "id": "xVc4b0pZjcsf",
      "metadata": {
        "id": "xVc4b0pZjcsf"
      },
      "source": [
        "3. Default Arguments\n",
        "\n",
        "  - You can assign a default value to a parameter.\n",
        "\n",
        "  - If no argument is provided for that parameter, the default value is used."
      ]
    },
    {
      "cell_type": "code",
      "execution_count": null,
      "id": "QTPDKHMylTNn",
      "metadata": {
        "id": "QTPDKHMylTNn"
      },
      "outputs": [],
      "source": [
        "def greet(name=\"Guest\"):\n",
        "    print(f\"Hello, {name}!\")\n",
        "\n",
        "greet()\n",
        "greet(\"Alice\")"
      ]
    },
    {
      "cell_type": "markdown",
      "id": "DddM_aFaiqpq",
      "metadata": {
        "id": "DddM_aFaiqpq"
      },
      "source": [
        "4. Variable-Length Arguments\n",
        "\n",
        "  - Sometimes you don’t know how many arguments will be passed. Python provides:\n",
        "\n",
        "  - *args → for multiple positional arguments.\n",
        "\n",
        "  - **kwargs → for multiple keyword arguments."
      ]
    },
    {
      "cell_type": "markdown",
      "id": "1QGbZYYrld2n",
      "metadata": {
        "id": "1QGbZYYrld2n"
      },
      "source": [
        "Example with *args:"
      ]
    },
    {
      "cell_type": "code",
      "execution_count": null,
      "id": "J4d-mEvxijfP",
      "metadata": {
        "id": "J4d-mEvxijfP"
      },
      "outputs": [],
      "source": [
        "def sum_numbers(*args):\n",
        "    total = 0\n",
        "\n",
        "    for num in args:\n",
        "        total = total + num\n",
        "\n",
        "    print(\"Total:\", total)\n",
        "\n",
        "sum_numbers(1, 2, 3, 4, 5)"
      ]
    },
    {
      "cell_type": "markdown",
      "id": "kq0l_of1lmfX",
      "metadata": {
        "id": "kq0l_of1lmfX"
      },
      "source": [
        "Example with **kwargs:"
      ]
    },
    {
      "cell_type": "code",
      "execution_count": null,
      "id": "NFfBjAxrlmy4",
      "metadata": {
        "id": "NFfBjAxrlmy4"
      },
      "outputs": [],
      "source": [
        "def print_info(**kwargs):\n",
        "    for key, value in kwargs.items():\n",
        "        print(f\"{key}: {value}\")\n",
        "\n",
        "print_info(name = \"Alice\", age = 25, city = \"New York\")"
      ]
    },
    {
      "cell_type": "markdown",
      "id": "zK__YPMzl4MH",
      "metadata": {
        "id": "zK__YPMzl4MH"
      },
      "source": [
        "### ♦️ Return Values\n",
        "\n",
        "- What is a Return Value?\n",
        "\n",
        "  - A return value is the output a function sends back to the code that called it.\n",
        "  In Python, we use the return keyword to send a value back.\n",
        "\n",
        "  - !!! Without return, a function will automatically return None. !!!\n",
        "\n",
        "- Why Use Return Values?\n",
        "\n",
        "  - To save a result for later use.\n",
        "\n",
        "  - To pass results from one function to another.\n",
        "\n",
        "  - To make functions reusable for different data.\n",
        "\n",
        "Syntax:\n",
        "\n",
        "    [✔]    def function_name(parameters):\n",
        "    [✔]        # Do something\n",
        "    [✔]       \n",
        "    [✔]        return value"
      ]
    },
    {
      "cell_type": "markdown",
      "id": "xD9MACVnmXEY",
      "metadata": {
        "id": "xD9MACVnmXEY"
      },
      "source": [
        "When the function reaches a return statement:\n",
        "\n",
        "- It sends the value back to the caller.\n",
        "\n",
        "- It stops executing the rest of the function."
      ]
    },
    {
      "cell_type": "markdown",
      "id": "1BEWchMinAVx",
      "metadata": {
        "id": "1BEWchMinAVx"
      },
      "source": [
        "### ♦️ Returning a Single Value"
      ]
    },
    {
      "cell_type": "code",
      "execution_count": null,
      "id": "TMOTvTT-nJx_",
      "metadata": {
        "id": "TMOTvTT-nJx_"
      },
      "outputs": [],
      "source": [
        "def add(a, b):\n",
        "    return a + b\n",
        "\n",
        "result = add(5, 3)\n",
        "\n",
        "print(\"Sum:\", result)"
      ]
    },
    {
      "cell_type": "markdown",
      "id": "GnpY_zT3nNGQ",
      "metadata": {
        "id": "GnpY_zT3nNGQ"
      },
      "source": [
        "- a + b is calculated inside the function.\n",
        "\n",
        "- return sends that value to result."
      ]
    },
    {
      "cell_type": "markdown",
      "id": "C1LtJ_VinTOn",
      "metadata": {
        "id": "C1LtJ_VinTOn"
      },
      "source": [
        "### ♦️ Printing vs Returning"
      ]
    },
    {
      "cell_type": "code",
      "execution_count": null,
      "id": "DCC_kaD6nYJf",
      "metadata": {
        "id": "DCC_kaD6nYJf"
      },
      "outputs": [],
      "source": [
        "def add_print(a, b):\n",
        "    print(a + b)\n",
        "\n",
        "def add_return(a, b):\n",
        "    return a + b\n",
        "\n",
        "sum1 = add_print(3, 4)\n",
        "sum2 = add_return(3, 4)\n",
        "\n",
        "print(\"sum1: \", sum1)\n",
        "print(\"sum2: \", sum2)"
      ]
    },
    {
      "cell_type": "markdown",
      "id": "emDZGY0oni7Y",
      "metadata": {
        "id": "emDZGY0oni7Y"
      },
      "source": [
        "- print() just displays the value.\n",
        "\n",
        "- return actually gives you the value to use later."
      ]
    },
    {
      "cell_type": "markdown",
      "id": "Nt9D4njqnk5g",
      "metadata": {
        "id": "Nt9D4njqnk5g"
      },
      "source": [
        "### ♦️ Multiple Return Values\n",
        "\n",
        "Python allows returning multiple values by separating them with commas — they will be returned as a tuple."
      ]
    },
    {
      "cell_type": "code",
      "execution_count": null,
      "id": "aJD-FMI6nv1o",
      "metadata": {
        "id": "aJD-FMI6nv1o"
      },
      "outputs": [],
      "source": [
        "def get_stats(numbers):\n",
        "    total = sum(numbers)\n",
        "\n",
        "    count = len(numbers)\n",
        "\n",
        "    average = total / count\n",
        "\n",
        "    return total, count, average\n",
        "\n",
        "total, count, average = get_stats([10, 20, 30])\n",
        "\n",
        "print(\"Total:\", total)\n",
        "print(\"Count:\", count)\n",
        "print(\"Average:\", average)"
      ]
    },
    {
      "cell_type": "markdown",
      "id": "88iVnTp4n0wf",
      "metadata": {
        "id": "88iVnTp4n0wf"
      },
      "source": [
        "### ♦️ Returning Without a Value\n",
        "\n",
        "If you write return without a value, or don’t use return at all, the function returns None."
      ]
    },
    {
      "cell_type": "code",
      "execution_count": null,
      "id": "NbQGZME_n_-o",
      "metadata": {
        "id": "NbQGZME_n_-o"
      },
      "outputs": [],
      "source": [
        "def do_nothing():\n",
        "    return\n",
        "\n",
        "print(do_nothing())"
      ]
    },
    {
      "cell_type": "markdown",
      "id": "pTJ-rd23oEfA",
      "metadata": {
        "id": "pTJ-rd23oEfA"
      },
      "source": [
        "### 💡 Important Notes\n",
        "\n",
        "- A function can only return once unless that return is inside different branches of code.\n",
        "\n",
        "- Once a return is executed, the function ends immediately.\n",
        "\n",
        "- You can return any type: numbers, strings, lists, dictionaries, even other functions."
      ]
    },
    {
      "cell_type": "markdown",
      "id": "E6iLu4Vho3hw",
      "metadata": {
        "id": "E6iLu4Vho3hw"
      },
      "source": [
        "### ♦️ Recursion\n",
        "\n",
        "- What is Recursion?\n",
        "\n",
        "  Recursion is when a function calls itself to solve a smaller version of the original problem.\n",
        "\n",
        "  Think of it like a set of Russian nesting dolls:\n",
        "\n",
        "  - Each doll contains a smaller doll inside.\n",
        "\n",
        "  - Eventually, you reach the smallest doll — that’s the base case.\n",
        "\n",
        "- Why Use Recursion?\n",
        "\n",
        "  - Makes some problems simpler and more elegant.\n",
        "\n",
        "  - Useful for problems that can be broken into smaller, similar subproblems.\n",
        "\n",
        "  - Common in algorithms like searching, sorting, and tree/graph traversal."
      ]
    },
    {
      "cell_type": "markdown",
      "id": "RtGN2YNzpVWQ",
      "metadata": {
        "id": "RtGN2YNzpVWQ"
      },
      "source": [
        "### ♦️ Key Components of a Recursive Function\n",
        "\n",
        "A recursive function must have:\n",
        "\n",
        "1. Base Case\n",
        "\n",
        "  - A condition where the function stops calling itself.\n",
        "\n",
        "  - Prevents infinite loops and stack overflow errors.\n",
        "\n",
        "2. Recursive Case\n",
        "\n",
        "  - The part where the function calls itself with a smaller or simpler input.\n",
        "\n",
        "!!! Without a base case, recursion will never stop. !!!\n",
        "\n",
        "Syntax:\n",
        "\n",
        "\n",
        "\n",
        "\n",
        "    [✔]    def recursive_function(parameters):\n",
        "    [✔]        if base_case_condition:\n",
        "    [✔]            return some_value  # Base Case\n",
        "    [✔]\n",
        "    [✔]        else:\n",
        "    [✔]            # Recursive Case\n",
        "    [✔]            return recursive_function(smaller_problem)\n"
      ]
    },
    {
      "cell_type": "markdown",
      "id": "kGQCWG83qkyo",
      "metadata": {
        "id": "kGQCWG83qkyo"
      },
      "source": [
        "- Advantages of Recursion\n",
        "\n",
        " ✔️ Code can be shorter and easier to read for certain problems.\n",
        "\n",
        " ✔️ Directly models problems that are naturally recursive (trees, fractals, etc.)."
      ]
    },
    {
      "cell_type": "markdown",
      "id": "wN7p0ZdYquZQ",
      "metadata": {
        "id": "wN7p0ZdYquZQ"
      },
      "source": [
        "- Disadvantages of Recursion\n",
        "\n",
        " ✖️ More memory usage (because each call is stored on the stack).\n",
        "\n",
        " ✖️ Can be slower than loops for large inputs.\n",
        "\n",
        " ✖️ Without a base case, it leads to infinite recursion."
      ]
    },
    {
      "cell_type": "code",
      "execution_count": null,
      "id": "at8pcSHopqBL",
      "metadata": {
        "id": "at8pcSHopqBL"
      },
      "outputs": [],
      "source": [
        "def countdown(n):\n",
        "    if n == 0:\n",
        "        print(\"Finished!\")\n",
        "\n",
        "    else:\n",
        "        print(n)\n",
        "\n",
        "        countdown(n - 1)\n",
        "\n",
        "countdown(5)"
      ]
    },
    {
      "cell_type": "code",
      "execution_count": null,
      "id": "TKsMBCAuqcgR",
      "metadata": {
        "id": "TKsMBCAuqcgR"
      },
      "outputs": [],
      "source": [
        "def fibonacci(n):\n",
        "    if n == 0:\n",
        "        return 0\n",
        "\n",
        "    elif n == 1:\n",
        "        return 1\n",
        "\n",
        "    return fibonacci(n - 1) + fibonacci(n - 2)\n",
        "\n",
        "print(\"Fibonacci(6):\", fibonacci(6))"
      ]
    },
    {
      "cell_type": "markdown",
      "id": "va59wg9g8nFi",
      "metadata": {
        "id": "va59wg9g8nFi"
      },
      "source": [
        "## 📌 Section 2: Practical Use Cases"
      ]
    },
    {
      "cell_type": "markdown",
      "id": "NFr26oG5bfPy",
      "metadata": {
        "id": "NFr26oG5bfPy"
      },
      "source": [
        "### 📝 Exercise 1: Factorial\n",
        "\n",
        "Write a program that:\n",
        "\n",
        "Calculates the factorial of a number once recursively and once non-recursively.\n",
        "\n",
        "Try running these codes:"
      ]
    },
    {
      "cell_type": "markdown",
      "id": "VxvffYz2cZ83",
      "metadata": {
        "id": "VxvffYz2cZ83"
      },
      "source": [
        "### 🔁 Recursive Factorial Function"
      ]
    },
    {
      "cell_type": "code",
      "execution_count": null,
      "id": "CdnEvKuPcJRH",
      "metadata": {
        "colab": {
          "base_uri": "https://localhost:8080/"
        },
        "id": "CdnEvKuPcJRH",
        "outputId": "7ed02cdd-2bc4-4dd7-8453-c4150a86d575"
      },
      "outputs": [
        {
          "name": "stdout",
          "output_type": "stream",
          "text": [
            "Please enter your number: 3\n",
            "6\n"
          ]
        }
      ],
      "source": [
        "def factorial_recursive(n):\n",
        "    if n == 0 or n == 1:\n",
        "        return 1\n",
        "\n",
        "    else:\n",
        "        return n * factorial_recursive(n - 1)\n",
        "\n",
        "num = int(input(\"Please enter your number: \"))\n",
        "\n",
        "print(\"The factorial of your number is: \", factorial_recursive(num))"
      ]
    },
    {
      "cell_type": "markdown",
      "id": "QXfrpZBKc_4-",
      "metadata": {
        "id": "QXfrpZBKc_4-"
      },
      "source": [
        "### ⛔ Non-Recursive (Iterative) Factorial Function"
      ]
    },
    {
      "cell_type": "code",
      "execution_count": null,
      "id": "aoNmhx3ZdAfO",
      "metadata": {
        "id": "aoNmhx3ZdAfO"
      },
      "outputs": [],
      "source": [
        "def factorial_iterative(n):\n",
        "    result = 1\n",
        "\n",
        "    for i in range(2, n + 1):\n",
        "        result = result * i\n",
        "\n",
        "    return result\n",
        "\n",
        "num = int(input(\"Please enter your number: \"))\n",
        "\n",
        "print(\"The factorial of your number is: \", factorial_recursive(num))"
      ]
    },
    {
      "cell_type": "markdown",
      "id": "xAWCFq9NBCET",
      "metadata": {
        "id": "xAWCFq9NBCET"
      },
      "source": [
        "### 📝 More Exercises:"
      ]
    },
    {
      "cell_type": "markdown",
      "id": "xsh-GL2IBj47",
      "metadata": {
        "id": "xsh-GL2IBj47"
      },
      "source": [
        "### 📝 Exercise 2: Sumation\n",
        "\n",
        "Write a program that:\n",
        "\n",
        "Calculate the sum of all elements in a list.\n",
        "\n",
        "Try running these codes:"
      ]
    },
    {
      "cell_type": "code",
      "execution_count": null,
      "id": "gy2Xxn5Gcjn6",
      "metadata": {
        "colab": {
          "base_uri": "https://localhost:8080/"
        },
        "id": "gy2Xxn5Gcjn6",
        "outputId": "c26a551e-be6e-4582-b6d9-09ab6c182e85"
      },
      "outputs": [
        {
          "name": "stdout",
          "output_type": "stream",
          "text": [
            "The character 'o' appears 2 times.\n"
          ]
        }
      ],
      "source": [
        "def sum_list(numbers):\n",
        "    total = 0\n",
        "\n",
        "    for num in numbers:\n",
        "        total = total + num\n",
        "\n",
        "    return total\n",
        "\n",
        "my_list = [5, 10, 15, 20]\n",
        "\n",
        "result = sum_list(my_list)\n",
        "\n",
        "print(\"Sum of the list elements: \", result)"
      ]
    },
    {
      "cell_type": "markdown",
      "id": "gn6XoB8q6ttu",
      "metadata": {
        "id": "gn6XoB8q6ttu"
      },
      "source": [
        "### 📝 Exercise 3: Return to First Grade\n",
        "\n",
        "Write a program that:\n",
        "\n",
        "Convert Number to Word like this one:\n",
        "\n",
        "\n",
        "    [✔]    print(number_to_words(12345))  # Twelve Thousand Three Hundred Forty Five\n",
        "\n",
        "Try running these codes:"
      ]
    },
    {
      "cell_type": "code",
      "execution_count": null,
      "id": "99Kmqawpr4iA",
      "metadata": {
        "id": "99Kmqawpr4iA"
      },
      "outputs": [],
      "source": [
        "def number_to_words(num):\n",
        "    if num == 0:\n",
        "        return \"Zero\"\n",
        "\n",
        "    ones = [\"\",\"One\",\"Two\",\"Three\",\"Four\",\"Five\",\"Six\",\"Seven\",\"Eight\",\"Nine\", \"Ten\",\"Eleven\",\"Twelve\",\"Thirteen\",\"Fourteen\",\"Fifteen\",\"Sixteen\", \"Seventeen\",\"Eighteen\",\"Nineteen\"]\n",
        "\n",
        "    tens = [\"\",\"\",\"Twenty\",\"Thirty\",\"Forty\",\"Fifty\",\"Sixty\",\"Seventy\",\"Eighty\",\"Ninety\"]\n",
        "\n",
        "    thousands = [\"\",\"Thousand\",\"Million\",\"Billion\"]\n",
        "\n",
        "    def helper(n):\n",
        "        if n == 0:\n",
        "            return \"\"\n",
        "\n",
        "        elif n < 20:\n",
        "            return ones[n] + \" \"\n",
        "\n",
        "        elif n < 100:\n",
        "            return tens[n // 10] + \" \" + helper(n % 10)\n",
        "\n",
        "        else:\n",
        "            return ones[n // 100] + \" Hundred \" + helper(n % 100)\n",
        "\n",
        "    res = \"\"\n",
        "\n",
        "    i = 0\n",
        "\n",
        "    while num > 0:\n",
        "        if num % 1000 != 0:\n",
        "            res = helper(num % 1000) + thousands[i] + \" \" + res\n",
        "\n",
        "        num //= 1000\n",
        "\n",
        "        i += 1\n",
        "\n",
        "    return res.strip()\n",
        "\n",
        "\n",
        "print(number_to_words(1000010))"
      ]
    },
    {
      "cell_type": "markdown",
      "id": "vCFycNAfbmLy",
      "metadata": {
        "id": "vCFycNAfbmLy"
      },
      "source": [
        "### 📝 Exercise 4: Power Set\n",
        "\n",
        "Write a program that:\n",
        "\n",
        "Find All Subsets of a list like this one:\n",
        "\n",
        "    [✔]    print(power_set([1, 2, 3]))    # [[], [3], [2], [2, 3], [1], [1, 3], [1, 2], [1, 2, 3]]\n",
        "\n",
        "Try running these codes:"
      ]
    },
    {
      "cell_type": "code",
      "execution_count": null,
      "id": "zC0g73BXsSgB",
      "metadata": {
        "colab": {
          "base_uri": "https://localhost:8080/"
        },
        "id": "zC0g73BXsSgB",
        "outputId": "94213c32-8f3c-4161-974e-56dd759de8d8"
      },
      "outputs": [
        {
          "name": "stdout",
          "output_type": "stream",
          "text": [
            "[[], [3], [2], [2, 3], [1], [1, 3], [1, 2], [1, 2, 3]]\n"
          ]
        }
      ],
      "source": [
        "def power_set(s):\n",
        "    result = []\n",
        "\n",
        "    def backtrack(index, current):\n",
        "        if index == len(s):\n",
        "            result.append(current[:])\n",
        "\n",
        "            return\n",
        "\n",
        "        backtrack(index + 1, current)\n",
        "\n",
        "        current.append(s[index])\n",
        "\n",
        "        backtrack(index + 1, current)\n",
        "\n",
        "        current.pop()\n",
        "\n",
        "    backtrack(0, [])\n",
        "\n",
        "    return result\n",
        "\n",
        "print(power_set([1, 2, 3, 4]))"
      ]
    },
    {
      "cell_type": "markdown",
      "id": "UUuEpkUPDFlT",
      "metadata": {
        "id": "UUuEpkUPDFlT"
      },
      "source": [
        "### 🔥 Wrap-Up\n",
        "\n",
        "Thanks for diving into this essential part of your Python journey!\n",
        "\n",
        "In this notebook, you’ve explored the fundamental concepts of **functions, arguments, return values, and recursion** — powerful tools that help you write clean, reusable, and elegant code.\n",
        "\n",
        "You’ve learned how to:\n",
        "\n",
        "- Define your own functions to organize and modularize your code\n",
        "- Use parameters and arguments to pass data into functions flexibly\n",
        "- Return values from functions to reuse results and build complex logic\n",
        "- Understand and apply recursion to solve problems by breaking them down into smaller, similar subproblems\n",
        "\n",
        "These concepts are the backbone of many programming tasks — from simple calculations to complex algorithms and problem-solving techniques.\n",
        "\n",
        "Keep practicing by writing your own functions and solving recursive challenges, as mastering these skills will greatly improve your ability to think algorithmically and write efficient Python code!\n",
        "\n",
        "### 🙌 Well Done!\n",
        "\n",
        "You’ve completed this important section! 🎉\n",
        "Your grasp of functions and recursion is growing stronger, giving you the confidence to tackle more advanced programming concepts and projects.\n",
        "\n",
        "### 💡 Remember\n",
        "\n",
        "Functions and recursion are fundamental building blocks in programming.\n",
        "They enable you to write modular, maintainable, and scalable code — essential traits for any proficient Python developer.\n",
        "Keep exploring, experimenting, and applying these concepts regularly, and you’ll continue to grow your programming expertise!"
      ]
    }
  ],
  "metadata": {
    "colab": {
      "provenance": []
    },
    "kernelspec": {
      "display_name": "datascience",
      "language": "python",
      "name": "python3"
    },
    "language_info": {
      "codemirror_mode": {
        "name": "ipython",
        "version": 3
      },
      "file_extension": ".py",
      "mimetype": "text/x-python",
      "name": "python",
      "nbconvert_exporter": "python",
      "pygments_lexer": "ipython3",
      "version": "3.12.11"
    }
  },
  "nbformat": 4,
  "nbformat_minor": 5
}
