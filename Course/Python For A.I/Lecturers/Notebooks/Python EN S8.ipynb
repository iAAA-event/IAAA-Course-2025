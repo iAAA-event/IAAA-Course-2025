{
  "cells": [
    {
      "cell_type": "markdown",
      "id": "63aec81c",
      "metadata": {
        "id": "63aec81c"
      },
      "source": [
        "# 📘 Notebook 8: Introduction to Object-Oriented Programming (OOP) in Python\n",
        "\n",
        "### 👨 Lecturer: *Mohammad Fotouhi*  \n",
        "### 📅 Date: *[YYYY-MM-DD]*\n",
        "\n",
        "### 🎯 Objectives\n",
        "\n",
        "In this notebook, you will:\n",
        "\n",
        "- learn about Object-Oriented Programming (OOP) concepts, including classes and inheritance.\n",
        "\n",
        "This notebook is designed to guide you step-by-step."
      ]
    },
    {
      "cell_type": "markdown",
      "id": "L2cuO0C4vaIo",
      "metadata": {
        "id": "L2cuO0C4vaIo"
      },
      "source": [
        "## 📌 Section 1: Object-Oriented Programming\n",
        "\n",
        "- What is Object-Oriented Programming?\n",
        "\n",
        "  Object-Oriented Programming is a programming paradigm based on the concept of \"objects\".\n",
        "\n",
        "  These objects can contain:\n",
        "\n",
        "  - Attributes → Data about the object (variables).\n",
        "\n",
        "  - Methods → Actions the object can perform (functions).\n",
        "\n",
        "- Why use OOP?\n",
        "\n",
        "  - Makes code modular (easy to reuse).\n",
        "\n",
        "  - Makes code organized.\n",
        "\n",
        "  - Helps simulate real-world concepts in code.          "
      ]
    },
    {
      "cell_type": "markdown",
      "id": "wnpHzl-Sufwj",
      "metadata": {
        "id": "wnpHzl-Sufwj"
      },
      "source": [
        "### 📦 Defining a Class and Creating Objects"
      ]
    },
    {
      "cell_type": "code",
      "execution_count": null,
      "id": "JmmagbjruVJT",
      "metadata": {
        "id": "JmmagbjruVJT"
      },
      "outputs": [],
      "source": [
        "class Person:\n",
        "    def __init__(self, name, age):\n",
        "        self.name = name  # Instance attribute\n",
        "        self.age = age    # Instance attribute\n",
        "\n",
        "p1 = Person(\"Alice\", 25)\n",
        "p2 = Person(\"Bob\", 30)\n",
        "\n",
        "print(p1.name)  # Alice\n",
        "print(p2.age)   # 30"
      ]
    },
    {
      "cell_type": "markdown",
      "id": "tSDbw8WEsov2",
      "metadata": {
        "id": "tSDbw8WEsov2"
      },
      "source": [
        "### 💡 Explanation\n",
        "\n",
        "- class → Used to define a class.\n",
        "\n",
        "- __init__() → Constructor method, called automatically when an object is created.\n",
        "\n",
        "- self → Refers to the current object (must be the first parameter in every method inside a class).\n",
        "\n"
      ]
    },
    {
      "cell_type": "markdown",
      "id": "sUhEloo8t5f0",
      "metadata": {
        "id": "sUhEloo8t5f0"
      },
      "source": [
        "### 📦 Instance Attributes vs Class Attributes"
      ]
    },
    {
      "cell_type": "code",
      "execution_count": null,
      "id": "0-X81VSouG_M",
      "metadata": {
        "id": "0-X81VSouG_M"
      },
      "outputs": [],
      "source": [
        "class Student:\n",
        "    school = \"ABC School\"  # Class attribute (shared by all instances)\n",
        "\n",
        "    def __init__(self, name):\n",
        "        self.name = name  # Instance attribute (unique for each object)\n",
        "\n",
        "s1 = Student(\"Ali\")\n",
        "s2 = Student(\"Sara\")\n",
        "\n",
        "print(s1.school)  # ABC School\n",
        "print(s2.school)  # ABC School\n",
        "\n",
        "Student.school = \"XYZ School\"\n",
        "\n",
        "print(s1.school)  # XYZ School"
      ]
    },
    {
      "cell_type": "markdown",
      "id": "5tbaUtstu93U",
      "metadata": {
        "id": "5tbaUtstu93U"
      },
      "source": [
        "### 💡 Remember\n",
        "\n",
        "  - Instance attributes → belong to a single object.\n",
        "\n",
        "  - Class attributes → shared across all objects of that class."
      ]
    },
    {
      "cell_type": "markdown",
      "id": "n5x5AhB2vLyc",
      "metadata": {
        "id": "n5x5AhB2vLyc"
      },
      "source": [
        "### 📦 Adding Methods"
      ]
    },
    {
      "cell_type": "code",
      "execution_count": null,
      "id": "A99bpRJuvYr7",
      "metadata": {
        "id": "A99bpRJuvYr7"
      },
      "outputs": [],
      "source": [
        "class Rectangle:\n",
        "    def __init__(self, width, height):\n",
        "        self.width = width\n",
        "        self.height = height\n",
        "\n",
        "    def area(self):\n",
        "        return self.width * self.height\n",
        "\n",
        "    def perimeter(self):\n",
        "        return 2 * (self.width + self.height)\n",
        "\n",
        "rect = Rectangle(4, 5)\n",
        "\n",
        "print(rect.area())      # 20\n",
        "print(rect.perimeter()) # 18"
      ]
    },
    {
      "cell_type": "markdown",
      "id": "XFGmytcXvdD0",
      "metadata": {
        "id": "XFGmytcXvdD0"
      },
      "source": [
        "### 💡 Note\n",
        "\n",
        "All instance methods must have self as the first parameter."
      ]
    },
    {
      "cell_type": "markdown",
      "id": "zM0jqf_yvLvl",
      "metadata": {
        "id": "zM0jqf_yvLvl"
      },
      "source": [
        "### 📦 Special Methods (Dunder Methods)"
      ]
    },
    {
      "cell_type": "code",
      "execution_count": null,
      "id": "qZLUo13wvory",
      "metadata": {
        "id": "qZLUo13wvory"
      },
      "outputs": [],
      "source": [
        "class Book:\n",
        "    def __init__(self, title, pages):\n",
        "        self.title = title\n",
        "        self.pages = pages\n",
        "\n",
        "    def __str__(self):\n",
        "        return f\"{self.title} ({self.pages} pages)\"\n",
        "\n",
        "    def __len__(self):\n",
        "        return self.pages\n",
        "\n",
        "book = Book(\"Python Basics\", 250)\n",
        "\n",
        "print(book)       # Python Basics (250 pages)\n",
        "print(len(book))  # 250"
      ]
    },
    {
      "cell_type": "markdown",
      "id": "XQ541-0av0uy",
      "metadata": {
        "id": "XQ541-0av0uy"
      },
      "source": [
        "### 💡 Examples of special methods\n",
        "\n",
        "  - __str__ → defines the string representation of an object.\n",
        "\n",
        "  - __len__ → defines behavior for len().\n",
        "\n",
        "  - __eq__, __add__, etc. for custom operators.\n"
      ]
    },
    {
      "cell_type": "markdown",
      "id": "GT88jZbPvLsx",
      "metadata": {
        "id": "GT88jZbPvLsx"
      },
      "source": [
        "### 📦 Encapsulation (Access Modifiers)\n",
        "\n",
        "Encapsulation means restricting direct access to some attributes."
      ]
    },
    {
      "cell_type": "code",
      "execution_count": null,
      "id": "N5LxG_WcwO_p",
      "metadata": {
        "id": "N5LxG_WcwO_p"
      },
      "outputs": [],
      "source": [
        "class BankAccount:\n",
        "    def __init__(self, owner, balance):\n",
        "        self.owner = owner\n",
        "        self.__balance = balance  # Private attribute\n",
        "\n",
        "    def deposit(self, amount):\n",
        "        if amount > 0:\n",
        "            self.__balance += amount\n",
        "\n",
        "    def get_balance(self):\n",
        "        return self.__balance\n",
        "\n",
        "acc = BankAccount(\"Alice\", 1000)\n",
        "acc.deposit(500)\n",
        "\n",
        "print(acc.get_balance())  # 1500"
      ]
    },
    {
      "cell_type": "markdown",
      "id": "HFcexjY0whiB",
      "metadata": {
        "id": "HFcexjY0whiB"
      },
      "source": [
        "### 💡 Naming conventions\n",
        "\n",
        "  - Public → variable\n",
        "\n",
        "  - Protected → _variable (by convention)\n",
        "\n",
        "  - Private → __variable (name mangling)\n",
        "\n"
      ]
    },
    {
      "cell_type": "markdown",
      "id": "uUzfnTkNvLqJ",
      "metadata": {
        "id": "uUzfnTkNvLqJ"
      },
      "source": [
        "### 📦 Static Methods and Class Methods"
      ]
    },
    {
      "cell_type": "code",
      "execution_count": null,
      "id": "1GwAZ_Uvw4Fh",
      "metadata": {
        "id": "1GwAZ_Uvw4Fh"
      },
      "outputs": [],
      "source": [
        "class MathUtils:\n",
        "    @staticmethod\n",
        "    def add(a, b):\n",
        "        return a + b\n",
        "\n",
        "    @classmethod\n",
        "    def description(cls):\n",
        "        return f\"This is a utility class: {cls.__name__}\"\n",
        "\n",
        "print(MathUtils.add(3, 5))       # 8\n",
        "print(MathUtils.description())   # This is a utility class: MathUtils"
      ]
    },
    {
      "cell_type": "markdown",
      "id": "FqIkbxAzw-bw",
      "metadata": {
        "id": "FqIkbxAzw-bw"
      },
      "source": [
        "### 💡 Differences:\n",
        "\n",
        "- @staticmethod → No access to self or cls.\n",
        "\n",
        "- @classmethod → Access to the class itself (cls)."
      ]
    },
    {
      "cell_type": "markdown",
      "id": "Zj9hUFJWvLkc",
      "metadata": {
        "id": "Zj9hUFJWvLkc"
      },
      "source": [
        "### 📦 Inheritance\n",
        "\n",
        "Inheritance lets you create a child class that reuses and extends the behavior of a parent class.\n",
        "\n",
        "Example:"
      ]
    },
    {
      "cell_type": "code",
      "execution_count": null,
      "id": "8PEeKOO8vTNE",
      "metadata": {
        "id": "8PEeKOO8vTNE"
      },
      "outputs": [],
      "source": [
        "class Animal:\n",
        "    def __init__(self, name):\n",
        "        self.name = name\n",
        "\n",
        "    def speak(self):\n",
        "        print(\"Some generic animal sound\")\n",
        "\n",
        "class Dog(Animal):\n",
        "    def speak(self):\n",
        "        print(\"Woof!\")\n",
        "\n",
        "dog = Dog(\"Buddy\")\n",
        "dog.speak()  # Woof!"
      ]
    },
    {
      "cell_type": "markdown",
      "id": "hPHPYKt4vLY-",
      "metadata": {
        "id": "hPHPYKt4vLY-"
      },
      "source": [
        "### 📦 Using super()\n",
        "\n",
        "  - super() is a built-in Python function that allows you to call methods from a parent class inside a child class without explicitly naming the parent class.\n",
        "\n",
        "- Why is it important?\n",
        "\n",
        "  - It makes your code cleaner and easier to maintain.\n",
        "\n",
        "  - When a child class overrides a method but still wants to use some functionality from the parent’s version."
      ]
    },
    {
      "cell_type": "code",
      "execution_count": null,
      "id": "4XQCXsUeypL3",
      "metadata": {
        "id": "4XQCXsUeypL3"
      },
      "outputs": [],
      "source": [
        "class Animal:\n",
        "    def __init__(self, name):\n",
        "        self.name = name\n",
        "\n",
        "class Dog(Animal):\n",
        "    def __init__(self, name, breed):\n",
        "        super().__init__(name)  # Call parent constructor\n",
        "        self.breed = breed\n",
        "\n",
        "dog = Dog(\"Buddy\", \"Golden Retriever\")\n",
        "print(dog.name, dog.breed)  # Buddy Golden Retriever"
      ]
    },
    {
      "cell_type": "markdown",
      "id": "dKUWa8BTvLWK",
      "metadata": {
        "id": "dKUWa8BTvLWK"
      },
      "source": [
        "### 📦 Method Overriding\n",
        "\n",
        "- When a child class defines a method with the same name as a method in its parent class, the child’s method overrides the parent’s method. This means the child’s version is called instead.\n",
        "\n",
        "- Why is it important?\n",
        "\n",
        "  - To customize or change the behavior of a method in the child class."
      ]
    },
    {
      "cell_type": "code",
      "execution_count": null,
      "id": "GOGTzFVuy1TX",
      "metadata": {
        "id": "GOGTzFVuy1TX"
      },
      "outputs": [],
      "source": [
        "class Parent:\n",
        "    def greet(self):\n",
        "        print(\"Hello from Parent\")\n",
        "\n",
        "class Child(Parent):\n",
        "    def greet(self):\n",
        "        print(\"Hello from Child\")\n",
        "\n",
        "c = Child()\n",
        "c.greet()  # Hello from Child"
      ]
    },
    {
      "cell_type": "markdown",
      "id": "yTnGWlgby2xG",
      "metadata": {
        "id": "yTnGWlgby2xG"
      },
      "source": [
        "### 📦 Multiple Inheritance & MRO\n",
        "\n",
        "- Multiple Inheritance\n",
        "\n",
        "  - A class can inherit from more than one parent class at the same time.\n",
        "\n",
        "- MRO\n",
        "\n",
        "  - When multiple parent classes have methods with the same name, Python uses the Method Resolution Order (MRO) to decide which method to call first."
      ]
    },
    {
      "cell_type": "code",
      "execution_count": null,
      "id": "PARl3G6hzI0G",
      "metadata": {
        "id": "PARl3G6hzI0G"
      },
      "outputs": [],
      "source": [
        "class A:\n",
        "    def greet(self):\n",
        "        print(\"Hello from A\")\n",
        "\n",
        "class B:\n",
        "    def greet(self):\n",
        "        print(\"Hello from B\")\n",
        "\n",
        "class C(A, B):\n",
        "    pass\n",
        "\n",
        "c = C()\n",
        "c.greet()  # Hello from A\n",
        "print(C.mro())  # Method Resolution Order"
      ]
    },
    {
      "cell_type": "markdown",
      "id": "_mAtvkIwzStm",
      "metadata": {
        "id": "_mAtvkIwzStm"
      },
      "source": [
        "### 📦 Abstract Classes\n",
        "\n",
        "  - Abstract classes are classes that cannot be instantiated directly and usually serve as templates or interfaces for other classes.\n",
        "  They can have abstract methods that must be implemented by subclasses.\n",
        "\n",
        "- Why are they important?\n",
        "\n",
        "  - They enforce a contract, making sure subclasses implement specific methods.\n",
        "\n",
        "  - Help keep code organized and extensible."
      ]
    },
    {
      "cell_type": "code",
      "execution_count": null,
      "id": "4lC7QsaQzWYe",
      "metadata": {
        "id": "4lC7QsaQzWYe"
      },
      "outputs": [],
      "source": [
        "from abc import ABC, abstractmethod\n",
        "\n",
        "class Shape(ABC):\n",
        "    @abstractmethod\n",
        "    def area(self):\n",
        "        pass\n",
        "\n",
        "class Circle(Shape):\n",
        "    def __init__(self, radius):\n",
        "        self.radius = radius\n",
        "\n",
        "    def area(self):\n",
        "        return 3.14 * self.radius ** 2\n",
        "\n",
        "c = Circle(5)\n",
        "print(c.area())  # 78.5"
      ]
    },
    {
      "cell_type": "markdown",
      "id": "va59wg9g8nFi",
      "metadata": {
        "id": "va59wg9g8nFi"
      },
      "source": [
        "## 📌 Section 2: Practical Use Cases"
      ]
    },
    {
      "cell_type": "markdown",
      "id": "NFr26oG5bfPy",
      "metadata": {
        "id": "NFr26oG5bfPy"
      },
      "source": [
        "### 📝 Exercise 1: Create a Student Class and Define a Method to Display Information\n",
        "\n",
        "Write a program that:\n",
        "\n",
        "- Defines a Student class with attributes like name, student_id, and grade.\n",
        "\n",
        "- Implements a method called display_info() that prints all the student's details in a formatted way.\n",
        "\n",
        "- Creates at least two Student objects and calls their display_info() methods.\n",
        "\n",
        "Try running these codes:"
      ]
    },
    {
      "cell_type": "code",
      "execution_count": null,
      "id": "aoNmhx3ZdAfO",
      "metadata": {
        "id": "aoNmhx3ZdAfO"
      },
      "outputs": [],
      "source": [
        "class Student:\n",
        "    def __init__(self, name, student_id, grade):\n",
        "        self.name = name\n",
        "        self.student_id = student_id\n",
        "        self.grade = grade\n",
        "\n",
        "    def display_info(self):\n",
        "        print(f\"Student Name: {self.name}\")\n",
        "        print(f\"Student ID: {self.student_id}\")\n",
        "        print(f\"Grade: {self.grade}\")\n",
        "\n",
        "s1 = Student(\"Alice\", \"S123\", 90)\n",
        "s2 = Student(\"Bob\", \"S456\", 85)\n",
        "\n",
        "s1.display_info()\n",
        "\n",
        "print()\n",
        "\n",
        "s2.display_info()"
      ]
    },
    {
      "cell_type": "markdown",
      "id": "xAWCFq9NBCET",
      "metadata": {
        "id": "xAWCFq9NBCET"
      },
      "source": [
        "### 📝 More Exercises:"
      ]
    },
    {
      "cell_type": "markdown",
      "id": "xsh-GL2IBj47",
      "metadata": {
        "id": "xsh-GL2IBj47"
      },
      "source": [
        "### 📝 Exercise 2: Inherit a New Class from a Base Class\n",
        "\n",
        "Write a program that:\n",
        "\n",
        "- Defines a base class Vehicle with attributes like make and model, and a method start_engine().\n",
        "\n",
        "- Creates a subclass Car that inherits from Vehicle and adds an attribute number_of_doors.\n",
        "\n",
        "- Overrides the start_engine() method in Car to print a customized message.\n",
        "\n",
        "- Instantiates objects of both classes and demonstrates their behaviors.\n",
        "\n",
        "Try running these codes:"
      ]
    },
    {
      "cell_type": "code",
      "execution_count": null,
      "id": "gy2Xxn5Gcjn6",
      "metadata": {
        "id": "gy2Xxn5Gcjn6"
      },
      "outputs": [],
      "source": [
        "class Vehicle:\n",
        "    def __init__(self, make, model):\n",
        "        self.make = make\n",
        "        self.model = model\n",
        "\n",
        "    def start_engine(self):\n",
        "        print(f\"The engine of the {self.make} {self.model} is starting...\")\n",
        "\n",
        "class Car(Vehicle):\n",
        "    def __init__(self, make, model, number_of_doors):\n",
        "        super().__init__(make, model)\n",
        "        self.number_of_doors = number_of_doors\n",
        "\n",
        "    def start_engine(self):\n",
        "        print(f\"The car {self.make} {self.model} with {self.number_of_doors} doors is ready to go!\")\n",
        "\n",
        "v = Vehicle(\"Generic\", \"ModelX\")\n",
        "v.start_engine()\n",
        "\n",
        "c = Car(\"Toyota\", \"Camry\", 4)\n",
        "c.start_engine()"
      ]
    },
    {
      "cell_type": "markdown",
      "id": "61y64fGO7kl0",
      "metadata": {
        "id": "61y64fGO7kl0"
      },
      "source": [
        "### 📝 Exercise 3: Implement a BankAccount Class with Encapsulation\n",
        "\n",
        "Write a program that:\n",
        "\n",
        "- Defines a BankAccount class with private attribute __balance and public attribute owner.\n",
        "\n",
        "- Provides methods to deposit money, withdraw money (only if sufficient balance), and check balance.\n",
        "\n",
        "- Ensures that balance cannot be accessed or modified directly from outside the class.\n",
        "\n",
        "- Creates an object and performs a series of transactions demonstrating encapsulation.\n",
        "\n",
        "Try running these codes:"
      ]
    },
    {
      "cell_type": "code",
      "execution_count": null,
      "id": "99Kmqawpr4iA",
      "metadata": {
        "id": "99Kmqawpr4iA"
      },
      "outputs": [],
      "source": [
        "class BankAccount:\n",
        "    def __init__(self, owner, balance):\n",
        "        self.owner = owner\n",
        "        self.__balance = balance  # Private attribute\n",
        "\n",
        "    def deposit(self, amount):\n",
        "        if amount > 0:\n",
        "            self.__balance += amount\n",
        "\n",
        "            print(f\"Deposited {amount}. New balance is {self.__balance}.\")\n",
        "\n",
        "        else:\n",
        "            print(\"Deposit amount must be positive.\")\n",
        "\n",
        "    def withdraw(self, amount):\n",
        "        if amount > self.__balance:\n",
        "            print(\"Insufficient funds!\")\n",
        "\n",
        "        elif amount <= 0:\n",
        "            print(\"Withdrawal amount must be positive.\")\n",
        "\n",
        "        else:\n",
        "            self.__balance = self.__balance - amount\n",
        "\n",
        "            print(f\"Withdrew {amount}. New balance is {self.__balance}.\")\n",
        "\n",
        "    def get_balance(self):\n",
        "        return self.__balance\n",
        "\n",
        "acc = BankAccount(\"Alice\", 1000)\n",
        "acc.deposit(500)\n",
        "acc.withdraw(300)\n",
        "\n",
        "print(f\"Balance is: {acc.get_balance()}\")\n",
        "\n",
        "# Trying to access private attribute (will raise error)\n",
        "# print(acc.__balance)  # Uncommenting will cause AttributeError"
      ]
    },
    {
      "cell_type": "markdown",
      "id": "vCFycNAfbmLy",
      "metadata": {
        "id": "vCFycNAfbmLy"
      },
      "source": [
        "### 📝 Exercise 4: Demonstrate Multiple Inheritance and Method Resolution Order (MRO)\n",
        "\n",
        "Write a program that:\n",
        "\n",
        "- Defines two parent classes Flyer and Swimmer, each with a method move() that prints a unique message.\n",
        "\n",
        "- Defines a child class FlyingFish that inherits from both parents.\n",
        "\n",
        "- Creates an instance of FlyingFish and calls move().\n",
        "\n",
        "- Prints the MRO of the FlyingFish class.\n",
        "\n",
        "Try running these codes:"
      ]
    },
    {
      "cell_type": "code",
      "execution_count": null,
      "id": "zC0g73BXsSgB",
      "metadata": {
        "colab": {
          "base_uri": "https://localhost:8080/"
        },
        "id": "zC0g73BXsSgB",
        "outputId": "94213c32-8f3c-4161-974e-56dd759de8d8"
      },
      "outputs": [
        {
          "name": "stdout",
          "output_type": "stream",
          "text": [
            "[[], [3], [2], [2, 3], [1], [1, 3], [1, 2], [1, 2, 3]]\n"
          ]
        }
      ],
      "source": [
        "class Flyer:\n",
        "    def move(self):\n",
        "        print(\"Flying through the sky!\")\n",
        "\n",
        "class Swimmer:\n",
        "    def move(self):\n",
        "        print(\"Swimming in the water!\")\n",
        "\n",
        "class FlyingFish(Flyer, Swimmer):\n",
        "    pass\n",
        "\n",
        "fish = FlyingFish()\n",
        "fish.move()  # Calls Flyer.move because of MRO\n",
        "\n",
        "print(FlyingFish.mro())  # Shows the Method Resolution Order"
      ]
    },
    {
      "cell_type": "markdown",
      "id": "vNOG1K1T2bri",
      "metadata": {
        "id": "vNOG1K1T2bri"
      },
      "source": [
        "### 📝 Exercise 5: Create Abstract Base Class and Subclass Implementation\n",
        "\n",
        "Write a program that:\n",
        "\n",
        "- Defines an abstract class Employee with an abstract method calculate_salary().\n",
        "\n",
        "- Implements two subclasses FullTimeEmployee and PartTimeEmployee that provide their own versions of calculate_salary().\n",
        "\n",
        "- Creates instances of both subclasses and prints their calculated salaries.\n",
        "\n",
        "Try running these codes:"
      ]
    },
    {
      "cell_type": "code",
      "execution_count": null,
      "id": "jIayMb8t2r6r",
      "metadata": {
        "id": "jIayMb8t2r6r"
      },
      "outputs": [],
      "source": [
        "from abc import ABC, abstractmethod\n",
        "\n",
        "class Employee(ABC):\n",
        "    @abstractmethod\n",
        "    def calculate_salary(self):\n",
        "        pass\n",
        "\n",
        "class FullTimeEmployee(Employee):\n",
        "    def __init__(self, monthly_salary):\n",
        "        self.monthly_salary = monthly_salary\n",
        "\n",
        "    def calculate_salary(self):\n",
        "        return self.monthly_salary\n",
        "\n",
        "class PartTimeEmployee(Employee):\n",
        "    def __init__(self, hourly_rate, hours_worked):\n",
        "        self.hourly_rate = hourly_rate\n",
        "        self.hours_worked = hours_worked\n",
        "\n",
        "    def calculate_salary(self):\n",
        "        return self.hourly_rate * self.hours_worked\n",
        "\n",
        "full_time = FullTimeEmployee(4000)\n",
        "part_time = PartTimeEmployee(20, 120)\n",
        "\n",
        "print(f\"Full-time employee salary: ${full_time.calculate_salary()}\")\n",
        "print(f\"Part-time employee salary: ${part_time.calculate_salary()}\")"
      ]
    },
    {
      "cell_type": "markdown",
      "id": "UUuEpkUPDFlT",
      "metadata": {
        "id": "UUuEpkUPDFlT"
      },
      "source": [
        "### 🔥 Wrap-Up\n",
        "\n",
        "Thanks for diving into this important step of your Python journey!\n",
        "\n",
        "In this notebook, you’ve explored the fundamental concepts of **Object-Oriented Programming (OOP)** in Python — powerful tools that allow you to model real-world entities using **classes**, **objects**, **inheritance**, and more.\n",
        "\n",
        "You’ve learned how to:\n",
        "\n",
        "- Define and create **classes** with attributes and methods\n",
        "- Differentiate between **instance** and **class attributes**\n",
        "- Use **encapsulation** to protect data with private attributes\n",
        "- Implement **special (magic) methods** to customize object behavior\n",
        "- Create **static** and **class methods** for utility and class-level operations\n",
        "- Apply **inheritance** to reuse and extend functionality from base classes\n",
        "- Use **method overriding** and **`super()`** to customize behavior in subclasses\n",
        "- Understand **multiple inheritance** and how Python resolves method calls (MRO)\n",
        "- Design and implement **abstract classes** to enforce contracts for subclasses\n",
        "\n",
        "These skills form the foundation of writing clean, reusable, and scalable Python code that leverages the full power of OOP.\n",
        "\n",
        "### 🙌 Well Done!\n",
        "\n",
        "You’ve completed this important section! 🎉\n",
        "Mastering these OOP principles will enable you to build complex programs more effectively and prepare you for advanced topics like design patterns, frameworks, and system design.\n",
        "\n",
        "### 💡 Remember\n",
        "\n",
        "Object-Oriented Programming helps you think in terms of real-world models and relationships.\n",
        "By mastering classes and inheritance, you gain the ability to organize your code logically, reduce repetition, and write more maintainable software.\n",
        "Keep practicing by designing your own classes and hierarchies — this will deepen your understanding and make you a more confident Python developer!"
      ]
    }
  ],
  "metadata": {
    "colab": {
      "provenance": []
    },
    "kernelspec": {
      "display_name": "datascience",
      "language": "python",
      "name": "python3"
    },
    "language_info": {
      "codemirror_mode": {
        "name": "ipython",
        "version": 3
      },
      "file_extension": ".py",
      "mimetype": "text/x-python",
      "name": "python",
      "nbconvert_exporter": "python",
      "pygments_lexer": "ipython3",
      "version": "3.12.11"
    }
  },
  "nbformat": 4,
  "nbformat_minor": 5
}
