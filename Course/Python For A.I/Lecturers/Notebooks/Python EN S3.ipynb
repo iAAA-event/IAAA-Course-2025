{
  "cells": [
    {
      "cell_type": "markdown",
      "id": "63aec81c",
      "metadata": {
        "id": "63aec81c"
      },
      "source": [
        "# 📘 Notebook 3: Introduction to Conditional Statements and Logical Operators in Python\n",
        "\n",
        "### 👨 Lecturer: *Mohammad Fotouhi*  \n",
        "### 📅 Date: *[YYYY-MM-DD]*\n",
        "\n",
        "### 🎯 Objectives\n",
        "\n",
        "In this notebook, you will:\n",
        "\n",
        "- become familiar with logical operators.\n",
        "- become familiar with Conditional Statements.\n",
        "\n",
        "This notebook is designed to guide you step-by-step."
      ]
    },
    {
      "cell_type": "markdown",
      "id": "L2cuO0C4vaIo",
      "metadata": {
        "id": "L2cuO0C4vaIo"
      },
      "source": [
        "## 📌 Section 1: Conditional Statements and their Syntax in Python"
      ]
    },
    {
      "cell_type": "markdown",
      "id": "o5wbeVrn6k_Q",
      "metadata": {
        "id": "o5wbeVrn6k_Q"
      },
      "source": [
        "### 🔸 Conditional Statements\n",
        "\n",
        "What are conditional statements?\n",
        "Conditional statements allow a program to make decisions and execute specific code based on whether a condition is true or false.\n",
        "\n",
        "Syntax:\n",
        "\n",
        "    [✔]    if condition:\n",
        "    [✔]        # This block runs if condition is True\n",
        "    [✔]  \n",
        "    [✔]    elif another_condition:\n",
        "    [✔]        # This block runs if the first condition is False and this one is True\n",
        "    [✔]\n",
        "    [✔]    else:\n",
        "    [✔]        # This block runs if none of the above conditions are True"
      ]
    },
    {
      "cell_type": "code",
      "execution_count": null,
      "id": "UqdLIM3p7Wjk",
      "metadata": {
        "id": "UqdLIM3p7Wjk"
      },
      "outputs": [],
      "source": [
        "temperature = 30\n",
        "\n",
        "if temperature > 35:\n",
        "    print(\"It’s really hot today!\")\n",
        "\n",
        "elif temperature > 20:\n",
        "    print(\"Nice and warm.\")\n",
        "\n",
        "else:\n",
        "    print(\"It's quite cool.\")"
      ]
    },
    {
      "cell_type": "markdown",
      "id": "lM0mg85y859N",
      "metadata": {
        "id": "lM0mg85y859N"
      },
      "source": [
        "### ?? How it works:\n",
        "\n",
        "Python checks the condition in the if statement.\n",
        "\n",
        "1. If it's True, the indented block of code runs, and the rest is skipped.\n",
        "\n",
        "2. If False, it checks the elif (if available).\n",
        "\n",
        "3. If none of the conditions are true, it runs the else block."
      ]
    },
    {
      "cell_type": "markdown",
      "id": "X5v91eth6k8k",
      "metadata": {
        "id": "X5v91eth6k8k"
      },
      "source": [
        "### 🔸 Multiple Conditions with elif:\n",
        "\n",
        "You can have as many elif branches as needed:"
      ]
    },
    {
      "cell_type": "code",
      "execution_count": null,
      "id": "gKoUWkqS9g5B",
      "metadata": {
        "id": "gKoUWkqS9g5B"
      },
      "outputs": [],
      "source": [
        "score = 85\n",
        "\n",
        "if score >= 90:\n",
        "    print(\"Grade: A\")\n",
        "\n",
        "elif score >= 80:\n",
        "    print(\"Grade: B\")\n",
        "\n",
        "elif score >= 70:\n",
        "    print(\"Grade: C\")\n",
        "\n",
        "else:\n",
        "    print(\"Grade: F\")"
      ]
    },
    {
      "cell_type": "markdown",
      "id": "SM0GQgME-BfO",
      "metadata": {
        "id": "SM0GQgME-BfO"
      },
      "source": [
        "### 🔸 Nested Conditions\n",
        "\n",
        "- What Are Nested Conditions?\n",
        "\n",
        "  Nested conditions mean placing one conditional statement (if, elif, or else) inside the block of another conditional statement.\n",
        "\n",
        "  This lets you check a condition only if another condition is true, enabling more complex decision-making."
      ]
    },
    {
      "cell_type": "markdown",
      "id": "HZn-UflDEoF6",
      "metadata": {
        "id": "HZn-UflDEoF6"
      },
      "source": [
        "- Why Use Nested Conditions?\n",
        "\n",
        "  When decisions depend on multiple stages or sequential checks.\n",
        "\n",
        "  To evaluate multiple related conditions in order.\n",
        "\n",
        "  To build clearer, structured logic for complex scenarios."
      ]
    },
    {
      "cell_type": "markdown",
      "id": "EAfo1tsDFLjS",
      "metadata": {
        "id": "EAfo1tsDFLjS"
      },
      "source": [
        "Syntax:\n",
        "\n",
        "    [✔]    if condition1:\n",
        "    [✔]        # This block runs if condition1 is True\n",
        "    [✔]\n",
        "    [✔]        if condition2:\n",
        "    [✔]            # This block runs if condition1 AND condition2 are True\n",
        "    [✔]\n",
        "    [✔]        else:\n",
        "    [✔]            # This block runs if condition1 is True but condition2 is False\n",
        "    [✔]\n",
        "    [✔]    else:\n",
        "    [✔]        # This block runs if condition1 is False\n",
        "    [✔]\n",
        "    [✔]        if condition2:\n",
        "    [✔]            # This block runs if condition1 ia False but condition2 is True\n",
        "    [✔]\n",
        "    [✔]        else:\n",
        "    [✔]            # This block runs if condition1 AND condition2 are False\n",
        "    "
      ]
    },
    {
      "cell_type": "markdown",
      "id": "alEWvnOosaaK",
      "metadata": {
        "id": "alEWvnOosaaK"
      },
      "source": [
        "### 💡 Important Tips\n",
        "\n",
        "- Order matters: Arrange nested conditions carefully so your program logic works as expected.\n",
        "\n",
        "- Indentation is crucial in Python—make sure to indent inner blocks properly.\n",
        "\n",
        "- To reduce complexity, try using logical operators (and, or) where possible to avoid too many nested conditions.\n",
        "\n",
        "Example using and instead of nesting:"
      ]
    },
    {
      "cell_type": "code",
      "execution_count": null,
      "id": "P2s4Q6lNtE8y",
      "metadata": {
        "id": "P2s4Q6lNtE8y"
      },
      "outputs": [],
      "source": [
        "if age >= 18 and is_student == \"yes\":\n",
        "    print(\"You qualify for a student discount.\")\n",
        "\n",
        "elif age >= 18 and is_student != \"yes\":\n",
        "    print(\"You qualify for an adult ticket.\")\n",
        "\n",
        "elif age < 18 and is_student == \"yes\":\n",
        "    print(\"You qualify for a youth student discount.\")\n",
        "\n",
        "else:\n",
        "    print(\"You qualify for a child ticket.\")"
      ]
    },
    {
      "cell_type": "markdown",
      "id": "okZDftQgwTwI",
      "metadata": {
        "id": "okZDftQgwTwI"
      },
      "source": [
        "## 📌 Section 2: Logical Operators and their Syntax in Python"
      ]
    },
    {
      "cell_type": "markdown",
      "id": "1RoI-IWVTxOw",
      "metadata": {
        "id": "1RoI-IWVTxOw"
      },
      "source": [
        "Logical operators help you combine or modify conditions in if statements."
      ]
    },
    {
      "cell_type": "markdown",
      "id": "NDcxZyP0-YyR",
      "metadata": {
        "id": "NDcxZyP0-YyR"
      },
      "source": [
        "### 🔸 and Operator\n",
        "\n",
        "All conditions must be True."
      ]
    },
    {
      "cell_type": "code",
      "execution_count": null,
      "id": "qxKunYiu-3nU",
      "metadata": {
        "id": "qxKunYiu-3nU"
      },
      "outputs": [],
      "source": [
        "age = 25\n",
        "has_id = True\n",
        "has_not_id = False\n",
        "\n",
        "if age > 18 and has_id:\n",
        "    print(\"1\")\n",
        "\n",
        "if age < 18 and has_id:\n",
        "    print(\"2\")\n",
        "\n",
        "if age > 18 and has_not_id:\n",
        "    print(\"3\")\n",
        "\n",
        "if age < 18 and has_not_id:\n",
        "    print(\"4\")"
      ]
    },
    {
      "cell_type": "markdown",
      "id": "9IIf0yy8_IT3",
      "metadata": {
        "id": "9IIf0yy8_IT3"
      },
      "source": [
        "### 🔸 or Operator\n",
        "\n",
        " At least one condition must be True."
      ]
    },
    {
      "cell_type": "code",
      "execution_count": null,
      "id": "kvHN8j2f_XUj",
      "metadata": {
        "id": "kvHN8j2f_XUj"
      },
      "outputs": [],
      "source": [
        "age = 25\n",
        "has_id = True\n",
        "has_not_id = False\n",
        "\n",
        "if age > 18 or has_id:\n",
        "    print(\"1\")\n",
        "\n",
        "if age < 18 or has_id:\n",
        "    print(\"2\")\n",
        "\n",
        "if age > 18 or has_not_id:\n",
        "    print(\"3\")\n",
        "\n",
        "if age < 18 or has_not_id:\n",
        "    print(\"4\")"
      ]
    },
    {
      "cell_type": "markdown",
      "id": "BtZujRHkAIWD",
      "metadata": {
        "id": "BtZujRHkAIWD"
      },
      "source": [
        "### 🔸 not Operator\n",
        "\n",
        "Reverses the result."
      ]
    },
    {
      "cell_type": "code",
      "execution_count": null,
      "id": "uSBVivEVAU_e",
      "metadata": {
        "id": "uSBVivEVAU_e"
      },
      "outputs": [],
      "source": [
        "is_admin = True\n",
        "is_not_admin = False\n",
        "\n",
        "if not is_admin:\n",
        "    print(\"1\")\n",
        "\n",
        "if not is_not_admin:\n",
        "    print(\"2\")"
      ]
    },
    {
      "cell_type": "markdown",
      "id": "fzR6ly5iBEUW",
      "metadata": {
        "id": "fzR6ly5iBEUW"
      },
      "source": [
        "### 🔗 Combining Multiple Operators"
      ]
    },
    {
      "cell_type": "markdown",
      "id": "MaTYbrKTBkw-",
      "metadata": {
        "id": "MaTYbrKTBkw-"
      },
      "source": [
        "### 😊 Easy Example:"
      ]
    },
    {
      "cell_type": "code",
      "execution_count": null,
      "id": "2QbKT2-qBgim",
      "metadata": {
        "colab": {
          "base_uri": "https://localhost:8080/"
        },
        "id": "2QbKT2-qBgim",
        "outputId": "8784dff3-722b-491c-e244-e06801559d3f"
      },
      "outputs": [
        {
          "name": "stdout",
          "output_type": "stream",
          "text": [
            "Access granted.\n"
          ]
        }
      ],
      "source": [
        "username = \"admin\"\n",
        "password = \"1234\"\n",
        "\n",
        "if username == \"admin\" and (password == \"1234\" or password == \"abcd\"):\n",
        "    print(\"Access granted.\")"
      ]
    },
    {
      "cell_type": "markdown",
      "id": "ctw8DcHABlGm",
      "metadata": {
        "id": "ctw8DcHABlGm"
      },
      "source": [
        "### 😐 Medium Example:"
      ]
    },
    {
      "cell_type": "code",
      "execution_count": null,
      "id": "sXy_GNUEBgPg",
      "metadata": {
        "id": "sXy_GNUEBgPg"
      },
      "outputs": [],
      "source": [
        "username = \"admin\"\n",
        "password = \"12345\"\n",
        "\n",
        "if not (username == \"admin\" and not (password == \"1234\" or password == \"abcd\")):\n",
        "    print(\"Access granted.\")"
      ]
    },
    {
      "cell_type": "markdown",
      "id": "fKu_P-kDBl02",
      "metadata": {
        "id": "fKu_P-kDBl02"
      },
      "source": [
        "### 😠 Hard Example:"
      ]
    },
    {
      "cell_type": "code",
      "execution_count": null,
      "id": "-f9rBamEBgM_",
      "metadata": {
        "colab": {
          "base_uri": "https://localhost:8080/"
        },
        "id": "-f9rBamEBgM_",
        "outputId": "39475d64-efbc-4414-cd42-c961d95eb08c"
      },
      "outputs": [
        {
          "name": "stdout",
          "output_type": "stream",
          "text": [
            "Access granted.\n"
          ]
        }
      ],
      "source": [
        "username = \"admi\"\n",
        "password = \"12345\"\n",
        "\n",
        "if not((username == \"admin\" and True and (password == \"1234\" or password == \"abcd\")) or False):\n",
        "    print(\"Access granted.\")"
      ]
    },
    {
      "cell_type": "markdown",
      "id": "va59wg9g8nFi",
      "metadata": {
        "id": "va59wg9g8nFi"
      },
      "source": [
        "## 📌 Section 3: Practical Use Cases"
      ]
    },
    {
      "cell_type": "markdown",
      "id": "NFr26oG5bfPy",
      "metadata": {
        "id": "NFr26oG5bfPy"
      },
      "source": [
        "### 📝 Exercise 1: Find the Largest of Three Numbers\n",
        "\n",
        "Write a program that:\n",
        "\n",
        "Ask the user for three numbers and determine the largest.\n",
        "\n",
        "Try running this code:"
      ]
    },
    {
      "cell_type": "code",
      "execution_count": null,
      "id": "CdnEvKuPcJRH",
      "metadata": {
        "id": "CdnEvKuPcJRH"
      },
      "outputs": [],
      "source": [
        "a = int(input(\"Enter the first number: \"))\n",
        "b = int(input(\"Enter the second number: \"))\n",
        "c = int(input(\"Enter the third number: \"))\n",
        "\n",
        "if a >= b:\n",
        "    if a >= c:\n",
        "        largest = a\n",
        "\n",
        "    else:\n",
        "        largest = c\n",
        "\n",
        "else:\n",
        "    if b >= c:\n",
        "        largest = b\n",
        "\n",
        "    else:\n",
        "        largest = c\n",
        "\n",
        "print(\"The largest number is:\", largest)"
      ]
    },
    {
      "cell_type": "markdown",
      "id": "xAWCFq9NBCET",
      "metadata": {
        "id": "xAWCFq9NBCET"
      },
      "source": [
        "### 📝 More Exercises:"
      ]
    },
    {
      "cell_type": "markdown",
      "id": "xsh-GL2IBj47",
      "metadata": {
        "id": "xsh-GL2IBj47"
      },
      "source": [
        "### 📝 Exercise 2: Check Access Based on Age and ID\n",
        "\n",
        "Write a program that:\n",
        "\n",
        "Ask the user for their age and whether they have an ID. Only allow access if age ≥ 18 and they have an ID.\n",
        "\n",
        "Try running this code:"
      ]
    },
    {
      "cell_type": "code",
      "execution_count": null,
      "id": "gy2Xxn5Gcjn6",
      "metadata": {
        "id": "gy2Xxn5Gcjn6"
      },
      "outputs": [],
      "source": [
        "age = int(input(\"Enter your age: \"))\n",
        "has_id = input(\"Do you have an ID card? (yes/no): \")\n",
        "\n",
        "if age >= 18:\n",
        "    if has_id == \"yes\":\n",
        "        print(\"✔️ Access granted.\")\n",
        "\n",
        "    else:\n",
        "        print(\"❌ You need an ID.\")\n",
        "\n",
        "else:\n",
        "    print(\"❌ You must be at least 18 years old.\")"
      ]
    },
    {
      "cell_type": "markdown",
      "id": "L18unZN9bl05",
      "metadata": {
        "id": "L18unZN9bl05"
      },
      "source": [
        "### 📝 Exercise 3: Find the Median of Three Numbers\n",
        "\n",
        "Write a program that:\n",
        "\n",
        "Ask the user to enter three numbers and find the middle value (not the smallest or largest).\n",
        "\n",
        "Try running this code:"
      ]
    },
    {
      "cell_type": "code",
      "execution_count": null,
      "id": "J1lwCFo7dSLj",
      "metadata": {
        "id": "J1lwCFo7dSLj"
      },
      "outputs": [],
      "source": [
        "a = float(input(\"Enter first number: \"))\n",
        "b = float(input(\"Enter second number: \"))\n",
        "c = float(input(\"Enter third number: \"))\n",
        "\n",
        "if (a >= b and a <= c) or (a <= b and a >= c):\n",
        "    median = a\n",
        "\n",
        "elif (b >= a and b <= c) or (b <= a and b >= c):\n",
        "    median = b\n",
        "\n",
        "else:\n",
        "    median = c\n",
        "\n",
        "print(\"The median value is:\", median)"
      ]
    },
    {
      "cell_type": "markdown",
      "id": "vCFycNAfbmLy",
      "metadata": {
        "id": "vCFycNAfbmLy"
      },
      "source": [
        "### 📝 Exercise 4: Leap Year Checker (with nested conditions)\n",
        "\n",
        "Write a program that:\n",
        "\n",
        "Check if a year is a leap year based on the official rules:\n",
        "\n",
        "- A year is a leap year if it is divisible by 4, but not divisible by 100 unless it is also divisible by 400.\n",
        "\n",
        "Try running this code:"
      ]
    },
    {
      "cell_type": "code",
      "execution_count": null,
      "id": "EDh64Ac3dV9F",
      "metadata": {
        "id": "EDh64Ac3dV9F"
      },
      "outputs": [],
      "source": [
        "year = int(input(\"Enter a year: \"))\n",
        "\n",
        "if year % 4 == 0:\n",
        "    if year % 100 == 0:\n",
        "        if year % 400 == 0:\n",
        "            print(\"Leap year\")\n",
        "\n",
        "        else:\n",
        "            print(\"Not a leap year\")\n",
        "\n",
        "    else:\n",
        "        print(\"Leap year\")\n",
        "\n",
        "else:\n",
        "    print(\"Not a leap year\")"
      ]
    },
    {
      "cell_type": "markdown",
      "id": "RTkc14cjbmle",
      "metadata": {
        "id": "RTkc14cjbmle"
      },
      "source": [
        "### 📝 Exercise 5: SwapTriangle Type Checker\n",
        "\n",
        "Write a program that:\n",
        "\n",
        "Ask the user to enter the lengths of three sides and determine the type of triangle:\n",
        "\n",
        "- Equilateral: all sides are equal\n",
        "\n",
        "- Isosceles: two sides are equal\n",
        "\n",
        "- Scalene: all sides are different\n",
        "\n",
        "- Also, check if the triangle is valid (triangle inequality).\n",
        "\n",
        "Try running this code:"
      ]
    },
    {
      "cell_type": "code",
      "execution_count": null,
      "id": "4JZ_JeQmdXFi",
      "metadata": {
        "id": "4JZ_JeQmdXFi"
      },
      "outputs": [],
      "source": [
        "a = float(input(\"Enter side a: \"))\n",
        "b = float(input(\"Enter side b: \"))\n",
        "c = float(input(\"Enter side c: \"))\n",
        "\n",
        "if a + b > c and a + c > b and b + c > a:\n",
        "    if a == b == c:\n",
        "        print(\"Equilateral triangle\")\n",
        "\n",
        "    elif a == b or b == c or a == c:\n",
        "        print(\"Isosceles triangle\")\n",
        "\n",
        "    else:\n",
        "        print(\"Scalene triangle\")\n",
        "\n",
        "else:\n",
        "    print(\"Invalid triangle\")"
      ]
    },
    {
      "cell_type": "markdown",
      "id": "UUuEpkUPDFlT",
      "metadata": {
        "id": "UUuEpkUPDFlT"
      },
      "source": [
        "### 🔥 Wrap-Up\n",
        "\n",
        "Thanks for completing this part of your Python journey!\n",
        "\n",
        "In this notebook, you’ve explored one of the most important concepts in programming — decision making using conditional logic.\n",
        "These tools allow your programs to make smart choices based on input, just like humans do!\n",
        "\n",
        "You've also learned how to:\n",
        "\n",
        "- Use if, elif, and else to build conditional flows\n",
        "- Combine conditions with logical operators like and, or, and not\n",
        "- Build more complex decision trees using nested conditions\n",
        "- Solve real-world problems with multiple layers of logic\n",
        "\n",
        "This knowledge opens the door to writing dynamic, responsive programs. Keep experimenting and try writing your own conditions based on different scenarios!\n",
        "\n",
        "### 🙌 Well Done!\n",
        "\n",
        "You’ve successfully completed this section! 🎉\n",
        "Your skills in Python decision-making are growing — and you’re now equipped to write more intelligent and interactive code.\n",
        "\n",
        "### 💡 Remember\n",
        "\n",
        "Logical thinking is the heart of programming.\n",
        "Even the most complex systems start with a single if.\n",
        "Stay curious, break problems into steps, and practice regularly — that’s how great coders are made!"
      ]
    }
  ],
  "metadata": {
    "colab": {
      "provenance": []
    },
    "kernelspec": {
      "display_name": "datascience",
      "language": "python",
      "name": "python3"
    },
    "language_info": {
      "codemirror_mode": {
        "name": "ipython",
        "version": 3
      },
      "file_extension": ".py",
      "mimetype": "text/x-python",
      "name": "python",
      "nbconvert_exporter": "python",
      "pygments_lexer": "ipython3",
      "version": "3.12.11"
    }
  },
  "nbformat": 4,
  "nbformat_minor": 5
}
