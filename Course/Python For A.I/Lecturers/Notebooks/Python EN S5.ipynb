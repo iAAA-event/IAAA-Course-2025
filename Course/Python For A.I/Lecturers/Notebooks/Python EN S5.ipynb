{
  "cells": [
    {
      "cell_type": "markdown",
      "id": "63aec81c",
      "metadata": {
        "id": "63aec81c"
      },
      "source": [
        "# 📘 Notebook 5: Introduction to Data Structures and Strings in Python\n",
        "\n",
        "\n",
        "### 👨 Lecturer: *Mohammad Fotouhi*  \n",
        "### 📅 Date: *[YYYY-MM-DD]*\n",
        "\n",
        "### 🎯 Objectives\n",
        "\n",
        "In this notebook, you will:\n",
        "\n",
        "- learn about data structures in Python, specifically lists, tuples, dictionaries, and sets.\n",
        "\n",
        "- learn how to perform some basic operations on data structures, specifically working with strings (slicing, searching, and replacing).\n",
        "\n",
        "This notebook is designed to guide you step-by-step."
      ]
    },
    {
      "cell_type": "markdown",
      "id": "L2cuO0C4vaIo",
      "metadata": {
        "id": "L2cuO0C4vaIo"
      },
      "source": [
        "## 📌 Section 1: Basic Data Structures and some Basic Operations on them in Python"
      ]
    },
    {
      "cell_type": "markdown",
      "id": "PzmYBcCTjfHZ",
      "metadata": {
        "id": "PzmYBcCTjfHZ"
      },
      "source": [
        "### ♦️ Lists\n",
        "\n",
        "- What is a List in Programming?\n",
        "\n",
        "  A list in Python is a collection of items in a specific order.\n",
        "\n",
        "  - Mutable: You can change, add, or remove items after the list is created.\n",
        "\n",
        "  - Indexed: Each item has a position (index) starting from 0.\n",
        "\n",
        "  - Allows duplicates: The same value can appear more than once.\n",
        "\n",
        "  - Can store mixed data types: Integers, strings, booleans, even other lists.\n",
        "\n",
        "- When to use:\n",
        "\n",
        "  - When you need an ordered collection.\n",
        "\n",
        "  - When you need to change the collection later (add/remove elements)."
      ]
    },
    {
      "cell_type": "markdown",
      "id": "dX1SVQ1hl_D1",
      "metadata": {
        "id": "dX1SVQ1hl_D1"
      },
      "source": [
        "### ⚙️ Basic Operations on Lists"
      ]
    },
    {
      "cell_type": "markdown",
      "id": "N63ur_j8n_ev",
      "metadata": {
        "id": "N63ur_j8n_ev"
      },
      "source": [
        "### ♦️ Creating a list"
      ]
    },
    {
      "cell_type": "code",
      "execution_count": null,
      "id": "Q_0TodlRnBd2",
      "metadata": {
        "id": "Q_0TodlRnBd2"
      },
      "outputs": [],
      "source": [
        "numbers = [1, 2, 3, 4]"
      ]
    },
    {
      "cell_type": "markdown",
      "id": "hT10lwvqnC3d",
      "metadata": {
        "id": "hT10lwvqnC3d"
      },
      "source": [
        "- [1, 2, 3, 4] is a list literal — it creates a list with four integer elements.\n",
        "\n",
        "- Lists in Python are ordered collections:\n",
        "\n",
        "  - First element’s index is 0.\n",
        "\n",
        "  - Last element’s index is len(list) - 1.\n",
        "\n",
        "- This list is mutable: you can add, remove, or change its elements later."
      ]
    },
    {
      "cell_type": "markdown",
      "id": "UC-5vn9BnRqv",
      "metadata": {
        "id": "UC-5vn9BnRqv"
      },
      "source": [
        "### ♦️ Printing the list"
      ]
    },
    {
      "cell_type": "code",
      "execution_count": null,
      "id": "FMyUnh26nSE3",
      "metadata": {
        "id": "FMyUnh26nSE3"
      },
      "outputs": [],
      "source": [
        "print(numbers)  # Output: [1, 2, 3, 4]"
      ]
    },
    {
      "cell_type": "markdown",
      "id": "UPSjj7TlnZ9K",
      "metadata": {
        "id": "UPSjj7TlnZ9K"
      },
      "source": [
        "- print() is a built-in function that outputs data to the console.\n",
        "\n",
        "- When printing a list, Python shows it in square brackets with elements separated by commas."
      ]
    },
    {
      "cell_type": "markdown",
      "id": "rRq2qIOynsNU",
      "metadata": {
        "id": "rRq2qIOynsNU"
      },
      "source": [
        "### ♦️ Accessing by index"
      ]
    },
    {
      "cell_type": "code",
      "execution_count": null,
      "id": "ZaMEWpr4nset",
      "metadata": {
        "id": "ZaMEWpr4nset"
      },
      "outputs": [],
      "source": [
        "print(numbers[0])  # First element -> 1\n",
        "print(numbers[-1]) # Last element -> 4"
      ]
    },
    {
      "cell_type": "markdown",
      "id": "9qv7GZb4nsvM",
      "metadata": {
        "id": "9qv7GZb4nsvM"
      },
      "source": [
        "- numbers[0] → Retrieves the element at index 0 (the first element).\n",
        "\n",
        "- numbers[-1] → Negative indexing starts from the end (-1 is the last element, -2 is second-to-last, etc.).\n",
        "\n",
        "- Important: Accessing an index that doesn’t exist will raise an IndexError."
      ]
    },
    {
      "cell_type": "markdown",
      "id": "O0b-XrOnoXNk",
      "metadata": {
        "id": "O0b-XrOnoXNk"
      },
      "source": [
        "### ♦️ Adding an element at the end"
      ]
    },
    {
      "cell_type": "code",
      "execution_count": null,
      "id": "1yKgumMAoXhs",
      "metadata": {
        "id": "1yKgumMAoXhs"
      },
      "outputs": [],
      "source": [
        "numbers.append(5)\n",
        "\n",
        "print(numbers)  # [1, 2, 3, 4, 5]"
      ]
    },
    {
      "cell_type": "markdown",
      "id": "mGWJfVeloX3k",
      "metadata": {
        "id": "mGWJfVeloX3k"
      },
      "source": [
        "- append(value) → Adds value to the end of the list.\n",
        "\n",
        "- Modifies the list in place — does not create a new list.\n",
        "\n",
        "- Only one element can be appended at a time (if you pass another list, it will be added as a single element)."
      ]
    },
    {
      "cell_type": "markdown",
      "id": "I66MmfD0opue",
      "metadata": {
        "id": "I66MmfD0opue"
      },
      "source": [
        "### ♦️ Inserting at a specific position"
      ]
    },
    {
      "cell_type": "code",
      "execution_count": null,
      "id": "Qi6AZxeWovqZ",
      "metadata": {
        "id": "Qi6AZxeWovqZ"
      },
      "outputs": [],
      "source": [
        "numbers.insert(1, 10)\n",
        "\n",
        "print(numbers)  # [1, 10, 2, 3, 4, 5]"
      ]
    },
    {
      "cell_type": "markdown",
      "id": "ZG7FA_kroqYG",
      "metadata": {
        "id": "ZG7FA_kroqYG"
      },
      "source": [
        "- insert(index, value) → Inserts value before the given index.\n",
        "\n",
        "- Index can be:\n",
        "\n",
        "  - 0 → insert at the start.\n",
        "\n",
        "  - Equal to len(list) → insert at the end (same as append).\n",
        "\n",
        "  - Greater than length → element is added at the end.\n",
        "\n",
        "- Shifts existing elements to the right."
      ]
    },
    {
      "cell_type": "markdown",
      "id": "H09U09sVpI3e",
      "metadata": {
        "id": "H09U09sVpI3e"
      },
      "source": [
        "### ♦️ Removing by value"
      ]
    },
    {
      "cell_type": "code",
      "execution_count": null,
      "id": "o6Qnnt0GpJHl",
      "metadata": {
        "id": "o6Qnnt0GpJHl"
      },
      "outputs": [],
      "source": [
        "numbers.remove(3)\n",
        "\n",
        "print(numbers)  # [1, 10, 2, 4, 5]"
      ]
    },
    {
      "cell_type": "markdown",
      "id": "6oZ9UBRlpJWJ",
      "metadata": {
        "id": "6oZ9UBRlpJWJ"
      },
      "source": [
        "- remove(value) → Finds the first occurrence of value and deletes it.\n",
        "\n",
        "- If value is not in the list, Python raises a ValueError.\n",
        "\n",
        "- If there are duplicates, only the first one is removed."
      ]
    },
    {
      "cell_type": "markdown",
      "id": "-kIK6KTbpwWi",
      "metadata": {
        "id": "-kIK6KTbpwWi"
      },
      "source": [
        "### ♦️ Removing by index"
      ]
    },
    {
      "cell_type": "code",
      "execution_count": null,
      "id": "q8qtnPSmpwpS",
      "metadata": {
        "id": "q8qtnPSmpwpS"
      },
      "outputs": [],
      "source": [
        "del numbers[0]\n",
        "\n",
        "print(numbers)  # [10, 2, 4, 5]"
      ]
    },
    {
      "cell_type": "markdown",
      "id": "5mQv6GGMpxCK",
      "metadata": {
        "id": "5mQv6GGMpxCK"
      },
      "source": [
        "- del list[index] → Deletes the element at the given index.\n",
        "\n",
        "- Unlike remove(), del works with indexes, not values.\n",
        "\n",
        "- You can also delete slices:"
      ]
    },
    {
      "cell_type": "code",
      "execution_count": null,
      "id": "HGoINXY-p-gY",
      "metadata": {
        "id": "HGoINXY-p-gY"
      },
      "outputs": [],
      "source": [
        "del numbers[1:3]  # Removes elements at index 1 and 2"
      ]
    },
    {
      "cell_type": "markdown",
      "id": "ewehywSZqCI2",
      "metadata": {
        "id": "ewehywSZqCI2"
      },
      "source": [
        "### ♦️ Iterating through a list"
      ]
    },
    {
      "cell_type": "code",
      "execution_count": null,
      "id": "M9nSK-y7qCZt",
      "metadata": {
        "id": "M9nSK-y7qCZt"
      },
      "outputs": [],
      "source": [
        "for num in numbers:\n",
        "    print(num)"
      ]
    },
    {
      "cell_type": "markdown",
      "id": "uu-5tiIoqCnR",
      "metadata": {
        "id": "uu-5tiIoqCnR"
      },
      "source": [
        "- for loop → Goes through each element in the list in order.\n",
        "\n",
        "- num is a loop variable that takes the value of each element in sequence.\n",
        "\n",
        "- You can also loop with indexes using:"
      ]
    },
    {
      "cell_type": "code",
      "execution_count": null,
      "id": "FB-tKvB1qOXa",
      "metadata": {
        "id": "FB-tKvB1qOXa"
      },
      "outputs": [],
      "source": [
        "for i in range(len(numbers)):\n",
        "    print(i, numbers[i])"
      ]
    },
    {
      "cell_type": "markdown",
      "id": "Kh9PeVf0qeMm",
      "metadata": {
        "id": "Kh9PeVf0qeMm"
      },
      "source": [
        "### ♦️ Tuples\n",
        "\n",
        "- What is a Tuple in Programming?\n",
        "\n",
        "  A tuple in Python is an ordered collection of items, similar to a list, but **immutable**.\n",
        "\n",
        "  - Immutable: Once created, you **cannot change**, add, or remove items.\n",
        "\n",
        "  - Indexed: Each item has a fixed position (index) starting from 0.\n",
        "\n",
        "  - Allows duplicates: The same value can appear more than once.\n",
        "\n",
        "  - Can store mixed data types: Integers, strings, booleans, even other tuples.\n",
        "\n",
        "- When to use:\n",
        "\n",
        "  - When you need an ordered collection that **should not be changed**.\n",
        "\n",
        "  - To protect data from accidental modification.\n",
        "\n",
        "  - When you want to use the collection as a dictionary key (because tuples are hashable, unlike lists)."
      ]
    },
    {
      "cell_type": "markdown",
      "id": "ySQxuz8ir0tm",
      "metadata": {
        "id": "ySQxuz8ir0tm"
      },
      "source": [
        "### ⚙️ Basic Operations on Tuples"
      ]
    },
    {
      "cell_type": "markdown",
      "id": "1tvwEsQyr9bn",
      "metadata": {
        "id": "1tvwEsQyr9bn"
      },
      "source": [
        "### ♦️ Creating a Tuple"
      ]
    },
    {
      "cell_type": "code",
      "execution_count": null,
      "id": "nZGJTGClsK_a",
      "metadata": {
        "id": "nZGJTGClsK_a"
      },
      "outputs": [],
      "source": [
        "t = (1, 2, 3)\n",
        "\n",
        "print(t)  # (1, 2, 3)\n",
        "\n",
        "# For a single-element tuple, include a trailing comma\n",
        "single = (5,)\n",
        "\n",
        "print(single)  # (5,)"
      ]
    },
    {
      "cell_type": "markdown",
      "id": "21SJPLxfsIyL",
      "metadata": {
        "id": "21SJPLxfsIyL"
      },
      "source": [
        "- Tuples are created with parentheses () containing comma-separated values.\n",
        "\n",
        "- A single-element tuple must have a trailing comma to be recognized as a tuple."
      ]
    },
    {
      "cell_type": "markdown",
      "id": "DFpRhTdSsSwu",
      "metadata": {
        "id": "DFpRhTdSsSwu"
      },
      "source": [
        "### ♦️ Accessing Elements (Indexing)"
      ]
    },
    {
      "cell_type": "code",
      "execution_count": null,
      "id": "6_hKun05sYLG",
      "metadata": {
        "id": "6_hKun05sYLG"
      },
      "outputs": [],
      "source": [
        "t = (10, 20, 30, 40)\n",
        "\n",
        "print(t[0])   # 10\n",
        "print(t[-1])  # 40"
      ]
    },
    {
      "cell_type": "markdown",
      "id": "GwdQig7xsYdm",
      "metadata": {
        "id": "GwdQig7xsYdm"
      },
      "source": [
        "- Access elements by index, just like lists.\n",
        "\n",
        "- Negative indices count from the end (-1 is last element)."
      ]
    },
    {
      "cell_type": "markdown",
      "id": "kMZA4nGFsZ2W",
      "metadata": {
        "id": "kMZA4nGFsZ2W"
      },
      "source": [
        "### ♦️ Counting Occurrences (count)"
      ]
    },
    {
      "cell_type": "code",
      "execution_count": null,
      "id": "NlGF_qUasaKf",
      "metadata": {
        "id": "NlGF_qUasaKf"
      },
      "outputs": [],
      "source": [
        "t = (1, 2, 2, 3, 2)\n",
        "\n",
        "print(t.count(2))  # 3"
      ]
    },
    {
      "cell_type": "markdown",
      "id": "OiukwPDasabW",
      "metadata": {
        "id": "OiukwPDasabW"
      },
      "source": [
        "- count(value) returns how many times value appears in the tuple."
      ]
    },
    {
      "cell_type": "markdown",
      "id": "xx12VHd1sa5H",
      "metadata": {
        "id": "xx12VHd1sa5H"
      },
      "source": [
        "### ♦️ Finding the Index of the First Occurrence (index)"
      ]
    },
    {
      "cell_type": "code",
      "execution_count": null,
      "id": "e2vATCLbsbKm",
      "metadata": {
        "id": "e2vATCLbsbKm"
      },
      "outputs": [],
      "source": [
        "t = (5, 10, 15, 10)\n",
        "\n",
        "print(t.index(10))  # 1"
      ]
    },
    {
      "cell_type": "markdown",
      "id": "z3JuhirRsbaW",
      "metadata": {
        "id": "z3JuhirRsbaW"
      },
      "source": [
        "- index(value) returns the index of the first occurrence of value.\n",
        "\n",
        "- Raises a ValueError if the value is not found."
      ]
    },
    {
      "cell_type": "markdown",
      "id": "etnATJCDsby2",
      "metadata": {
        "id": "etnATJCDsby2"
      },
      "source": [
        "### ♦️ Getting the Length (len)"
      ]
    },
    {
      "cell_type": "code",
      "execution_count": null,
      "id": "-F9nA9C4scE2",
      "metadata": {
        "id": "-F9nA9C4scE2"
      },
      "outputs": [],
      "source": [
        "t = (1, 2, 3, 4)\n",
        "\n",
        "print(len(t))  # 4"
      ]
    },
    {
      "cell_type": "markdown",
      "id": "lBQOT3TbscSV",
      "metadata": {
        "id": "lBQOT3TbscSV"
      },
      "source": [
        "- Returns the number of elements in the tuple."
      ]
    },
    {
      "cell_type": "markdown",
      "id": "Xdnu6mvNscuG",
      "metadata": {
        "id": "Xdnu6mvNscuG"
      },
      "source": [
        "### ♦️ Repetition (*)"
      ]
    },
    {
      "cell_type": "code",
      "execution_count": null,
      "id": "AfMFD0GmsdA-",
      "metadata": {
        "id": "AfMFD0GmsdA-"
      },
      "outputs": [],
      "source": [
        "t = (1, 2)\n",
        "\n",
        "print(t * 3)  # (1, 2, 1, 2, 1, 2)"
      ]
    },
    {
      "cell_type": "markdown",
      "id": "vewF79wtsdO-",
      "metadata": {
        "id": "vewF79wtsdO-"
      },
      "source": [
        "- The * operator repeats the tuple elements the specified number of times."
      ]
    },
    {
      "cell_type": "markdown",
      "id": "rD03qXVxsdju",
      "metadata": {
        "id": "rD03qXVxsdju"
      },
      "source": [
        "### ♦️ Concatenation (+)"
      ]
    },
    {
      "cell_type": "code",
      "execution_count": null,
      "id": "ItyJHWNCsd1g",
      "metadata": {
        "id": "ItyJHWNCsd1g"
      },
      "outputs": [],
      "source": [
        "t1 = (1, 2)\n",
        "t2 = (3, 4)\n",
        "t3 = t1 + t2\n",
        "\n",
        "print(t3)  # (1, 2, 3, 4)"
      ]
    },
    {
      "cell_type": "markdown",
      "id": "LUmGRv3KseM9",
      "metadata": {
        "id": "LUmGRv3KseM9"
      },
      "source": [
        "- Use + to join two tuples into a new tuple."
      ]
    },
    {
      "cell_type": "markdown",
      "id": "3aa8m15Xtgiu",
      "metadata": {
        "id": "3aa8m15Xtgiu"
      },
      "source": [
        "### ♦️ Converting Tuple to List"
      ]
    },
    {
      "cell_type": "code",
      "execution_count": null,
      "id": "hngUcdLFtg0C",
      "metadata": {
        "id": "hngUcdLFtg0C"
      },
      "outputs": [],
      "source": [
        "t = (1, 2, 3)\n",
        "\n",
        "lst = list(t)\n",
        "\n",
        "print(lst)  # [1, 2, 3]"
      ]
    },
    {
      "cell_type": "markdown",
      "id": "UpvJGo7Ith12",
      "metadata": {
        "id": "UpvJGo7Ith12"
      },
      "source": [
        "- Convert a tuple to a list if you need to modify the elements, since tuples are immutable."
      ]
    },
    {
      "cell_type": "markdown",
      "id": "m-m6nh7MuFwf",
      "metadata": {
        "id": "m-m6nh7MuFwf"
      },
      "source": [
        "### ♦️ Dictionaries\n",
        "\n",
        "- What is a Dictionary in Programming?\n",
        "\n",
        "  A dictionary in Python is an **unordered collection** of key-value pairs, where each key is unique.\n",
        "\n",
        "  - Mutable: You can add, change, or remove key-value pairs after creation.\n",
        "\n",
        "  - Keys must be **immutable** types (like strings, numbers, or tuples).\n",
        "\n",
        "  - Values can be of any data type.\n",
        "\n",
        "  - Dictionaries provide **fast lookup** based on keys.\n",
        "\n",
        "- When to use:\n",
        "\n",
        "  - When you need to associate values with unique keys for quick access.\n",
        "\n",
        "  - When order is not important (before Python 3.7; from 3.7 onwards dictionaries preserve insertion order).\n",
        "\n",
        "  - To represent real-world objects with named attributes (e.g., a person with name, age, and address)."
      ]
    },
    {
      "cell_type": "markdown",
      "id": "lr545RacugWr",
      "metadata": {
        "id": "lr545RacugWr"
      },
      "source": [
        "### ⚙️ Basic Operations on Dictionaries"
      ]
    },
    {
      "cell_type": "markdown",
      "id": "j-aN7ZtIu8we",
      "metadata": {
        "id": "j-aN7ZtIu8we"
      },
      "source": [
        "### ♦️ Creating a Dictionary"
      ]
    },
    {
      "cell_type": "code",
      "execution_count": null,
      "id": "mSdq37BZu9wS",
      "metadata": {
        "id": "mSdq37BZu9wS"
      },
      "outputs": [],
      "source": [
        "person = {\"name\": \"Alice\", \"age\": 30, \"city\": \"New York\"}\n",
        "\n",
        "print(person)"
      ]
    },
    {
      "cell_type": "markdown",
      "id": "rPV-QbJ6u-Ly",
      "metadata": {
        "id": "rPV-QbJ6u-Ly"
      },
      "source": [
        "- Dictionaries are created with curly braces {}, containing key-value pairs separated by colons.\n",
        "\n",
        "- Keys are unique and immutable; values can be any type."
      ]
    },
    {
      "cell_type": "markdown",
      "id": "gYut8H6ou-l-",
      "metadata": {
        "id": "gYut8H6ou-l-"
      },
      "source": [
        "### ♦️ Accessing Values by Key"
      ]
    },
    {
      "cell_type": "code",
      "execution_count": null,
      "id": "lmdTnCIRu-z4",
      "metadata": {
        "id": "lmdTnCIRu-z4"
      },
      "outputs": [],
      "source": [
        "print(person[\"name\"])  # Alice"
      ]
    },
    {
      "cell_type": "markdown",
      "id": "nfVUEJc-u_DI",
      "metadata": {
        "id": "nfVUEJc-u_DI"
      },
      "source": [
        "- Use square brackets [] with the key to access its value.\n",
        "\n",
        "- Raises a KeyError if the key does not exist."
      ]
    },
    {
      "cell_type": "markdown",
      "id": "usXN2wAuvAED",
      "metadata": {
        "id": "usXN2wAuvAED"
      },
      "source": [
        "### ♦️ Adding or Updating Key-Value Pairs"
      ]
    },
    {
      "cell_type": "code",
      "execution_count": null,
      "id": "9G6W-fXpvAXU",
      "metadata": {
        "id": "9G6W-fXpvAXU"
      },
      "outputs": [],
      "source": [
        "person[\"email\"] = \"alice@example.com\"  # Add new key\n",
        "person[\"age\"] = 31                     # Update existing key\n",
        "\n",
        "print(person)"
      ]
    },
    {
      "cell_type": "markdown",
      "id": "-aJNPJPXvAki",
      "metadata": {
        "id": "-aJNPJPXvAki"
      },
      "source": [
        "- Assigning a value to a key adds or updates the pair."
      ]
    },
    {
      "cell_type": "markdown",
      "id": "LsdwCDARvA80",
      "metadata": {
        "id": "LsdwCDARvA80"
      },
      "source": [
        "### ♦️ Removing Items"
      ]
    },
    {
      "cell_type": "code",
      "execution_count": null,
      "id": "P6ckknUJvBR8",
      "metadata": {
        "id": "P6ckknUJvBR8"
      },
      "outputs": [],
      "source": [
        "del person[\"city\"]  # Remove key-value pair by key\n",
        "\n",
        "print(person)\n",
        "\n",
        "# Or using pop() which also returns the removed value\n",
        "age = person.pop(\"age\")\n",
        "\n",
        "print(age)\n",
        "print(person)"
      ]
    },
    {
      "cell_type": "markdown",
      "id": "EvR9a1kzvBzT",
      "metadata": {
        "id": "EvR9a1kzvBzT"
      },
      "source": [
        "- del removes a key-value pair.\n",
        "\n",
        "- pop(key) removes and returns the value for the given key.\n",
        "\n",
        "- Raises KeyError if key not found."
      ]
    },
    {
      "cell_type": "markdown",
      "id": "Bsc2e5KMvCKT",
      "metadata": {
        "id": "Bsc2e5KMvCKT"
      },
      "source": [
        "### ♦️ Checking if a Key Exists"
      ]
    },
    {
      "cell_type": "code",
      "execution_count": null,
      "id": "Xn7PkfPxvCak",
      "metadata": {
        "id": "Xn7PkfPxvCak"
      },
      "outputs": [],
      "source": [
        "print(\"name\" in person)   # True\n",
        "print(\"city\" in person)   # False"
      ]
    },
    {
      "cell_type": "markdown",
      "id": "OotJiK64vCvD",
      "metadata": {
        "id": "OotJiK64vCvD"
      },
      "source": [
        "- Use the in keyword to check for key presence."
      ]
    },
    {
      "cell_type": "markdown",
      "id": "Ae__QfBfvDLg",
      "metadata": {
        "id": "Ae__QfBfvDLg"
      },
      "source": [
        "### ♦️ Getting All Keys, Values, or Items"
      ]
    },
    {
      "cell_type": "code",
      "execution_count": null,
      "id": "S0qsne81vDuO",
      "metadata": {
        "id": "S0qsne81vDuO"
      },
      "outputs": [],
      "source": [
        "print(person.keys())    # dict_keys(['name', 'email'])\n",
        "print(person.values())  # dict_values(['Alice', 'alice@example.com'])\n",
        "print(person.items())   # dict_items([('name', 'Alice'), ('email', 'alice@example.com')])"
      ]
    },
    {
      "cell_type": "markdown",
      "id": "q2PDL1F3vD-b",
      "metadata": {
        "id": "q2PDL1F3vD-b"
      },
      "source": [
        "- keys() returns a view of all keys.\n",
        "\n",
        "- values() returns a view of all values.\n",
        "\n",
        "- items() returns a view of key-value pairs as tuples."
      ]
    },
    {
      "cell_type": "markdown",
      "id": "2D765-8VvESb",
      "metadata": {
        "id": "2D765-8VvESb"
      },
      "source": [
        "### ♦️ Iterating Through a Dictionary"
      ]
    },
    {
      "cell_type": "code",
      "execution_count": null,
      "id": "VuXObJySvEg7",
      "metadata": {
        "id": "VuXObJySvEg7"
      },
      "outputs": [],
      "source": [
        "for key in person:\n",
        "    print(key, \":\", person[key])\n",
        "\n",
        "# Or more explicitly:\n",
        "for key, value in person.items():\n",
        "    print(key, \"->\", value)"
      ]
    },
    {
      "cell_type": "markdown",
      "id": "v2ld_U_uvE1Q",
      "metadata": {
        "id": "v2ld_U_uvE1Q"
      },
      "source": [
        "- You can loop through keys or key-value pairs."
      ]
    },
    {
      "cell_type": "markdown",
      "id": "0imlwU4svFR8",
      "metadata": {
        "id": "0imlwU4svFR8"
      },
      "source": [
        "### ♦️ Using get() to Access Values Safely"
      ]
    },
    {
      "cell_type": "code",
      "execution_count": null,
      "id": "PmSHH3ocvFuT",
      "metadata": {
        "id": "PmSHH3ocvFuT"
      },
      "outputs": [],
      "source": [
        "print(person.get(\"name\"))       # Alice\n",
        "print(person.get(\"address\"))    # None (instead of KeyError)\n",
        "\n",
        "# Provide a default value if key not found\n",
        "print(person.get(\"address\", \"Unknown\"))"
      ]
    },
    {
      "cell_type": "markdown",
      "id": "mQyCQNLUvF_u",
      "metadata": {
        "id": "mQyCQNLUvF_u"
      },
      "source": [
        "- get() returns the value for a key or a default if the key is missing.\n",
        "\n",
        "- Prevents KeyError."
      ]
    },
    {
      "cell_type": "markdown",
      "id": "awsoH0K5vGbN",
      "metadata": {
        "id": "awsoH0K5vGbN"
      },
      "source": [
        "### ♦️ Clearing a Dictionary"
      ]
    },
    {
      "cell_type": "code",
      "execution_count": null,
      "id": "GXDHFQSAvGzJ",
      "metadata": {
        "id": "GXDHFQSAvGzJ"
      },
      "outputs": [],
      "source": [
        "person.clear()\n",
        "print(person)  # {}"
      ]
    },
    {
      "cell_type": "markdown",
      "id": "irqybkECvHBr",
      "metadata": {
        "id": "irqybkECvHBr"
      },
      "source": [
        "- Removes all key-value pairs from the dictionary."
      ]
    },
    {
      "cell_type": "markdown",
      "id": "VdV8llIwvJ1M",
      "metadata": {
        "id": "VdV8llIwvJ1M"
      },
      "source": [
        "### ♦️ Copying a Dictionary"
      ]
    },
    {
      "cell_type": "code",
      "execution_count": null,
      "id": "XpX0rHO8vKHk",
      "metadata": {
        "id": "XpX0rHO8vKHk"
      },
      "outputs": [],
      "source": [
        "person_copy = person.copy()\n",
        "\n",
        "print(person_copy)"
      ]
    },
    {
      "cell_type": "markdown",
      "id": "sSlKM9eqvKWT",
      "metadata": {
        "id": "sSlKM9eqvKWT"
      },
      "source": [
        "- Creates a shallow copy of the dictionary."
      ]
    },
    {
      "cell_type": "markdown",
      "id": "AeWg2Cs8zGLM",
      "metadata": {
        "id": "AeWg2Cs8zGLM"
      },
      "source": [
        "### ♦️ Sets\n",
        "\n",
        "- What is a Set in Programming?\n",
        "\n",
        "  A set in Python is an unordered collection of unique elements.\n",
        "\n",
        "  - Mutable: You can add or remove elements after creation.\n",
        "\n",
        "  - Elements must be immutable types (like strings, numbers, or tuples).\n",
        "\n",
        "  - No duplicate elements: duplicates are automatically removed.\n",
        "\n",
        "  - Sets support efficient membership testing and mathematical set operations.\n",
        "\n",
        "- When to use:\n",
        "\n",
        "  - When you need to store unique items.\n",
        "\n",
        "  - When you want to perform mathematical operations like union, intersection, and difference."
      ]
    },
    {
      "cell_type": "markdown",
      "id": "LtuZH02y0FVU",
      "metadata": {
        "id": "LtuZH02y0FVU"
      },
      "source": [
        "### ⚙️ Basic Operations on Sets"
      ]
    },
    {
      "cell_type": "markdown",
      "id": "htqokYUk0kyI",
      "metadata": {
        "id": "htqokYUk0kyI"
      },
      "source": [
        "### ♦️ Creating a Set"
      ]
    },
    {
      "cell_type": "code",
      "execution_count": null,
      "id": "yupNhcBM0lGC",
      "metadata": {
        "id": "yupNhcBM0lGC"
      },
      "outputs": [],
      "source": [
        "fruits = {\"apple\", \"banana\", \"orange\"}\n",
        "\n",
        "print(fruits)"
      ]
    },
    {
      "cell_type": "markdown",
      "id": "e74zzTso0lSv",
      "metadata": {
        "id": "e74zzTso0lSv"
      },
      "source": [
        "- Use curly braces {} with comma-separated values.\n",
        "\n",
        "- To create an empty set, use set(), because {} creates an empty dictionary."
      ]
    },
    {
      "cell_type": "markdown",
      "id": "GG6N_U1p0lmf",
      "metadata": {
        "id": "GG6N_U1p0lmf"
      },
      "source": [
        "### ♦️ Adding Elements"
      ]
    },
    {
      "cell_type": "code",
      "execution_count": null,
      "id": "72q1ylti0l5I",
      "metadata": {
        "id": "72q1ylti0l5I"
      },
      "outputs": [],
      "source": [
        "fruits.add(\"kiwi\")\n",
        "\n",
        "print(fruits)"
      ]
    },
    {
      "cell_type": "markdown",
      "id": "-dlse8Jh0mFw",
      "metadata": {
        "id": "-dlse8Jh0mFw"
      },
      "source": [
        "- Adds a single element to the set.\n",
        "\n",
        "- If the element already exists, the set remains unchanged."
      ]
    },
    {
      "cell_type": "markdown",
      "id": "zzEAL0pj0m8d",
      "metadata": {
        "id": "zzEAL0pj0m8d"
      },
      "source": [
        "### ♦️ Removing Elements"
      ]
    },
    {
      "cell_type": "code",
      "execution_count": null,
      "id": "Nk3-FjHw0nLd",
      "metadata": {
        "id": "Nk3-FjHw0nLd"
      },
      "outputs": [],
      "source": [
        "fruits.remove(\"banana\")  # Raises KeyError if not found\n",
        "\n",
        "print(fruits)\n",
        "\n",
        "fruits.discard(\"grape\")  # Does NOT raise error if not found\n",
        "\n",
        "print(fruits)"
      ]
    },
    {
      "cell_type": "markdown",
      "id": "6LnV2EFm0naa",
      "metadata": {
        "id": "6LnV2EFm0naa"
      },
      "source": [
        "- remove() deletes the element but raises an error if the element is not in the set.\n",
        "\n",
        "- discard() deletes the element if it exists, otherwise does nothing."
      ]
    },
    {
      "cell_type": "markdown",
      "id": "OEOmBszd0nyi",
      "metadata": {
        "id": "OEOmBszd0nyi"
      },
      "source": [
        "### ♦️ Clearing a Set"
      ]
    },
    {
      "cell_type": "code",
      "execution_count": null,
      "id": "AZYtzTYt0oDh",
      "metadata": {
        "id": "AZYtzTYt0oDh"
      },
      "outputs": [],
      "source": [
        "fruits.clear()\n",
        "\n",
        "print(fruits)  # set()"
      ]
    },
    {
      "cell_type": "markdown",
      "id": "H00Yzhpy0oTW",
      "metadata": {
        "id": "H00Yzhpy0oTW"
      },
      "source": [
        "- Removes all elements from the set."
      ]
    },
    {
      "cell_type": "markdown",
      "id": "GzcCnmnm0o_-",
      "metadata": {
        "id": "GzcCnmnm0o_-"
      },
      "source": [
        "### ♦️ Set Membership Testing"
      ]
    },
    {
      "cell_type": "code",
      "execution_count": null,
      "id": "a5BOqpsE0pPX",
      "metadata": {
        "id": "a5BOqpsE0pPX"
      },
      "outputs": [],
      "source": [
        "print(\"apple\" in fruits)  # True or False"
      ]
    },
    {
      "cell_type": "markdown",
      "id": "WG8eAqRy0pq3",
      "metadata": {
        "id": "WG8eAqRy0pq3"
      },
      "source": [
        "- Checks if an element exists in the set."
      ]
    },
    {
      "cell_type": "markdown",
      "id": "OIfbsFDo0qBw",
      "metadata": {
        "id": "OIfbsFDo0qBw"
      },
      "source": [
        "### ♦️ Set Union"
      ]
    },
    {
      "cell_type": "code",
      "execution_count": null,
      "id": "Lg60k6cW0qYP",
      "metadata": {
        "id": "Lg60k6cW0qYP"
      },
      "outputs": [],
      "source": [
        "A = {1, 2, 3}\n",
        "B = {3, 4, 5}\n",
        "\n",
        "print(A | B)  # {1, 2, 3, 4, 5}"
      ]
    },
    {
      "cell_type": "markdown",
      "id": "ot2jYjgZ0qmv",
      "metadata": {
        "id": "ot2jYjgZ0qmv"
      },
      "source": [
        "- Combines all unique elements from both sets."
      ]
    },
    {
      "cell_type": "markdown",
      "id": "DBlm7yOJ0rGm",
      "metadata": {
        "id": "DBlm7yOJ0rGm"
      },
      "source": [
        "### ♦️ Set Intersection"
      ]
    },
    {
      "cell_type": "code",
      "execution_count": null,
      "id": "56bhdCPh0rZf",
      "metadata": {
        "id": "56bhdCPh0rZf"
      },
      "outputs": [],
      "source": [
        "print(A & B)  # {3}"
      ]
    },
    {
      "cell_type": "markdown",
      "id": "w54Mzhug0roH",
      "metadata": {
        "id": "w54Mzhug0roH"
      },
      "source": [
        "- Elements common to both sets."
      ]
    },
    {
      "cell_type": "markdown",
      "id": "M_WH2Qlp0r9e",
      "metadata": {
        "id": "M_WH2Qlp0r9e"
      },
      "source": [
        "### ♦️ Set Difference"
      ]
    },
    {
      "cell_type": "code",
      "execution_count": null,
      "id": "0WPHOjcX0sMM",
      "metadata": {
        "id": "0WPHOjcX0sMM"
      },
      "outputs": [],
      "source": [
        "print(A - B)  # {1, 2}"
      ]
    },
    {
      "cell_type": "markdown",
      "id": "ITSiwl3X0sb-",
      "metadata": {
        "id": "ITSiwl3X0sb-"
      },
      "source": [
        "- Elements in A but not in B."
      ]
    },
    {
      "cell_type": "markdown",
      "id": "NdvIKF7T0sx4",
      "metadata": {
        "id": "NdvIKF7T0sx4"
      },
      "source": [
        "### ♦️ Set Symmetric Difference"
      ]
    },
    {
      "cell_type": "code",
      "execution_count": null,
      "id": "diB4OHOk0tDz",
      "metadata": {
        "id": "diB4OHOk0tDz"
      },
      "outputs": [],
      "source": [
        "print(A ^ B)  # {1, 2, 4, 5}"
      ]
    },
    {
      "cell_type": "markdown",
      "id": "Isx34ph50teh",
      "metadata": {
        "id": "Isx34ph50teh"
      },
      "source": [
        "- Elements in either set, but not in both."
      ]
    },
    {
      "cell_type": "markdown",
      "id": "yNwM0BVS0tz8",
      "metadata": {
        "id": "yNwM0BVS0tz8"
      },
      "source": [
        "### ♦️ Copying a Set"
      ]
    },
    {
      "cell_type": "code",
      "execution_count": null,
      "id": "djZgNzoY0uJC",
      "metadata": {
        "id": "djZgNzoY0uJC"
      },
      "outputs": [],
      "source": [
        "C = A.copy()\n",
        "\n",
        "print(C)"
      ]
    },
    {
      "cell_type": "markdown",
      "id": "_brwQXEq0uXv",
      "metadata": {
        "id": "_brwQXEq0uXv"
      },
      "source": [
        "- Creates a shallow copy of the set."
      ]
    },
    {
      "cell_type": "markdown",
      "id": "KrxvyHio2xSa",
      "metadata": {
        "id": "KrxvyHio2xSa"
      },
      "source": [
        "### ♦️ Strings\n",
        "\n",
        "- What is a String in Programming?\n",
        "\n",
        "  A string in Python is an ordered sequence of characters, used to represent text.\n",
        "\n",
        "  - Immutable: Once created, a string cannot be changed.\n",
        "\n",
        "  - Indexed: Each character has a position starting from 0.\n",
        "\n",
        "  - Supports many built-in methods for searching, slicing, replacing, and formatting.\n",
        "\n",
        "- When to use:\n",
        "\n",
        "  - To work with text data such as words, sentences, or any sequence of characters.\n",
        "\n",
        "  - When you need to manipulate or analyze textual information."
      ]
    },
    {
      "cell_type": "markdown",
      "id": "gqnjYhvW3UNG",
      "metadata": {
        "id": "gqnjYhvW3UNG"
      },
      "source": [
        "### ⚙️ Basic Operations on Strings"
      ]
    },
    {
      "cell_type": "markdown",
      "id": "E2744owf3svk",
      "metadata": {
        "id": "E2744owf3svk"
      },
      "source": [
        "### ♦️ String Slicing"
      ]
    },
    {
      "cell_type": "code",
      "execution_count": null,
      "id": "EIeop4Mj3tFu",
      "metadata": {
        "id": "EIeop4Mj3tFu"
      },
      "outputs": [],
      "source": [
        "text = \"Python Programming\"\n",
        "\n",
        "print(text[0:6])   # 'Python'  (characters from index 0 up to 6, excluding 6)\n",
        "print(text[7:])    # 'Programming' (from index 7 to the end)\n",
        "print(text[-11:-1]) # 'Programmin' (negative indexing)\n",
        "print(text[::-1])  # 'gnimmargorP nohtyP' (reverses the string)"
      ]
    },
    {
      "cell_type": "markdown",
      "id": "kFpWalY73ta1",
      "metadata": {
        "id": "kFpWalY73ta1"
      },
      "source": [
        "- Extract parts of a string using [start:end] notation.\n",
        "\n",
        "- Supports negative indices (counting from the end).\n",
        "\n",
        "- The step parameter [start:end:step] allows skipping characters or reversing."
      ]
    },
    {
      "cell_type": "markdown",
      "id": "H6EJDOY73uIo",
      "metadata": {
        "id": "H6EJDOY73uIo"
      },
      "source": [
        "### ♦️ Searching in Strings"
      ]
    },
    {
      "cell_type": "code",
      "execution_count": null,
      "id": "NtwsvRaT3uWm",
      "metadata": {
        "id": "NtwsvRaT3uWm"
      },
      "outputs": [],
      "source": [
        "text = \"I love Python programming\"\n",
        "\n",
        "print(text.find(\"Python\"))    # 7 (start index of first occurrence)\n",
        "print(text.find(\"Java\"))      # -1 (not found)\n",
        "print(text.index(\"love\"))     # 2 (like find but raises error if not found)\n",
        "\n",
        "# print(text.index(\"Java\"))   # Raises ValueError if substring not found"
      ]
    },
    {
      "cell_type": "markdown",
      "id": "S7ysqD4-3u4j",
      "metadata": {
        "id": "S7ysqD4-3u4j"
      },
      "source": [
        "- find(substring) returns the index of the first occurrence or -1 if not found.\n",
        "\n",
        "- index(substring) is similar but raises an error if substring does not exist."
      ]
    },
    {
      "cell_type": "markdown",
      "id": "ZhV-gDYz3vRV",
      "metadata": {
        "id": "ZhV-gDYz3vRV"
      },
      "source": [
        "### ♦️ Replacing Substrings"
      ]
    },
    {
      "cell_type": "code",
      "execution_count": null,
      "id": "zBJ1lDnC3vi3",
      "metadata": {
        "id": "zBJ1lDnC3vi3"
      },
      "outputs": [],
      "source": [
        "text = \"I love Java\"\n",
        "\n",
        "new_text = text.replace(\"Java\", \"Python\")\n",
        "\n",
        "print(new_text)  # \"I love Python\""
      ]
    },
    {
      "cell_type": "markdown",
      "id": "NAXM4oZp3vz6",
      "metadata": {
        "id": "NAXM4oZp3vz6"
      },
      "source": [
        "- replace(old, new) returns a new string with all occurrences of old replaced by new."
      ]
    },
    {
      "cell_type": "markdown",
      "id": "OEhJrLUN3wY8",
      "metadata": {
        "id": "OEhJrLUN3wY8"
      },
      "source": [
        "### ♦️ Changing Case"
      ]
    },
    {
      "cell_type": "code",
      "execution_count": null,
      "id": "OHqvBaaT3wud",
      "metadata": {
        "id": "OHqvBaaT3wud"
      },
      "outputs": [],
      "source": [
        "text = \"Python\"\n",
        "\n",
        "print(text.upper())   # 'PYTHON'\n",
        "print(text.lower())   # 'python'\n",
        "print(text.title())   # 'Python' (capitalizes first letter of each word)"
      ]
    },
    {
      "cell_type": "markdown",
      "id": "tGDQL-DD3w8U",
      "metadata": {
        "id": "tGDQL-DD3w8U"
      },
      "source": [
        "- Useful for case-insensitive comparisons or formatting."
      ]
    },
    {
      "cell_type": "markdown",
      "id": "jikgTCvS3xTe",
      "metadata": {
        "id": "jikgTCvS3xTe"
      },
      "source": [
        "### ♦️ Trimming Whitespace"
      ]
    },
    {
      "cell_type": "code",
      "execution_count": null,
      "id": "vE-FDcOJ3xkM",
      "metadata": {
        "id": "vE-FDcOJ3xkM"
      },
      "outputs": [],
      "source": [
        "text = \"   hello world   \"\n",
        "\n",
        "print(text.strip())    # 'hello world' (removes leading/trailing whitespace)\n",
        "print(text.lstrip())   # 'hello world   ' (removes leading whitespace)\n",
        "print(text.rstrip())   # '   hello world' (removes trailing whitespace)"
      ]
    },
    {
      "cell_type": "markdown",
      "id": "HzMfplSz3x0k",
      "metadata": {
        "id": "HzMfplSz3x0k"
      },
      "source": [
        "- strip() removes all whitespace characters (spaces, tabs, newlines) from both the beginning and the end of the string.\n",
        "\n",
        "- lstrip() removes whitespace only from the start of the string.\n",
        "\n",
        "- rstrip() removes whitespace only from the end of the string.\n",
        "\n",
        "- These methods do not modify the original string; they return a new string with the whitespace removed."
      ]
    },
    {
      "cell_type": "markdown",
      "id": "eUhg54aU3yJY",
      "metadata": {
        "id": "eUhg54aU3yJY"
      },
      "source": [
        "### ♦️ Splitting and Joining Strings"
      ]
    },
    {
      "cell_type": "code",
      "execution_count": null,
      "id": "YxrOgtUI3yf4",
      "metadata": {
        "id": "YxrOgtUI3yf4"
      },
      "outputs": [],
      "source": [
        "text = \"apple,banana,cherry\"\n",
        "\n",
        "fruits = text.split(\",\")\n",
        "\n",
        "print(fruits)          # ['apple', 'banana', 'cherry']\n",
        "\n",
        "new_text = \"-\".join(fruits)\n",
        "\n",
        "print(new_text)        # 'apple-banana-cherry'"
      ]
    },
    {
      "cell_type": "markdown",
      "id": "omT6sZlZ3yt5",
      "metadata": {
        "id": "omT6sZlZ3yt5"
      },
      "source": [
        "- split(separator) breaks a string into a list by the separator.\n",
        "\n",
        "- join(iterable) joins a list of strings into one string with the given separator."
      ]
    },
    {
      "cell_type": "markdown",
      "id": "3umJ0zSP3zPV",
      "metadata": {
        "id": "3umJ0zSP3zPV"
      },
      "source": [
        "### ♦️ Checking Start and End"
      ]
    },
    {
      "cell_type": "code",
      "execution_count": null,
      "id": "rY1FSpg43zib",
      "metadata": {
        "id": "rY1FSpg43zib"
      },
      "outputs": [],
      "source": [
        "text = \"Hello, world!\"\n",
        "\n",
        "print(text.startswith(\"Hello\"))  # True\n",
        "print(text.endswith(\"world!\"))   # True"
      ]
    },
    {
      "cell_type": "markdown",
      "id": "oMnktTjP3zxF",
      "metadata": {
        "id": "oMnktTjP3zxF"
      },
      "source": [
        "- startswith(substring) checks if the string starts with the specified substring.\n",
        "\n",
        "- endswith(substring) checks if the string ends with the specified substring.\n",
        "\n",
        "- Both return a Boolean value: True if the condition is met, otherwise False."
      ]
    },
    {
      "cell_type": "markdown",
      "id": "tkjoCpCm30Fk",
      "metadata": {
        "id": "tkjoCpCm30Fk"
      },
      "source": [
        "### ♦️ Counting Occurrences"
      ]
    },
    {
      "cell_type": "code",
      "execution_count": null,
      "id": "GfKnyQ3430Zk",
      "metadata": {
        "id": "GfKnyQ3430Zk"
      },
      "outputs": [],
      "source": [
        "text = \"banana\"\n",
        "\n",
        "print(text.count(\"a\"))  # 3"
      ]
    },
    {
      "cell_type": "markdown",
      "id": "7GrfRD1B302d",
      "metadata": {
        "id": "7GrfRD1B302d"
      },
      "source": [
        "- count(substring) returns the number of times the substring appears in the string.\n",
        "\n",
        "- Returns 0 if the substring is not found.\n",
        "\n"
      ]
    },
    {
      "cell_type": "markdown",
      "id": "va59wg9g8nFi",
      "metadata": {
        "id": "va59wg9g8nFi"
      },
      "source": [
        "## 📌 Section 2: Practical Use Cases"
      ]
    },
    {
      "cell_type": "markdown",
      "id": "NFr26oG5bfPy",
      "metadata": {
        "id": "NFr26oG5bfPy"
      },
      "source": [
        "### 📝 Exercise 1: Find me\n",
        "\n",
        "Write a program that:\n",
        "\n",
        "Finding the maximum element in a list.\n",
        "\n",
        "Try running these codes:"
      ]
    },
    {
      "cell_type": "code",
      "execution_count": null,
      "id": "CdnEvKuPcJRH",
      "metadata": {
        "colab": {
          "base_uri": "https://localhost:8080/"
        },
        "id": "CdnEvKuPcJRH",
        "outputId": "5aff42d5-6659-4bfb-f82f-2ac9e1f76e45"
      },
      "outputs": [
        {
          "name": "stdout",
          "output_type": "stream",
          "text": [
            "Maximum number: 9\n"
          ]
        }
      ],
      "source": [
        "numbers = [3, 7, 2, 9, 4, 9, 5]\n",
        "\n",
        "max_number = max(numbers)\n",
        "\n",
        "print(\"Maximum number:\", max_number)"
      ]
    },
    {
      "cell_type": "markdown",
      "id": "5FUgL6e46b3T",
      "metadata": {
        "id": "5FUgL6e46b3T"
      },
      "source": [
        "- The max() function finds the largest value in the list."
      ]
    },
    {
      "cell_type": "markdown",
      "id": "xAWCFq9NBCET",
      "metadata": {
        "id": "xAWCFq9NBCET"
      },
      "source": [
        "### 📝 More Exercises:"
      ]
    },
    {
      "cell_type": "markdown",
      "id": "xsh-GL2IBj47",
      "metadata": {
        "id": "xsh-GL2IBj47"
      },
      "source": [
        "### 📝 Exercise 2: How many\n",
        "\n",
        "Write a program that:\n",
        "\n",
        "Counting occurrences of a character in a string.\n",
        "\n",
        "Try running these codes:"
      ]
    },
    {
      "cell_type": "code",
      "execution_count": null,
      "id": "gy2Xxn5Gcjn6",
      "metadata": {
        "colab": {
          "base_uri": "https://localhost:8080/"
        },
        "id": "gy2Xxn5Gcjn6",
        "outputId": "d99295c1-636c-4bd7-8d87-5352257664ec"
      },
      "outputs": [
        {
          "name": "stdout",
          "output_type": "stream",
          "text": [
            "Sum using for loop: 5050\n"
          ]
        }
      ],
      "source": [
        "text = \"Hello, world!\"\n",
        "\n",
        "char_to_count = 'o'\n",
        "\n",
        "count = text.count(char_to_count)\n",
        "\n",
        "print(f\"The character '{char_to_count}' appears {count} times.\")"
      ]
    },
    {
      "cell_type": "markdown",
      "id": "ncQYNgWV6jpn",
      "metadata": {
        "id": "ncQYNgWV6jpn"
      },
      "source": [
        "- The count() method counts how many times a character or substring appears in the string."
      ]
    },
    {
      "cell_type": "markdown",
      "id": "gn6XoB8q6ttu",
      "metadata": {
        "id": "gn6XoB8q6ttu"
      },
      "source": [
        "### 📝 Exercise 3: Makes it more understandable\n",
        "\n",
        "Write a program that:\n",
        "\n",
        "Given a string sentence, count how many times each word appears and store the results in a dictionary.\n",
        "\n",
        "Try running these codes:"
      ]
    },
    {
      "cell_type": "code",
      "execution_count": null,
      "id": "ZI9r901aPR3z",
      "metadata": {
        "id": "ZI9r901aPR3z"
      },
      "outputs": [],
      "source": [
        "sentence = \"apple banana apple orange banana apple\"\n",
        "\n",
        "words = sentence.split()\n",
        "\n",
        "word_counts = {}\n",
        "\n",
        "for word in words:\n",
        "    if word in word_counts:\n",
        "        word_counts[word] = word_counts[word] + 1\n",
        "\n",
        "    else:\n",
        "        word_counts[word] = 1\n",
        "\n",
        "print(word_counts)"
      ]
    },
    {
      "cell_type": "markdown",
      "id": "vCFycNAfbmLy",
      "metadata": {
        "id": "vCFycNAfbmLy"
      },
      "source": [
        "### 📝 Exercise 4: Big one\n",
        "\n",
        "Write a program that:\n",
        "\n",
        "Given a list of tuples, each containing numbers, find the tuple whose elements sum to the largest value.\n",
        "\n",
        "Try running these codes:"
      ]
    },
    {
      "cell_type": "code",
      "execution_count": null,
      "id": "-BWxxuicQMhz",
      "metadata": {
        "id": "-BWxxuicQMhz"
      },
      "outputs": [],
      "source": [
        "tuples = [(1, 2, 3), (4, 5), (10,), (2, 2, 2, 2)]\n",
        "\n",
        "max_sum = None\n",
        "\n",
        "max_tuple = None\n",
        "\n",
        "for t in tuples:\n",
        "    current_sum = sum(t)\n",
        "\n",
        "    if max_sum is None or current_sum > max_sum:\n",
        "        max_sum = current_sum\n",
        "\n",
        "        max_tuple = t\n",
        "\n",
        "print(max_tuple)"
      ]
    },
    {
      "cell_type": "markdown",
      "id": "RTkc14cjbmle",
      "metadata": {
        "id": "RTkc14cjbmle"
      },
      "source": [
        "### 📝 Exercise 5: Same ones\n",
        "\n",
        "Write a program that:\n",
        "\n",
        "Find unique common elements from two lists.\n",
        "\n",
        "Try running this code:"
      ]
    },
    {
      "cell_type": "code",
      "execution_count": null,
      "id": "4JZ_JeQmdXFi",
      "metadata": {
        "id": "4JZ_JeQmdXFi"
      },
      "outputs": [],
      "source": [
        "list1 = [1, 2, 3, 4, 5, 5]\n",
        "list2 = [4, 4, 5, 6, 7]\n",
        "\n",
        "set1 = set(list1)\n",
        "set2 = set(list2)\n",
        "\n",
        "common_elements = set1.intersection(set2)\n",
        "\n",
        "print(common_elements)"
      ]
    },
    {
      "cell_type": "markdown",
      "id": "UUuEpkUPDFlT",
      "metadata": {
        "id": "UUuEpkUPDFlT"
      },
      "source": [
        "### 🔥 Wrap-Up\n",
        "\n",
        "Thanks for completing this part of your Python journey!\n",
        "\n",
        "In this notebook, you’ve explored some of the core data structures in Python — **lists, tuples, dictionaries, sets, and strings**. These fundamental building blocks allow you to organize, store, and manipulate data efficiently and effectively.\n",
        "\n",
        "You've learned how to:\n",
        "\n",
        "- Use lists and tuples to store ordered collections of data\n",
        "- Work with dictionaries to map unique keys to values for fast lookup\n",
        "- Utilize sets to manage unique elements and perform mathematical set operations\n",
        "- Manipulate strings for text processing, including searching, slicing, and replacing\n",
        "\n",
        "This knowledge equips you to write programs that can handle complex data, perform fast lookups, remove duplicates, and process textual information — all essential skills for real-world applications.\n",
        "\n",
        "Keep practicing by experimenting with these data structures in your own projects, combining their strengths to solve diverse programming challenges!\n",
        "\n",
        "### 🙌 Well Done!\n",
        "\n",
        "You’ve successfully completed this section! 🎉\n",
        "Your understanding of Python’s core data structures is growing stronger — and you’re ready to build more powerful, data-driven programs with confidence.\n",
        "\n",
        "### 💡 Remember\n",
        "\n",
        "Mastering data structures is key to efficient programming.\n",
        "They form the foundation of how data is stored, accessed, and manipulated in every software application.\n",
        "Stay curious, keep exploring new ways to use these tools, and practice regularly — that’s the path to becoming a skilled Python developer!"
      ]
    }
  ],
  "metadata": {
    "colab": {
      "provenance": []
    },
    "kernelspec": {
      "display_name": "datascience",
      "language": "python",
      "name": "python3"
    },
    "language_info": {
      "codemirror_mode": {
        "name": "ipython",
        "version": 3
      },
      "file_extension": ".py",
      "mimetype": "text/x-python",
      "name": "python",
      "nbconvert_exporter": "python",
      "pygments_lexer": "ipython3",
      "version": "3.12.11"
    }
  },
  "nbformat": 4,
  "nbformat_minor": 5
}
