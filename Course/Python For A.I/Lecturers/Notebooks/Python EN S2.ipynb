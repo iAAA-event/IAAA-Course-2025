{
  "cells": [
    {
      "cell_type": "markdown",
      "id": "63aec81c",
      "metadata": {
        "id": "63aec81c"
      },
      "source": [
        "# 📘 Notebook 2: Introduction to Data Types, Variables, and Operators in Python\n",
        "\n",
        "### 👨 Lecturer: *Mohammad Fotouhi*  \n",
        "### 📅 Date: *[YYYY-MM-DD]*\n",
        "\n",
        "### 🎯 Objectives\n",
        "\n",
        "In this notebook, you will:\n",
        "\n",
        "- become familiar with data types and their syntax in Python.\n",
        "- become familiar with arithmetic and comparison operators and their syntax in Python.\n",
        "\n",
        "This notebook is designed to guide you step-by-step."
      ]
    },
    {
      "cell_type": "markdown",
      "id": "L2cuO0C4vaIo",
      "metadata": {
        "id": "L2cuO0C4vaIo"
      },
      "source": [
        "## 📌 Section 1: Data Types and their Syntax in Python"
      ]
    },
    {
      "cell_type": "markdown",
      "id": "ZqP_ACeDNCTI",
      "metadata": {
        "id": "ZqP_ACeDNCTI"
      },
      "source": [
        "### 🔢 Basic Data Types"
      ]
    },
    {
      "cell_type": "markdown",
      "id": "meAUzZKJuzx3",
      "metadata": {
        "id": "meAUzZKJuzx3"
      },
      "source": [
        "What is a Variable?\n",
        "\n",
        "A variable is like a container or a label that holds a value in your computer’s memory.\n",
        "\n",
        "You use variables to store data (like numbers, text, or True/False values) so you can use or change them later in your program.\n",
        "\n",
        "How to Assign Values to Variables\n",
        "Use the assignment operator = to assign a value to a variable.\n",
        "\n",
        "The variable name goes on the left, and the value on the right.\n",
        "\n"
      ]
    },
    {
      "cell_type": "markdown",
      "id": "Wc9cdms6QQ3Q",
      "metadata": {
        "id": "Wc9cdms6QQ3Q"
      },
      "source": [
        "Python supports several built-in data types that are used to store different kinds of information, it has the following basic data types:\n",
        "\n",
        "1. Integer (int):\n",
        "\n",
        "  Represents whole numbers without decimals.\n",
        "\n",
        "  Just write the number.\n",
        "\n",
        "  Examples:"
      ]
    },
    {
      "cell_type": "code",
      "execution_count": null,
      "id": "xbXLHVxKKz7-",
      "metadata": {
        "id": "xbXLHVxKKz7-"
      },
      "outputs": [],
      "source": [
        "age = 30\n",
        "\n",
        "year = 2025"
      ]
    },
    {
      "cell_type": "markdown",
      "id": "YmekRVEAK2uW",
      "metadata": {
        "id": "YmekRVEAK2uW"
      },
      "source": [
        "2. Float (float):\n",
        "\n",
        "  Represents real numbers with decimal points.\n",
        "\n",
        "  Used when precision is needed for fractional values.\n",
        "\n",
        "  Examples:"
      ]
    },
    {
      "cell_type": "code",
      "execution_count": null,
      "id": "blX3HtJQLJan",
      "metadata": {
        "id": "blX3HtJQLJan"
      },
      "outputs": [],
      "source": [
        "pi = 3.14159\n",
        "\n",
        "temperature = -5.5"
      ]
    },
    {
      "cell_type": "markdown",
      "id": "vHrHTS-mLMnW",
      "metadata": {
        "id": "vHrHTS-mLMnW"
      },
      "source": [
        "3. String (str):\n",
        "\n",
        "  A sequence of characters enclosed in single '...' or double \"...\" quotes.\n",
        "\n",
        "  Can include letters, numbers, symbols, spaces.\n",
        "\n",
        "  Examples:"
      ]
    },
    {
      "cell_type": "code",
      "execution_count": null,
      "id": "GrMZZl2pLNGO",
      "metadata": {
        "id": "GrMZZl2pLNGO"
      },
      "outputs": [],
      "source": [
        "name = \"John\"\n",
        "\n",
        "greeting = 'Hello, World!'"
      ]
    },
    {
      "cell_type": "markdown",
      "id": "6OvDTb7hMGR2",
      "metadata": {
        "id": "6OvDTb7hMGR2"
      },
      "source": [
        "Multi-line strings use triple quotes:"
      ]
    },
    {
      "cell_type": "code",
      "execution_count": null,
      "id": "8GBkBbyoMGom",
      "metadata": {
        "id": "8GBkBbyoMGom"
      },
      "outputs": [],
      "source": [
        "text = \"\"\"This is\n",
        "a multi-line\n",
        "string.\"\"\""
      ]
    },
    {
      "cell_type": "markdown",
      "id": "VpsYVnnkMRfG",
      "metadata": {
        "id": "VpsYVnnkMRfG"
      },
      "source": [
        "Strings are immutable (cannot be changed after creation)."
      ]
    },
    {
      "cell_type": "markdown",
      "id": "PKB8H1aWL-zn",
      "metadata": {
        "id": "PKB8H1aWL-zn"
      },
      "source": [
        "4. Boolean (bool):\n",
        "\n",
        "  Represents truth values: True or False.\n",
        "\n",
        "  Useful in conditions and logical expressions.\n",
        "\n",
        "  Examples:"
      ]
    },
    {
      "cell_type": "code",
      "execution_count": null,
      "id": "tr-OrYLHL_Gu",
      "metadata": {
        "id": "tr-OrYLHL_Gu"
      },
      "outputs": [],
      "source": [
        "is_raining = False\n",
        "\n",
        "has_passed = True"
      ]
    },
    {
      "cell_type": "markdown",
      "id": "HCtCad4DN-Vn",
      "metadata": {
        "id": "HCtCad4DN-Vn"
      },
      "source": [
        "### 🔤 Variables and Naming Rules"
      ]
    },
    {
      "cell_type": "markdown",
      "id": "V8s3Hn4eOUv4",
      "metadata": {
        "id": "V8s3Hn4eOUv4"
      },
      "source": [
        "To avoid errors and make your code readable, follow these rules:\n",
        "\n",
        "1. Start with a letter (a-z, A-Z) or underscore _:"
      ]
    },
    {
      "cell_type": "code",
      "execution_count": null,
      "id": "qwDjSfCrQuBA",
      "metadata": {
        "id": "qwDjSfCrQuBA"
      },
      "outputs": [],
      "source": [
        "name = \"Bob\"\n",
        "\n",
        "_age = 25"
      ]
    },
    {
      "cell_type": "markdown",
      "id": "68sTikvAQwNn",
      "metadata": {
        "id": "68sTikvAQwNn"
      },
      "source": [
        "2. Can include letters, digits (0-9), and underscores _:"
      ]
    },
    {
      "cell_type": "code",
      "execution_count": null,
      "id": "qeom16ldQ0K_",
      "metadata": {
        "id": "qeom16ldQ0K_"
      },
      "outputs": [],
      "source": [
        "user_1 = \"Alice\"\n",
        "\n",
        "score2 = 99"
      ]
    },
    {
      "cell_type": "markdown",
      "id": "bg5-3kWZQ3Hv",
      "metadata": {
        "id": "bg5-3kWZQ3Hv"
      },
      "source": [
        "3. Cannot start with a digit:"
      ]
    },
    {
      "cell_type": "code",
      "execution_count": null,
      "id": "01IcojRdQ3ZJ",
      "metadata": {
        "id": "01IcojRdQ3ZJ"
      },
      "outputs": [],
      "source": [
        "2name = \"Charlie\" # Invalid"
      ]
    },
    {
      "cell_type": "markdown",
      "id": "d2TGzvXrREs3",
      "metadata": {
        "id": "d2TGzvXrREs3"
      },
      "source": [
        "4. Cannot use Python reserved keywords (special words the language uses):\n",
        "\n",
        "Examples of keywords:"
      ]
    },
    {
      "cell_type": "code",
      "execution_count": null,
      "id": "Klqo4PdFRKRf",
      "metadata": {
        "id": "Klqo4PdFRKRf"
      },
      "outputs": [],
      "source": [
        "if, else, for, while, def, return, class, import, True, False, None\n"
      ]
    },
    {
      "cell_type": "markdown",
      "id": "n0HMg6nlRRM3",
      "metadata": {
        "id": "n0HMg6nlRRM3"
      },
      "source": [
        "Trying to use these as variable names will cause an error:"
      ]
    },
    {
      "cell_type": "code",
      "execution_count": null,
      "id": "B7EZuDzMRQPz",
      "metadata": {
        "id": "B7EZuDzMRQPz"
      },
      "outputs": [],
      "source": [
        "if = 10  # Invalid"
      ]
    },
    {
      "cell_type": "markdown",
      "id": "wDpjB7I7RjnR",
      "metadata": {
        "id": "wDpjB7I7RjnR"
      },
      "source": [
        "### ♦️ Naming Conventions (Best Practices)\n",
        "\n",
        "Use snake_case for variable names: all lowercase letters, with words separated by underscores."
      ]
    },
    {
      "cell_type": "code",
      "execution_count": null,
      "id": "qHnN_AJsSR9Q",
      "metadata": {
        "id": "qHnN_AJsSR9Q"
      },
      "outputs": [],
      "source": [
        "first_name = \"David\"\n",
        "\n",
        "total_score = 88"
      ]
    },
    {
      "cell_type": "markdown",
      "id": "8_fO6Q4lSU7I",
      "metadata": {
        "id": "8_fO6Q4lSU7I"
      },
      "source": [
        "Make variable names meaningful and descriptive, so your code is easy to read and understand."
      ]
    },
    {
      "cell_type": "markdown",
      "id": "xXo5ZDIHSZF3",
      "metadata": {
        "id": "xXo5ZDIHSZF3"
      },
      "source": [
        "### ♦️ Variables Are Case-Sensitive\n",
        "\n",
        "Python distinguishes between uppercase and lowercase letters in variable names."
      ]
    },
    {
      "cell_type": "code",
      "execution_count": null,
      "id": "2NSxt80ISpmw",
      "metadata": {
        "id": "2NSxt80ISpmw"
      },
      "outputs": [],
      "source": [
        "name = \"Alice\"\n",
        "Name = \"Bob\"\n",
        "\n",
        "print(name)  # outputs: Alice\n",
        "print(Name)  # outputs: Bob"
      ]
    },
    {
      "cell_type": "markdown",
      "id": "eby_8DK3Ssbw",
      "metadata": {
        "id": "eby_8DK3Ssbw"
      },
      "source": [
        "name and Name are two different variables."
      ]
    },
    {
      "cell_type": "markdown",
      "id": "3LlWy2uLS3Hg",
      "metadata": {
        "id": "3LlWy2uLS3Hg"
      },
      "source": [
        "### ♦️ Variables Can Change Value (Mutable)\n",
        "\n",
        "You can assign a new value to an existing variable at any time."
      ]
    },
    {
      "cell_type": "code",
      "execution_count": null,
      "id": "B6WaObXNS_0I",
      "metadata": {
        "id": "B6WaObXNS_0I"
      },
      "outputs": [],
      "source": [
        "counter = 1\n",
        "print(counter)  # 1\n",
        "\n",
        "counter = counter + 1\n",
        "print(counter)  # 2"
      ]
    },
    {
      "cell_type": "markdown",
      "id": "okZDftQgwTwI",
      "metadata": {
        "id": "okZDftQgwTwI"
      },
      "source": [
        "## 📌 Section 2: Operators in Python"
      ]
    },
    {
      "cell_type": "markdown",
      "id": "1RoI-IWVTxOw",
      "metadata": {
        "id": "1RoI-IWVTxOw"
      },
      "source": [
        "In Python, operators are special symbols or keywords that are used to perform operations on values and variables. These include mathematical calculations, comparisons, logical operations, and more."
      ]
    },
    {
      "cell_type": "markdown",
      "id": "0kLOr_BeUC9Y",
      "metadata": {
        "id": "0kLOr_BeUC9Y"
      },
      "source": [
        "### 📐 Arithmetic Operators"
      ]
    },
    {
      "cell_type": "markdown",
      "id": "Z4nCOAE6UQk0",
      "metadata": {
        "id": "Z4nCOAE6UQk0"
      },
      "source": [
        "These operators are used to perform basic mathematical operations:"
      ]
    },
    {
      "cell_type": "markdown",
      "id": "Y4M5pgPGUcKJ",
      "metadata": {
        "id": "Y4M5pgPGUcKJ"
      },
      "source": [
        "1. Operator: +\n",
        "\n",
        "  Name: Addition\n",
        "\n",
        "  Description: Adds two.\n",
        "\n",
        "  Example:"
      ]
    },
    {
      "cell_type": "code",
      "execution_count": null,
      "id": "FxiUkmIbVKZO",
      "metadata": {
        "id": "FxiUkmIbVKZO"
      },
      "outputs": [],
      "source": [
        "print(10 + 5)     # 15"
      ]
    },
    {
      "cell_type": "markdown",
      "id": "Pk7xJm_hVNZK",
      "metadata": {
        "id": "Pk7xJm_hVNZK"
      },
      "source": [
        "2. Operator: -\n",
        "\n",
        "  Name: Subtraction\n",
        "\n",
        "  Description: Subtracts the second number from the first.\n",
        "\n",
        "  Example:\n"
      ]
    },
    {
      "cell_type": "code",
      "execution_count": null,
      "id": "wsw70_6nUQQB",
      "metadata": {
        "id": "wsw70_6nUQQB"
      },
      "outputs": [],
      "source": [
        "print(10 - 3)     # 7"
      ]
    },
    {
      "cell_type": "markdown",
      "id": "W9rZtVq-VN5x",
      "metadata": {
        "id": "W9rZtVq-VN5x"
      },
      "source": [
        "3. Operator: *\n",
        "\n",
        "  Name: Multiplication\n",
        "\n",
        "  Description: Multiplies two numbers.\n",
        "\n",
        "  Example:"
      ]
    },
    {
      "cell_type": "code",
      "execution_count": null,
      "id": "_cEw3uDHVKff",
      "metadata": {
        "id": "_cEw3uDHVKff"
      },
      "outputs": [],
      "source": [
        "print(4 * 6)      # 24"
      ]
    },
    {
      "cell_type": "markdown",
      "id": "20FCTmZjVOM5",
      "metadata": {
        "id": "20FCTmZjVOM5"
      },
      "source": [
        "4. Operator: /\n",
        "\n",
        "  Name: Division\n",
        "\n",
        "  Description: Divides the first number by the second.\n",
        "\n",
        "  Example:"
      ]
    },
    {
      "cell_type": "code",
      "execution_count": null,
      "id": "sgsN7SdSVKcL",
      "metadata": {
        "id": "sgsN7SdSVKcL"
      },
      "outputs": [],
      "source": [
        "print(9 / 2)      # 4.5"
      ]
    },
    {
      "cell_type": "markdown",
      "id": "SgHqlNQYWL-x",
      "metadata": {
        "id": "SgHqlNQYWL-x"
      },
      "source": [
        "5. Operator: //\n",
        "\n",
        "  Name: Floor Division\n",
        "\n",
        "  Description: Returns the integer part of the division.\n",
        "\n",
        "  Example:"
      ]
    },
    {
      "cell_type": "code",
      "execution_count": null,
      "id": "i8vNqEn5WR7J",
      "metadata": {
        "id": "i8vNqEn5WR7J"
      },
      "outputs": [],
      "source": [
        "print(9 // 2)     # 4"
      ]
    },
    {
      "cell_type": "markdown",
      "id": "upv1FVDuWeZJ",
      "metadata": {
        "id": "upv1FVDuWeZJ"
      },
      "source": [
        "6. Operator: %\n",
        "\n",
        "  Name: Modulus\n",
        "\n",
        "  Description: Returns the remainder of the division.\n",
        "\n",
        "  Example:"
      ]
    },
    {
      "cell_type": "code",
      "execution_count": null,
      "id": "PyWzs4LhWjfZ",
      "metadata": {
        "id": "PyWzs4LhWjfZ"
      },
      "outputs": [],
      "source": [
        "print(9 % 2)      # 1"
      ]
    },
    {
      "cell_type": "markdown",
      "id": "OS_BHSJzWj0p",
      "metadata": {
        "id": "OS_BHSJzWj0p"
      },
      "source": [
        "7. Operator: **\n",
        "\n",
        "  Name: Exponentiation\n",
        "\n",
        "  Description: Raises a number to the power of another.\n",
        "\n",
        "  Example:"
      ]
    },
    {
      "cell_type": "code",
      "execution_count": null,
      "id": "VCcyIvtsWkMR",
      "metadata": {
        "id": "VCcyIvtsWkMR"
      },
      "outputs": [],
      "source": [
        "print(3 ** 2)     # 9"
      ]
    },
    {
      "cell_type": "markdown",
      "id": "OsSKGEmUXHSJ",
      "metadata": {
        "id": "OsSKGEmUXHSJ"
      },
      "source": [
        "### 🔔 Note:\n",
        "\n",
        "⚠️ The / operator always returns a float, even if the result is a whole number.\n",
        "\n",
        "⚠️ The // operator performs integer division, removing any decimal part.\n",
        "\n",
        "⚠️ The % operator is useful for checking if a number is even or odd:"
      ]
    },
    {
      "cell_type": "code",
      "execution_count": null,
      "id": "0SLP8N6IXgYx",
      "metadata": {
        "id": "0SLP8N6IXgYx"
      },
      "outputs": [],
      "source": [
        "print(10 % 2 == 0)  # True → 10 is even\n",
        "\n",
        "print(7 % 2 == 1)   # True → 7 is odd"
      ]
    },
    {
      "cell_type": "markdown",
      "id": "ztCS5xCcXnjB",
      "metadata": {
        "id": "ztCS5xCcXnjB"
      },
      "source": [
        "### 🧪 Comparison Operators"
      ]
    },
    {
      "cell_type": "markdown",
      "id": "nPyTFhfiX4zh",
      "metadata": {
        "id": "nPyTFhfiX4zh"
      },
      "source": [
        "Comparison operators are used to compare two values. They return a Boolean value: True or False."
      ]
    },
    {
      "cell_type": "markdown",
      "id": "opwle9_gYGKB",
      "metadata": {
        "id": "opwle9_gYGKB"
      },
      "source": [
        "1. Operator: ==\n",
        "\n",
        "  Name: Equal to"
      ]
    },
    {
      "cell_type": "markdown",
      "id": "kPJnDrIjYG2x",
      "metadata": {
        "id": "kPJnDrIjYG2x"
      },
      "source": [
        "2. Operator: !=\n",
        "\n",
        "  Name: Not equal to"
      ]
    },
    {
      "cell_type": "markdown",
      "id": "yGRrlcEMYo_5",
      "metadata": {
        "id": "yGRrlcEMYo_5"
      },
      "source": [
        "3. Operator: >\n",
        "\n",
        "  Name: Greater than"
      ]
    },
    {
      "cell_type": "markdown",
      "id": "tkbbajLwYIZR",
      "metadata": {
        "id": "tkbbajLwYIZR"
      },
      "source": [
        "4. Operator: <\n",
        "\n",
        "  Name: Less than"
      ]
    },
    {
      "cell_type": "markdown",
      "id": "BBd2XLLzYJ9h",
      "metadata": {
        "id": "BBd2XLLzYJ9h"
      },
      "source": [
        "5. Operator: >=\n",
        "\n",
        "  Name: Greater than or equal"
      ]
    },
    {
      "cell_type": "markdown",
      "id": "Q4jPmuohYKft",
      "metadata": {
        "id": "Q4jPmuohYKft"
      },
      "source": [
        "6. Operator: <=\n",
        "\n",
        "  Name: Less than or equal"
      ]
    },
    {
      "cell_type": "code",
      "execution_count": null,
      "id": "OkGv2T2MYg2L",
      "metadata": {
        "id": "OkGv2T2MYg2L"
      },
      "outputs": [],
      "source": [
        "a = 10\n",
        "b = 5\n",
        "\n",
        "print(a == b)   # False\n",
        "print(a != b)   # True\n",
        "print(a > b)    # True\n",
        "print(a < b)    # False\n",
        "print(a >= 10)  # True\n",
        "print(b <= 3)   # False"
      ]
    },
    {
      "cell_type": "markdown",
      "id": "R69Q3SyFaBGa",
      "metadata": {
        "id": "R69Q3SyFaBGa"
      },
      "source": [
        "### (?) Operator Precedence (Order of Operations)"
      ]
    },
    {
      "cell_type": "markdown",
      "id": "kbGthefhaQGZ",
      "metadata": {
        "id": "kbGthefhaQGZ"
      },
      "source": [
        "Python follows operator precedence rules (like in mathematics). Some operations are evaluated before others.\n",
        "\n",
        "Precedence from highest to lowest:\n",
        "\n",
        "1. ** → Exponentiation\n",
        "\n",
        "2. *, /, //, % → Multiplication and division.\n",
        "\n",
        "3. +, - → Addition and subtraction.\n",
        "\n",
        "4. Comparisons: ==, !=, >, <, >=, <=\n",
        "\n",
        "Example:"
      ]
    },
    {
      "cell_type": "code",
      "execution_count": null,
      "id": "AZDi0Qn6ac6a",
      "metadata": {
        "id": "AZDi0Qn6ac6a"
      },
      "outputs": [],
      "source": [
        "result = 3 + 4 * 2     # 3 + (4*2) = 11\n",
        "\n",
        "result = (3 + 4) * 2   # (3+4) * 2 = 14"
      ]
    },
    {
      "cell_type": "markdown",
      "id": "4Wxapkfzahuz",
      "metadata": {
        "id": "4Wxapkfzahuz"
      },
      "source": [
        "Use parentheses () to control the order of evaluation explicitly."
      ]
    },
    {
      "cell_type": "markdown",
      "id": "va59wg9g8nFi",
      "metadata": {
        "id": "va59wg9g8nFi"
      },
      "source": [
        "## 📌 Section 3: Practical Use Cases"
      ]
    },
    {
      "cell_type": "markdown",
      "id": "NFr26oG5bfPy",
      "metadata": {
        "id": "NFr26oG5bfPy"
      },
      "source": [
        "### 📝 Exercise 1: Even or Odd\n",
        "\n",
        "Write a program that:\n",
        "\n",
        "checks whether a number is even or odd.\n",
        "\n",
        "Try running this code:"
      ]
    },
    {
      "cell_type": "code",
      "execution_count": null,
      "id": "CdnEvKuPcJRH",
      "metadata": {
        "id": "CdnEvKuPcJRH"
      },
      "outputs": [],
      "source": [
        "num = int(input(\"Enter a number: \"))\n",
        "\n",
        "if num % 2 == 0:\n",
        "    print(\"The number is even.\")\n",
        "\n",
        "else:\n",
        "    print(\"The number is odd.\")"
      ]
    },
    {
      "cell_type": "markdown",
      "id": "xAWCFq9NBCET",
      "metadata": {
        "id": "xAWCFq9NBCET"
      },
      "source": [
        "### 📝 More Exercises:"
      ]
    },
    {
      "cell_type": "markdown",
      "id": "xsh-GL2IBj47",
      "metadata": {
        "id": "xsh-GL2IBj47"
      },
      "source": [
        "### 📝 Exercise 2: Positive, Negative, or Zero\n",
        "\n",
        "Write a program that:\n",
        "\n",
        "Check if a Number is Positive, Negative, or Zero.\n",
        "\n",
        "Try running this code:"
      ]
    },
    {
      "cell_type": "code",
      "execution_count": null,
      "id": "gy2Xxn5Gcjn6",
      "metadata": {
        "id": "gy2Xxn5Gcjn6"
      },
      "outputs": [],
      "source": [
        "number = float(input(\"Enter a number: \"))\n",
        "\n",
        "if number > 0:\n",
        "    print(\"The number is positive.\")\n",
        "\n",
        "elif number < 0:\n",
        "    print(\"The number is negative.\")\n",
        "\n",
        "else:\n",
        "    print(\"The number is zero.\")"
      ]
    },
    {
      "cell_type": "markdown",
      "id": "L18unZN9bl05",
      "metadata": {
        "id": "L18unZN9bl05"
      },
      "source": [
        "### 📝 Exercise 3: Simple Calculator (Add, Subtract, Multiply, Divide)\n",
        "\n",
        "Write a program that:\n",
        "\n",
        "ژalculate the sum, difference, product, and quotient of two numbers.\n",
        "\n",
        "Try running this code:"
      ]
    },
    {
      "cell_type": "code",
      "execution_count": null,
      "id": "J1lwCFo7dSLj",
      "metadata": {
        "id": "J1lwCFo7dSLj"
      },
      "outputs": [],
      "source": [
        "num1 = float(input(\"Enter first number: \"))\n",
        "num2 = float(input(\"Enter second number: \"))\n",
        "\n",
        "print(\"Addition:\", num1 + num2)\n",
        "print(\"Subtraction:\", num1 - num2)\n",
        "print(\"Multiplication:\", num1 * num2)\n",
        "print(\"Division:\", num1 / num2)"
      ]
    },
    {
      "cell_type": "markdown",
      "id": "vCFycNAfbmLy",
      "metadata": {
        "id": "vCFycNAfbmLy"
      },
      "source": [
        "### 📝 Exercise 4: Find the Remainder (Modulo)\n",
        "\n",
        "Write a program that:\n",
        "\n",
        "Find the remainder of two numbers.\n",
        "\n",
        "Try running this code:"
      ]
    },
    {
      "cell_type": "code",
      "execution_count": null,
      "id": "EDh64Ac3dV9F",
      "metadata": {
        "id": "EDh64Ac3dV9F"
      },
      "outputs": [],
      "source": [
        "a = int(input(\"Enter first number: \"))\n",
        "b = int(input(\"Enter second number: \"))\n",
        "\n",
        "if a > b:\n",
        "    print(\"The first number is greater.\")\n",
        "\n",
        "elif a < b:\n",
        "    print(\"The second number is greater.\")\n",
        "\n",
        "else:\n",
        "    print(\"Both numbers are equal.\")"
      ]
    },
    {
      "cell_type": "markdown",
      "id": "RTkc14cjbmle",
      "metadata": {
        "id": "RTkc14cjbmle"
      },
      "source": [
        "### 📝 Exercise 5: Challenge Swap\n",
        "\n",
        "Write a program that:\n",
        "\n",
        "Swap Two Numbers Without Using a Third Variable.\n",
        "\n",
        "Try running this code:"
      ]
    },
    {
      "cell_type": "code",
      "execution_count": null,
      "id": "4JZ_JeQmdXFi",
      "metadata": {
        "id": "4JZ_JeQmdXFi"
      },
      "outputs": [],
      "source": [
        "a = int(input(\"Enter value for a: \"))\n",
        "b = int(input(\"Enter value for b: \"))\n",
        "\n",
        "# Swapping\n",
        "a = a + b\n",
        "b = a - b\n",
        "a = a - b\n",
        "\n",
        "print(\"After swapping:\")\n",
        "print(\"a =\", a)\n",
        "print(\"b =\", b)"
      ]
    },
    {
      "cell_type": "markdown",
      "id": "UUuEpkUPDFlT",
      "metadata": {
        "id": "UUuEpkUPDFlT"
      },
      "source": [
        "### 🔥 Wrap-Up\n",
        "Thanks for completing this part of your Python journey!\n",
        "In this notebook, you explored the core building blocks of any program — data types, variables, and operators.\n",
        "These are the foundations upon which all programming logic is built.\n",
        "\n",
        "You've also learned how to:\n",
        "\n",
        "Declare and name variables properly\n",
        "\n",
        "Use arithmetic and comparison operators\n",
        "\n",
        "Understand the difference between data types like strings, numbers, and booleans\n",
        "\n",
        "Keep experimenting and combining what you’ve learned so far. You're building the essential tools for solving real-world problems with code.\n",
        "\n",
        "### 🙌 Well Done!\n",
        "You’ve successfully completed this section! 🎉\n",
        "Great progress — you're becoming more confident in using Python to process data and make decisions.\n",
        "\n",
        "### 💡 Remember:\n",
        "Programming is like solving puzzles — it’s okay to make mistakes.\n",
        "The key is to keep practicing and stay curious. 🔍"
      ]
    }
  ],
  "metadata": {
    "colab": {
      "provenance": []
    },
    "kernelspec": {
      "display_name": "datascience",
      "language": "python",
      "name": "python3"
    },
    "language_info": {
      "codemirror_mode": {
        "name": "ipython",
        "version": 3
      },
      "file_extension": ".py",
      "mimetype": "text/x-python",
      "name": "python",
      "nbconvert_exporter": "python",
      "pygments_lexer": "ipython3",
      "version": "3.12.11"
    }
  },
  "nbformat": 4,
  "nbformat_minor": 5
}
